{
 "metadata": {
  "name": "Session8"
 },
 "nbformat": 3,
 "nbformat_minor": 0,
 "worksheets": [
  {
   "cells": [
    {
     "cell_type": "markdown",
     "metadata": {},
     "source": [
      "# Session 8 : Interactive Python, Notebooks and Spyder\n",
      "\n",
      "## Learning Objectives\n",
      "\n",
      "* Learn to use the Python Interpreter interactively\n",
      "* Learn to use the IPython Interpreter interactively\n",
      "* Learn to create IPython notebooks\n",
      "* Learn to work in an integrated developement environment\n",
      "\n",
      "## 8.1 Python Interpreters\n",
      "\n",
      "So far in the course we have focused on developing programs in Python using a text editor and running the program on the command line.  This is common practice in writing programs that involve processing data.  Python is also a great environment for doing scientific calculations and graphing.  When doing calculations and graphing it is often cumbersome to be working in a text editor.  The Python Interpreter can be run in interactive mode by simply typing python at the command line, and interactively typing python code into the interpreter. \n",
      "\n",
      "<pre>\n",
      "jlb@GoEcology:~$ python\n",
      "Python 2.7.5+ (default, Sep 19 2013, 13:48:49) \n",
      "[GCC 4.8.1] on linux2\n",
      "Type \"help\", \"copyright\", \"credits\" or \"license\" for more information.\n",
      ">>>\n",
      "</pre>\n",
      "\n",
      "The >>> is a prompt to enter commands, like in the shell, but now we can enter any Python code that we want. I'll be using it from now on to indicate anything that will go into an interactive interpreter, as opposed to into a file. Let's start by making a variable\n",
      "\n",
      "<pre>\n",
      ">>> x = 1\n",
      "</pre>\n",
      "\n",
      "Nothing happened... or did it?\n",
      "\n",
      "<pre>\n",
      ">>> print x\n",
      "1\n",
      ">>> x\n",
      "1\n",
      ">>> \n",
      "</pre>\n",
      "\n",
      "As it turns out, we so often want to see the value of something from the interactive interpreter that we can just type the name of the variable (or many other expressions without an assignment in them), and the interpreter will print them out for us. The intrepreter will also return the result of a calculation without any request.\n",
      "\n",
      "<pre>\n",
      ">>> x * 3\n",
      "3\n",
      "</pre>\n",
      "\n",
      "Type help more information on the Interative Python Interpreter.\n",
      "\n",
      "Type quit() or Ctrl-D to exit the Interative Python Interpreter.\n"
     ]
    },
    {
     "cell_type": "markdown",
     "metadata": {},
     "source": [
      "## 8.2 IPython Interpreters\n",
      "\n",
      "<a href=\"http://scipy.org/\" target=\"_blank\">SciPy</a> (pronounced \u201cSigh Pie\u201d) is a Python-based ecosystem of open-source software for mathematics, science, and engineering. In particular, these are some of the core packages:\n",
      "\n",
      " * NumPy - Base N-dimensional array package\n",
      " * SciPy library Fundamental library for scientific computing\n",
      " * Matplotlib - Comprehensive 2D Plotting\n",
      " * IPython - Enhanced Interactive Console\n",
      " * Sympy - Symbolic mathematics\n",
      " * Pandas - Data structures; analysis\n",
      "\n",
      "Included in SciPy is IPython, an enhanced interactive Python shell for coding, debugging, and interactive plotting that is particularly useful for scientific computing.  Some of the many useful features of IPython includes:\n",
      "\n",
      "* Command history, which can be browsed with the up and down arrows on the keyboard.\n",
      "* Tab auto-completion.\n",
      "* In-line editing of code.\n",
      "* Object introspection, and automatic extract of documentation strings from python objects like classes and functions.\n",
      "* Good interaction with operating system shell.\n",
      "* Support for multiple parallel back-end processes, that can run on computing clusters or cloud services like Amazon EE2.\n",
      "\n",
      "Most of you should already have IPython installed, since it comes with the Enthought Canopy and Anaconda.  Test by typing\n",
      "\n",
      "<pre>\n",
      "jlb@GoEcology:~$ ipython\n",
      "Python 2.7.5+ (default, Sep 19 2013, 13:48:49) \n",
      "Type \"copyright\", \"credits\" or \"license\" for more information.\n",
      "\n",
      "IPython 0.13.2 -- An enhanced Interactive Python.\n",
      "?         -> Introduction and overview of IPython's features.\n",
      "%quickref -> Quick reference.\n",
      "help      -> Python's own help system.\n",
      "object?   -> Details about 'object', use 'object??' for extra details.\n",
      "\n",
      "In [1]: \n",
      "</pre>\n",
      "\n",
      "\n",
      "If IPython is note installed on your computer, please follow the directions <a href =\"http://ipython.org/install.html\"target=\"_blank\">Python/IPython</a> site.  \n",
      "\n",
      "In general the Interactive IPython Interpreter works similarly to the Python Interpreter\n",
      "\n",
      "<pre>\n",
      "In [1]: x = 1\n",
      "\n",
      "In [2]: x\n",
      "Out[2]: 1\n",
      "\n",
      "In [3]: x * 3\n",
      "Out[3]: 3\n",
      "</pre>\n",
      "\n",
      "Here is a fun beginning IPython tutorial <a href=\"http://www.youtube.com/watch?v=H6dLGQw9yFQ\"target=\"_blank\">set to music</a>.  \n",
      "\n",
      "For more information see the IPython documentation, tutorials and tips - http://ipython.org/ipython-doc/stable/interactive/tutorial.html\n"
     ]
    },
    {
     "cell_type": "markdown",
     "metadata": {},
     "source": [
      "## 8.3 IPython Notebooks\n",
      "\n",
      "IPhyton noteboods are a good way to share a work flow or start coding.  You are already familar with the look of these notebooks since I have been using them for developing the tutorials for this class.   For those familiar with Mathematica may feel right at home with this approach as IPython emulates many features of their notebook. Notebooks may be exported to HTML, LaTeX, PDF, and slide shows.\n",
      "\n",
      "Most of you should already have IPython installed, since it comes with the Enthought Canopy and Anaconda.  Test by typing in either the terminal (OS X and other unix systems) or the command interpreter/prompt (Windows)\n",
      "\n",
      "<pre>\n",
      "ipython notebook\n",
      "</pre>\n",
      "\n",
      "The IPython dashboard should appear in your browser.   You can also launch IPython notebooks from within the Anaconda Launch Pad.  \n",
      "\n",
      "The IPython notebooks can be used to write instructions and notes using a simplified html language called Markdown.  Here is a <a href =\"https://github.com/adam-p/markdown-here/wiki/Markdown-Cheatsheet\"target=\"_blank\">Markdown cheat sheet</a> with the basic syntax.  There are also code blocks that can be used to write code and the code can be run from within the notebook.\n"
     ]
    },
    {
     "cell_type": "code",
     "collapsed": false,
     "input": [
      "#!/usr/bin/env python\n",
      "\n",
      "# Example 8.1 \n",
      "# Name: scatter_plot.py\n",
      "# Description: A simple demo of a scatter plot.\n",
      "\n",
      "# The below line is necessary to have the graph appear in the Ipython notebook\n",
      "# If the line is not specified the graph will appear in a separate window\n",
      "\n",
      "%pylab inline\n",
      "\n",
      "# Import modules\n",
      "import numpy as np\n",
      "import matplotlib.pyplot as plt\n",
      "\n",
      "N = 50\n",
      "x = np.random.rand(N)\n",
      "y = np.random.rand(N)\n",
      "area = np.pi * (15 * np.random.rand(N))**2 # 0 to 15 point radiuses\n",
      "\n",
      "plt.scatter(x, y, s=area, alpha=0.5)\n",
      "plt.show()"
     ],
     "language": "python",
     "metadata": {},
     "outputs": [
      {
       "output_type": "stream",
       "stream": "stdout",
       "text": [
        "\n",
        "Welcome to pylab, a matplotlib-based Python environment [backend: module://IPython.zmq.pylab.backend_inline].\n",
        "For more information, type 'help(pylab)'.\n"
       ]
      },
      {
       "output_type": "display_data",
       "png": "[encoded data removed]"
      }
     ],
     "prompt_number": 7
    },
    {
     "cell_type": "markdown",
     "metadata": {},
     "source": [
      "The resulting graphs are also display in the notebook.\n",
      "\n",
      "If you move into a directory containing exisiting notebooks (*.ipynb files) before you launch then these notebooks will appear in your browser.  Alternatively you can drag and drop or directly upload exisiting notebooks.   \n",
      "\n",
      "You can save your Notebooks and close the IPython Dashboard.  To close out the IPython process in the terminal/command prompt you need to hit \"ctr c\"."
     ]
    },
    {
     "cell_type": "markdown",
     "metadata": {},
     "source": [
      "## Integrated Development Environments (IDE)\n",
      "\n",
      "An integrated development environment (IDE) or interactive development environment is programming environment integrated into a software application that usually provides a GUI builder, a text or code editor, a compiler and/or interpreter and a debugger.  There are many open source and commercial IDEs for python.  <a href =\"http://code.google.com/p/spyderlib/\"target=\"_blank\">Spyder</a> (Scientific PYthon Development EnviRonment) combines a text editor, an integrated python shell (python or ipython), support for interactive plotting via matplotlib as well as several other features to tie everything together.  For R users, it has a similar feel to R Studio.  For Matlab users, there is a YouTube video that includes customizing Spyder to resemble the Matlab interface - <a href=\"http://www.youtube.com/watch?v=_p0Jk8Vemn8\"target=\"_blank\">YouTube Sypder video</a>\n",
      "\n",
      "If you installed Anaconda, Spyder comes with it.  You can launch Spyder through your application or programmer manager by clicking on the icon.\n",
      "\n",
      "In the left hand pane is the Spyder editor which is similar to the text editor you have been using.  Type an example program into the Spyder editor"
     ]
    },
    {
     "cell_type": "code",
     "collapsed": false,
     "input": [
      "#!/usr/bin/env python\n",
      "\n",
      "# Example 8.2 \n",
      "# Name: Whats_your_name.py\n",
      "# Description: A simple demo in Spyder\n",
      "\n",
      "user = raw_input(\"What's your name? \")\n",
      "print 'hello %s!' % (user)\n"
     ],
     "language": "python",
     "metadata": {},
     "outputs": []
    },
    {
     "cell_type": "markdown",
     "metadata": {},
     "source": [
      "Either press F5 or Click on Run -> and you will see\n",
      "\n",
      "<pre>\n",
      "What's your name\n",
      "</pre>\n",
      "\n",
      "appear in the console.  You can type your name into the console to complete the running of the program.  You can also select parts of the code to run using F9 or Run -> Run selection or current block.  \n",
      "\n",
      "Run the following block of code after pasting it into the editor"
     ]
    },
    {
     "cell_type": "code",
     "collapsed": false,
     "input": [
      "#!/usr/bin/env python\n",
      "\n",
      "# Example 8.3 \n",
      "# Name: Countour_demo.py\n",
      "# Description: A demo of a contour plot in Spyder\n",
      "\n",
      "import matplotlib.pyplot as plt\n",
      "from matplotlib.colors import BoundaryNorm\n",
      "from matplotlib.ticker import MaxNLocator\n",
      "import numpy as np\n",
      "\n",
      "\n",
      "# make these smaller to increase the resolution\n",
      "dx, dy = 0.05, 0.05\n",
      "\n",
      "# generate 2 2d grids for the x & y bounds\n",
      "y, x = np.mgrid[slice(1, 5 + dy, dy),\n",
      "                slice(1, 5 + dx, dx)]\n",
      "\n",
      "z = np.sin(x) ** 10 + np.cos(10 + y * x) * np.cos(x)\n",
      "\n",
      "# x and y are bounds, so z should be the value *inside* those bounds.\n",
      "# Therefore, remove the last value from the z array.\n",
      "z = z[:-1, :-1]\n",
      "levels = MaxNLocator(nbins=15).tick_values(z.min(), z.max())\n",
      "\n",
      "\n",
      "# pick the desired colormap, sensible levels, and define a normalization\n",
      "# instance which takes data values and translates those into levels.\n",
      "cmap = plt.get_cmap('PiYG')\n",
      "norm = BoundaryNorm(levels, ncolors=cmap.N, clip=True)\n",
      "\n",
      "plt.subplot(2, 1, 1)\n",
      "im = plt.pcolormesh(x, y, z, cmap=cmap, norm=norm)\n",
      "plt.colorbar()\n",
      "# set the limits of the plot to the limits of the data\n",
      "plt.axis([x.min(), x.max(), y.min(), y.max()])\n",
      "plt.title('pcolormesh with levels')\n",
      "\n",
      "\n",
      "\n",
      "plt.subplot(2, 1, 2)\n",
      "# contours are *point* based plots, so convert our bound into point\n",
      "# centers\n",
      "plt.contourf(x[:-1, :-1] + dx / 2.,\n",
      "             y[:-1, :-1] + dy / 2., z, levels=levels,\n",
      "             cmap=cmap)\n",
      "plt.colorbar()\n",
      "plt.title('contourf with levels')\n",
      "\n",
      "\n",
      "plt.show()"
     ],
     "language": "python",
     "metadata": {},
     "outputs": []
    },
    {
     "cell_type": "markdown",
     "metadata": {},
     "source": [
      "The interactive plotting window contains options for editing the graph.  The plots can be saved in several different formats by clicking on the save button. \n",
      "\n",
      "There are many other beautiful examples in the <a href=\"http://matplotlib.org/gallery.html\"target=\"_blank\">matplotlib gallery</a>\n",
      "\n",
      "You may have also noticed that in the console there is an Python 1 tab in which you can write Python interactively as you did above yours the basic interpreter.\n",
      "\n",
      "You can also use the Interactive Python and IPython Interpreters in Spyder by selection Interpreter -> Open a Python Interpreter or an IPython console.\n",
      "\n",
      "### Spyder Documentation and tutorials\n",
      "\n",
      "* <a href=\"http://pythonhosted.org/spyder/\"target=\"_blank\">Spyder Documentation</a>\n",
      "* <a href=\"http://conferences.ncl.ac.uk/sciprog/Presentations/python_processing_spyder_v1.0.2.pdf\"target=\"_blank\">Introduction to numerical processing in Python using Spyder</a>\n"
     ]
    },
    {
     "cell_type": "markdown",
     "metadata": {},
     "source": [
      "## SciPy related Tutorials\n",
      "\n",
      "Here are a few tutorials that I recommend going through\n",
      "\n",
      " * <a href=\"http://matplotlib.org/users/pyplot_tutorial.html\" target=\"_blank\">matplotlib User's Guide and Tutorials</a>\n",
      " * <a href=\"http://www.loria.fr/~rougier/teaching/matplotlib/#ipython-and-the-pylab-mode\" target=\"_blank\">matplotlib beginner tutorial by Nicolas Rougier </a> \n",
      " * <a href=\"http://wiki.scipy.org/Tentative_NumPy_Tutorial\" target=\"_blank\">Numpy Tutorial</a>\n",
      " * <a href=\"http://127.0.0.1:8889/502434f7-7211-4a5b-80d3-fcc0e8ebfd15\" target=\"_blank\">matplotlib - 2D and 3D plotting in Python</a>\n"
     ]
    },
    {
     "cell_type": "markdown",
     "metadata": {},
     "source": [
      "## Exercises \n",
      "\n",
      "The goal of this session is to make sure that the above Python software is working and get you familar with working in the these environments.  \n",
      "\n",
      "* Python\n",
      "* IPython\n",
      "* Ipython notebook\n",
      "* Sypder"
     ]
    },
    {
     "cell_type": "markdown",
     "metadata": {},
     "source": [
      "1. Write an IPython notebook that contains the following code and produces and inline plot\n",
      "\n",
      "<pre>\n",
      "import matplotlib.pyplot as plt\n",
      "plt.plot([1,2,3,4], [1,4,9,16], 'ro')\n",
      "plt.axis([0, 6, 0, 20])\n",
      "plt.show()\n",
      "</pre>\n"
     ]
    },
    {
     "cell_type": "markdown",
     "metadata": {},
     "source": [
      "* Next - <a href=\"http://nbviewer.ipython.org/urls/raw.github.com/jeffreyblanchard/AdvGen/master/Session9.ipynb\">Session 9 : Sequence Alignment and the Dynamic Programming Algorithm </a>\n",
      "* Previous - <a href=\"http://nbviewer.ipython.org/urls/raw.github.com/jeffreyblanchard/AdvGen/master/Session7.ipynb\">Session 7 : Functions and Modules</a> "
     ]
    }
   ],
   "metadata": {}
  }
 ]
}