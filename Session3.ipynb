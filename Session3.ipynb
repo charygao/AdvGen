{
 "metadata": {
  "name": "Session3"
 },
 "nbformat": 3,
 "nbformat_minor": 0,
 "worksheets": [
  {
   "cells": [
    {
     "cell_type": "markdown",
     "metadata": {},
     "source": [
      "# Session 3 Getting and Evaluating Input\n",
      "\n",
      "## Learning Objectives\n",
      "\n",
      "* Getting input from the keyboard\n",
      "* Reading files into a program\n",
      "* Escapes\n",
      "* Conditional statements\n",
      "* Writing results into files\n",
      "\n",
      "\n",
      "## 3.1 Getting input from the user\n",
      "\n",
      "While there are several ways to gather data from the outside world, the simplest is to just ask. In Python, a program asks for information from the user with the raw_input() function. "
     ]
    },
    {
     "cell_type": "code",
     "collapsed": false,
     "input": [
      "#!/usr/bin/env python\n",
      "\n",
      "# Example 3.1 \n",
      "# Name: user_input.py\n",
      "# Description:  This program asks the user their name, \n",
      "# captures the response and prints a greeting\n",
      "\n",
      "# Ask the program users a question and get information\n",
      "# from the terminal or command prompt into the program\n",
      "user = input(\"Hello!  What is your name? \")\n",
      "\n",
      "# IF YOU ARE USING AN OLDER VERSION OF PYTHON 2.* input should be renamed raw_input\n",
      "user = raw_input(\"Hello!  What is your name? \")\n",
      "    \n",
      "# Print a response to the user    \n",
      "print 'Nice to meet you %s.' % (user)"
     ],
     "language": "python",
     "metadata": {},
     "outputs": []
    },
    {
     "cell_type": "markdown",
     "metadata": {},
     "source": [
      "The raw_input() function prompts the user by printing to the screen whatever value is given in the parentheses immediately following the raw_input call, (in this case asking \"Hello! What is your name?\") and then waits for the user to type whatever they want for as long as they feel like, until the user hits enter. raw_input () then takes everything up until the user hits enter and returns that as a string. After taking this input, we just serve it right back out (employing the string interpolation trick we learned last session).\n"
     ]
    },
    {
     "cell_type": "markdown",
     "metadata": {},
     "source": [
      "## 3.2  Reading files into a program as a string\n",
      "\n",
      "Now that we can process text, all we need is... more text. \n",
      "\n",
      "### Opening filehandles\n",
      "\n",
      "A filehandle is an object that controls the stream of information between your program and a file stored somewhere on the computer. Filehandles are not filenames, and they are not the files themselves. They are a tool that your program uses to interact with files.  We create filehandles in the simplest sense with the open() command.  The read() method of the filehandle puts the contents of the file into a single string variable and then we can do some calculations or manipulations on the text file.  Copy and paste the mRNA sequence for the human p53 gene from NCBI http://www.ncbi.nlm.nih.gov/nuccore/23491728?report=fasta into a text file (using Text Wranger, Notepad ++, etc) and save as p53_mRNA.fasta. Include the header line \">gi|23491728|dbj|AB082923.1| Homo sapiens mRNA for P53, complete cds\" following by the nucleotide sequence.  Then make a second file p53_mRNA.txt that only includes the nucleotide sequence and no header. Put these files in your working directory (AdvGen or Bioinformatics or YOURNAME)."
     ]
    },
    {
     "cell_type": "code",
     "collapsed": false,
     "input": [
      "#!/usr/bin/env python\n",
      "\n",
      "# Example 3.2\n",
      "# Name: read_mRNA_file.py\n",
      "# Description: A program to read a mRNA sequence from a file and print it out\n",
      "\n",
      "# Open the file\n",
      "fh = open('p53_mRNA.txt', 'r')\n",
      "\n",
      "# Read the file into a variable or list\n",
      "mRNA = fh.read()\n",
      "\n",
      "# Close the file\n",
      "fh.close()\n",
      "\n",
      "print mRNA"
     ],
     "language": "python",
     "metadata": {},
     "outputs": [
      {
       "output_type": "stream",
       "stream": "stdout",
       "text": [
        "CGTGCTTTCCACGACGGTGACACGCTTCCCTGGATTGGCCAGACTGCCTTCCGGGTCACTGCCATGGAGG\n",
        "AGCCGCAGTCAGATCCTAGCGTCGAGCCCCCTCTGAGTCAGGAAACATTTTCAGACCTATGGAAACTACT\n",
        "TCCTGAAAACAACGTTCTGTCCCCCTTGCCGTCCCAAGCAATGGATGATTTGATGCTGTCCCCGGACGAT\n",
        "ATTGAACAATGGTTCACTGAAGACCCAGGTCCAGATGAAGCTCCCAGAATGCCAGAGGCTGCTCCCCGCG\n",
        "TGGCCCCTGCACCAGCAGCTCCTACACCGGCGGCCCCTGCACCAGCCCCCTCCTGGCCCCTGTCATCTTC\n",
        "TGTCCCTTCCCAGAAAACCTACCAGGGCAGCTACGGTTTCCGTCTGGGCTTCTTGCATTCTGGGACAGCC\n",
        "AAGTCTGTGACTTGCACGTACTCCCCTGCCCTCAACAAGATGTTTTGCCAACTGGCCAAGACCTGCCCTG\n",
        "TGCAGCTGTGGGTTGATTCCACACCCCCGCCCGGCACCCGCGTCCGCGCCATGGCCATCTACAAGCAGTC\n",
        "ACAGCACATGACGGAGGTTGTGAGGCGCTGCCCCCACCATGAGCGCTGCTCAGATAGCGATGGTCTGGCC\n",
        "CCTCCTCAGCATCTTATCCGAGTGGAAGGAAATTTGCGTGTGGAGTATTTGGATGACAGAAACACTTTTC\n",
        "GACATAGTGTGGTGGTGCCCTATGAGCCGCCTGAGGTTGGCTCTGACTGTACCACCATCCACTACAACTA\n",
        "CATGTGTAACAGTTCCTGCATGGGCGGCATGAACCGGAGGCCCATCCTCACCATCATCACACTGGAAGAC\n",
        "TCCAGTGGTAATCTACTGGGACGGAACAGCTTTGAGGTGCATGTTTGTGCCTGTCCTGGGAGAGACCGGC\n",
        "GCACAGAGGAAGAGAATCTCCGCAAGAAAGGGGAGCCTCACCACGAGCTGCCCCCAGGGAGCACTAAGCG\n",
        "AGCACTGTCCAACAACACCAGCTCCTCTCCCCAGCCAAAGAAGAAACCACTGGATGGAGAATATTTCACC\n",
        "CTTCAGATCCGTGGGCGTGAGCGCTTCGAGATGTTCCGAGAGCTGAATGAGGCCTTGGAACTCAAGGATG\n",
        "CCCAGGCTGGGAAGGAGCCAGGGGGGAGCAGGGCTCACTCCAGCCACCTGAAGTCCAAAAAGGGTCAGTC\n",
        "TACCTCCCGCCATAAAAAACTCATGTTCAAGACAGAAGGGCCTGACTCAGACTGACATTCTCCACTTCTT\n",
        "GTTCCCCACTGACAGCCTCCCACCCCCATCTCTCCCTCCCCTGCCATTTTGGGTTTTGGGTCTTTGAACC\n",
        "CTTGCTTGCAATAGGTGTGCGTCAGAAGCACCCAGGACTTCCATTTGCTTTGTCCCGGGGCTCCACTGAA\n",
        "CAAGTTGGCCTGCACTGGTGTTTTGTTGTGGGGAGGAGGATGGGGAGTAGGACATACCAGCTTAGATTTT\n",
        "AAGGTTTTTACTGTGAGGGATGTTTGGGAGATGTAAGAAATGTTCTTGCAGTTAAGGGTTAGTTTACAAT\n",
        "CAGCCACATTCTAGGTAGGGGCCCACTTCACCGTACTAACCAGGGAAGCTGTCCCTCACTGTTGAATTTT\n",
        "CTCTAACTTCAAGGCCCATATCTGTGAAATGCTGGCATTTGCACCTACCTCACAGAGTGCATTGTGAGGG\n",
        "TTAATGAAATAATGTACATCTGGCCTTGAAACCACCTTTTATTACATGGGGTCTAGAACTTGACCCCCTT\n",
        "GAGGGTGCTTGTTCCCTCTCCCTGTTGGTCGGTGGGTTGGTAGTTTCTACAGTTGGGCAGCTGGTTAGGT\n",
        "AGAGGGAGTTGTCAAGTCTCTGCTGGCCCAGCCAAACCCTGTCTGACAACCTCTTGGTGAACCTTAGTAC\n",
        "CTAAAAGGAAATCTCACCCCATCCCACACCCTGGAGGATTTCATCTCTTGTATATGATGATCTGGATCCA\n",
        "CCAAGACTTGTTTTATGCTCAGGGTCAATTTCTTTTTTCTTTTTTTTTTTTTTTTTCTTTTTCTTTGAGA\n",
        "CTGGGTCTCGCTTTGTTGCCCAGGCTGGAGTGGAGTGGCGTGATCTTGGCTTACTGCAGCCTTTGCCTCC\n",
        "CCGGCTCGAGCAGTCCTGCCTCAGCCTCCGGAGTAGCTGGGACCACAGGTTCATGCCACCATGGCCAGCC\n",
        "AACTTTTGCATGTTTTGTAGAGATGGGGTCTCACAGTGTTGCCCAGGCTGGTCTCAAACTCCTGGGCTCA\n",
        "GGCGATCCACCTGTCTCAGCCTCCCAGAGTGCTGGGATTACAATTGTGAGCCACCACGTCCAGCTGGAAG\n",
        "GGTCAACATCTTTTACATTCTGCAAGCACATCTGCATTTTCACCCCACCCTTCCCCTCCTTCTCCCTTTT\n",
        "TATATCCCATTTTTATATCGATCTCTTATTTTACAATAAAACTTTGCTGCCAAAAAAAAAAAAAAAAAAA\n",
        "A\n",
        "\n",
        "\n"
       ]
      }
     ],
     "prompt_number": 1
    },
    {
     "cell_type": "markdown",
     "metadata": {},
     "source": [
      "In the statement fh = open('p53_mRNA.txt', 'r') The first argument is a string containing the filename. The second argument is another string containing a few characters describing the way in which the file will be used. The mode is'r' when the file will only be read, 'w' for only writing (an existing file with the same name will be erased), and 'a' opens the file for appending; any data written to the file is automatically added to the end. 'r+' opens the file for both reading and writing. The mode argument is optional; 'r' will be assumed if it\u2019s omitted.  It is good practice to define the files the your are reading from and writing to separately so that you don't accidentally overwrite a file.\n",
      "\n",
      "Since the above progam loads the whole file into a string, we could use any number of string methods, including those from the last session to characterize this mRNA sequence.  Here is an example:"
     ]
    },
    {
     "cell_type": "code",
     "collapsed": false,
     "input": [
      "#!/usr/bin/env python\n",
      "\n",
      "# Example 3.3\n",
      "# Name: count_nucleotides.py\n",
      "# Description: A program to read a mRNA sequence from a file and print it out\n",
      "\n",
      "# Open the file\n",
      "fh = open('p53_mRNA.txt', 'r')\n",
      "\n",
      "# Read the file into a variable or list\n",
      "mRNA = fh.read()\n",
      "\n",
      "# Close the file\n",
      "fh.close()\n",
      "\n",
      "# Use the string method .count to determine the number of each nucleotide\n",
      "A = mRNA.count('A')\n",
      "C = mRNA.count('C')\n",
      "G = mRNA.count('G')\n",
      "T = mRNA.count('T')\n",
      "\n",
      "# Sum the nucleotide counts\n",
      "sum_nucleotides = A + C + G + T\n",
      "\n",
      "# Determine the length of the mRNA sequence\n",
      "mRNA_length = len(mRNA)\n",
      "\n",
      "# print the results \n",
      "print 'sum of A =', A\n",
      "print 'sum of C =', C\n",
      "print 'sum of G =', G\n",
      "print 'sum of T =', T\n",
      "print 'sum of nucleotides =', sum_nucleotides\n",
      "print 'The length of the mRNA =', mRNA_length"
     ],
     "language": "python",
     "metadata": {},
     "outputs": [
      {
       "output_type": "stream",
       "stream": "stdout",
       "text": [
        "sum of A = 537\n",
        "sum of C = 697\n",
        "sum of G = 592\n",
        "sum of T = 625\n",
        "sum of nucleotides = 2451\n",
        "The length of the mRNA = 2488\n"
       ]
      }
     ],
     "prompt_number": 2
    },
    {
     "cell_type": "markdown",
     "metadata": {},
     "source": [
      "Why doesn't the sum of nucleotides equal the length of the mRNA?  When a file is read into a program as a string all the characters including the line breaks (also called new lines) are entered into the string.  We can't see the new lines, but Python can."
     ]
    },
    {
     "cell_type": "markdown",
     "metadata": {},
     "source": [
      "## 3.3 Escapes characters\n",
      "\n",
      "Non-printable characters like line breaks are called escapes that can be represented using backslash notation.  We will make frequent use of\n",
      "\n",
      "    \\n\tNew line\n",
      "    \\t\tTab\n",
      "\n",
      "An escape character gets interpreted in a single quoted as well as double and triple quoted strings.   See the python documentation for a complete list of escape characters.  The backslash can also be used to negate the effect of a special character which is particular useful in printing.  A backslash can also be used to print a single or double quote without resorting to triple quotes.\n"
     ]
    },
    {
     "cell_type": "code",
     "collapsed": false,
     "input": [
      "#!/usr/bin/env python\n",
      "\n",
      "# Example 3.4\n",
      "# Name: escape_characteris.py\n",
      "# Description: A program to test escape characters\n",
      "\n",
      "print 'Hello \\n world!'\n",
      "print 'Hello \\t\\t world!'\n",
      "print 'Hello \\\\n world!'\n",
      "print 'I\\'m here!'"
     ],
     "language": "python",
     "metadata": {},
     "outputs": [
      {
       "output_type": "stream",
       "stream": "stdout",
       "text": [
        "Hello \n",
        " world!\n",
        "Hello \t\t world!\n",
        "Hello \\n world!\n",
        "I'm here!\n"
       ]
      }
     ],
     "prompt_number": 3
    },
    {
     "cell_type": "markdown",
     "metadata": {},
     "source": [
      "Now let's modify Example 3.5 so that we can get the correct mRNA length"
     ]
    },
    {
     "cell_type": "code",
     "collapsed": false,
     "input": [
      "#!/usr/bin/env python\n",
      "\n",
      "# Example 3.5\n",
      "# Name: count_nucleotides_no_new_lines.py\n",
      "# Description: A program to read a mRNA sequence from a file and print it out\n",
      "\n",
      "# Open the file\n",
      "fh = open('p53_mRNA.txt', 'r')\n",
      "\n",
      "# Read the file into a variable or list\n",
      "mRNA = fh.read()\n",
      "\n",
      "# Close the file\n",
      "fh.close()\n",
      "\n",
      "# Use the string method .count to determine the number of each nucleotide\n",
      "A = mRNA.count('A')\n",
      "C = mRNA.count('C')\n",
      "G = mRNA.count('G')\n",
      "T = mRNA.count('T')\n",
      "\n",
      "# Sum the nucleotide counts\n",
      "sum_nucleotides = A + C + G + T\n",
      "\n",
      "# Determine the length of the mRNA sequence\n",
      "mRNA_length = len(mRNA)\n",
      "\n",
      "# remove the line breaks (new lines) and find the new length\n",
      "mRNA_no_new_lines = mRNA.replace('\\n', '')\n",
      "mRNA_length_no_new_lines = len(mRNA_no_new_lines)\n",
      "                                  \n",
      "# print the results                           \n",
      "print 'sum of A =', A\n",
      "print 'sum of C =', C\n",
      "print 'sum of G =', G\n",
      "print 'sum of T =', T\n",
      "print 'sum of nucleotides =', sum_nucleotides\n",
      "print 'The length of the mRNA =', mRNA_length\n",
      "print 'The length of the mRNA without line breaks =', mRNA_length_no_new_lines"
     ],
     "language": "python",
     "metadata": {},
     "outputs": [
      {
       "output_type": "stream",
       "stream": "stdout",
       "text": [
        "sum of A = 537\n",
        "sum of C = 697\n",
        "sum of G = 592\n",
        "sum of T = 625\n",
        "sum of nucleotides = 2451\n",
        "The length of the mRNA = 2488\n",
        "The length of the mRNA without line breaks = 2451\n"
       ]
      }
     ],
     "prompt_number": 4
    },
    {
     "cell_type": "markdown",
     "metadata": {},
     "source": [
      "Removing the new lines will also effect the way the variable mRNA prints out to the screen.  Trying adding a print statement with mRNA_no_new_lines and mRNA to compare the results."
     ]
    },
    {
     "cell_type": "markdown",
     "metadata": {},
     "source": [
      "## 3.5 Flow Control\n",
      "\n",
      "Two of the most essential components of programming are logic and repetition. To add these to your Python programs, there are three key words that you will need: <b>if</b>, <b>for</b>, and <b>while</b>.   This session we will just discuss the <b>if</b> statement.\n",
      "\n",
      "A program executes from the first statement at the top of the program to the last statement at the bottom, in order, unless told to do otherwise. You can control the order in which the statements of a program are executed by using conditional statements and loops. A conditional statement executes a group of statements only if the conditional test succeeds; otherwise, it just skips the group of statements.\n",
      "\n",
      "A conditional evaluates whether a statement is \"true\" or \"false\". However, \"What is truth?\" it is a question to carefully consider when programming. \n",
      "\n",
      "The basic form of an <b>if</b> statement is \n",
      "\n",
      "<code>\n",
      "if (condition) :\n",
      "    block\n",
      "</code>\n",
      "\n",
      "Here is an example program:"
     ]
    },
    {
     "cell_type": "code",
     "collapsed": false,
     "input": [
      "#!/usr/bin/env python\n",
      "\n",
      "# Example 3.6\n",
      "# Name: If.py\n",
      "# Description:  This program tests the if statement\n",
      "\n",
      "DNA = 'AGTTGTAATGAGGCTGCCGTGATA'\n",
      "DNA_length = len(DNA)\n",
      "\n",
      "if (DNA_length < 100) :\n",
      "    print 'This is a short piece of DNA'"
     ],
     "language": "python",
     "metadata": {},
     "outputs": [
      {
       "output_type": "stream",
       "stream": "stdout",
       "text": [
        "This is a short piece of DNA\n"
       ]
      }
     ],
     "prompt_number": 5
    },
    {
     "cell_type": "markdown",
     "metadata": {},
     "source": [
      "The are 3 important things to remember with the <b>if</b> statement; the brackets (), the colon and to indent the block following the colon.  There can be multiple lines in the block, as long as they are all indented the same amount.\n",
      "\n",
      "### if...else\n",
      "\n",
      "The basic form of an <b>if</b> statement is \n",
      "<code>\n",
      "if (condition) :\n",
      "    block\n",
      "else :\n",
      "    block\n",
      "</code>"
     ]
    },
    {
     "cell_type": "code",
     "collapsed": false,
     "input": [
      "#!/usr/bin/env python\n",
      "\n",
      "# Example 3.7\n",
      "# Name: If_else.py\n",
      "# Description:  This program tests the if...else statement\n",
      "\n",
      "DNA = 'AGTTGTAATGAGGCTGCCGTGATA'\n",
      "DNA_length = len(DNA)\n",
      "\n",
      "if (DNA_length > 100) :\n",
      "    print 'This is a long piece of DNA'\n",
      "\n",
      "else :\n",
      "    print 'This is a short piece of DNA'"
     ],
     "language": "python",
     "metadata": {},
     "outputs": [
      {
       "output_type": "stream",
       "stream": "stdout",
       "text": [
        "This is a short piece of DNA\n"
       ]
      }
     ],
     "prompt_number": 6
    },
    {
     "cell_type": "markdown",
     "metadata": {},
     "source": [
      "### if...elif...else\n",
      "\n",
      "We could also use an if..elif..else statement which has the form\n",
      "\n",
      "<code>\n",
      "if (condition) :\n",
      "    block\n",
      "elif (condition 2) :\n",
      "    block\n",
      "elif (condition 3) :\n",
      "    block\n",
      "else :\n",
      "    block\n",
      "</code>\n"
     ]
    },
    {
     "cell_type": "code",
     "collapsed": false,
     "input": [
      "#!/usr/bin/env python\n",
      "\n",
      "# Example 3.8\n",
      "# Name: If_elif.py\n",
      "# Description:  This program tests the if...elif statement\n",
      "\n",
      "DNA = 'AGTTGTAATGAGGCTGCCGTGATA'\n",
      "DNA_length = len(DNA)\n",
      "\n",
      "if (DNA_length > 500) :\n",
      "    print 'This is a long piece of DNA'\n",
      "if (100 < DNA_length <= 500) :\n",
      "    print 'This is a medium piece of DNA'\n",
      "else:\n",
      "    print 'This is a short piece of DNA'"
     ],
     "language": "python",
     "metadata": {},
     "outputs": [
      {
       "output_type": "stream",
       "stream": "stdout",
       "text": [
        "This is a short piece of DNA\n"
       ]
      }
     ],
     "prompt_number": 7
    },
    {
     "cell_type": "markdown",
     "metadata": {},
     "source": [
      "## 3.7 Operators\n",
      "\n",
      "In the above examples we used the greater than and less than operators.  Here are some of the other common Python operators"
     ]
    },
    {
     "cell_type": "markdown",
     "metadata": {},
     "source": [
      "### Comparison Operators"
     ]
    },
    {
     "cell_type": "markdown",
     "metadata": {},
     "source": [
      "<code>\n",
      "==\tChecks if the value of two operands are equal or not, if yes then condition becomes true.\n",
      "!=\tChecks if the value of two operands are equal or not, if values are not equal then condition becomes true\n",
      "<\\>\tChecks if the value of two operands are equal or not, if values are not equal then condition becomes true.\n",
      "\\>=\tChecks if the value of left operand is greater than or equal to the value of right operand, if yes then condition becomes true.\n",
      "<=\tChecks if the value of left operand is less than or equal to the value of right operand, if yes then condition becomes true.\n",
      "</code>"
     ]
    },
    {
     "cell_type": "markdown",
     "metadata": {},
     "source": [
      "### Membership Operators\n",
      "\n",
      "Python has membership operators, which test for membership in strings. There are two membership operators explained below:\n"
     ]
    },
    {
     "cell_type": "markdown",
     "metadata": {},
     "source": [
      "<code>\n",
      "<b>in</b>\t    Evaluates to true if it finds a variable in the specified sequence and false otherwise.\t\n",
      "<b>not in</b>\tEvaluates to true if it does not finds a variable in the specified sequence and false otherwise.\n",
      "</code>"
     ]
    },
    {
     "cell_type": "code",
     "collapsed": false,
     "input": [
      "#!/usr/bin/env python\n",
      "\n",
      "# Example 3.9\n",
      "# Name: membership.py\n",
      "# Description:  This program tests the membership operator\n",
      "\n",
      "DNA = 'AGTTGTAATGAGGCTGCCGTGATA'\n",
      "\n",
      "if ('T' in DNA) :\n",
      "    print 'This is probably a piece of DNA since it contains thymidine'\n",
      "elif ('U' in DNA) :\n",
      "    print 'This is probably a piece of RNA since it contains uracil'"
     ],
     "language": "python",
     "metadata": {},
     "outputs": [
      {
       "output_type": "stream",
       "stream": "stdout",
       "text": [
        "This is probably a piece of DNA since it contains thymidine\n"
       ]
      }
     ],
     "prompt_number": 8
    },
    {
     "cell_type": "markdown",
     "metadata": {},
     "source": [
      "### Logical Operators"
     ]
    },
    {
     "cell_type": "markdown",
     "metadata": {},
     "source": [
      "<code>\n",
      "<b>and</b> - Called Logical AND operator. If both the operands are true then then condition becomes true.\n",
      "<b>or</b>  - Called Logical OR Operator. If any of the two operands are non zero then then condition becomes true.\n",
      "<b>not</b> - Called Logical NOT Operator. Use to reverses the logical state of its operand. If a condition is true then Logical NOT operator will make false.\n",
      "</code>"
     ]
    },
    {
     "cell_type": "code",
     "collapsed": false,
     "input": [
      "#!/usr/bin/env python\n",
      "\n",
      "# Example 3.10\n",
      "# Name: logical.py\n",
      "# Description:  This program tests logical operators\n",
      "\n",
      "DNA = 'AGTTGTAATGAGGCTGCCGTGATA'\n",
      "\n",
      "if ('A' in DNA and 'C' in DNA and 'G' in DNA and 'G' in DNA) :\n",
      "    print 'This DNA sequence contains all 4 nucleotides'"
     ],
     "language": "python",
     "metadata": {},
     "outputs": [
      {
       "output_type": "stream",
       "stream": "stdout",
       "text": [
        "This DNA sequence contains all 4 nucleotides\n"
       ]
      }
     ],
     "prompt_number": 9
    },
    {
     "cell_type": "markdown",
     "metadata": {},
     "source": [
      "## 3.6 Writing to files\n",
      "\n",
      "Writing results of a program to a file the same paradigm as read files.  Remember, a filehandle is an object that controls the stream of information between your program and a file stored somewhere on the computer. Filehandles are not filenames, and they are not the files themselves. They are a tool that your program uses to interact with files.  We create filehandles in the simplest sense with the open() command."
     ]
    },
    {
     "cell_type": "code",
     "collapsed": false,
     "input": [
      "#!/usr/bin/env python\n",
      "\n",
      "# Example 3.11\n",
      "# Name: write_file.py\n",
      "# Description: A program to write a DNA sequence to a file\n",
      "\n",
      "# Open the output file and make it writable\n",
      "fh = open('DNA_results.txt', 'w')\n",
      "\n",
      "DNA1 = 'AGTTGTAATGAGGCTGCCGTGATA'\n",
      "\n",
      "# Write the DNA sequence to the output file\n",
      "fh.write(DNA1)\n",
      "\n",
      "# Close the file\n",
      "fh.close()\n"
     ],
     "language": "python",
     "metadata": {},
     "outputs": []
    },
    {
     "cell_type": "markdown",
     "metadata": {},
     "source": [
      "Notice that no output is written to the screen (terminal or command prompt window), but look in your active directory (e.g. AdvGen or Bioinformatics or YOURNAME) and you will see a new file call DNA_results.txt.  Open it up with your text editor and you should see the sequence of DNA1.\n",
      "\n",
      "If you run the program again you will write over the old file.  If you want to add more results or in this case sequence to a file you can open the file in a mode that makes it appendable."
     ]
    },
    {
     "cell_type": "code",
     "collapsed": false,
     "input": [
      "#!/usr/bin/env python\n",
      "\n",
      "# Example 3.12\n",
      "# Name: append_file.py\n",
      "# Description: A program to write a DNA sequence to a file\n",
      "\n",
      "# Open the output file and make it appendable\n",
      "fh = open('DNA_results.txt', 'a')\n",
      "\n",
      "DNA2 = 'CGATTACGGCATCATTTAAAGGGCAGGAGGGTA'\n",
      "\n",
      "# Write the DNA sequence to the output file\n",
      "fh.write(DNA2)\n",
      "\n",
      "# Close the file\n",
      "fh.close()"
     ],
     "language": "python",
     "metadata": {},
     "outputs": []
    },
    {
     "cell_type": "markdown",
     "metadata": {},
     "source": [
      "Check your DNA results file to see if the second sequence was added.   The write function only works with strings thus the following results in an error message."
     ]
    },
    {
     "cell_type": "code",
     "collapsed": false,
     "input": [
      "#!/usr/bin/env python\n",
      "\n",
      "# Example 3.11\n",
      "# Name: write_file.py\n",
      "# Description: A program to write a DNA sequence to a file\n",
      "\n",
      "# Open the output file and make it writable\n",
      "fh = open('DNA_results.txt', 'w')\n",
      "\n",
      "DNA1 = 'AGTTGTAATGAGGCTGCCGTGATA'\n",
      "\n",
      "length = len(DNA1)\n",
      "\n",
      "# Write the DNA sequence to the output file\n",
      "fh.write(DNA1)\n",
      "fh.write(length)\n",
      "\n",
      "# Close the file\n",
      "fh.close()\n"
     ],
     "language": "python",
     "metadata": {},
     "outputs": [
      {
       "ename": "TypeError",
       "evalue": "expected a character buffer object",
       "output_type": "pyerr",
       "traceback": [
        "\u001b[0;31m---------------------------------------------------------------------------\u001b[0m\n\u001b[0;31mTypeError\u001b[0m                                 Traceback (most recent call last)",
        "\u001b[0;32m<ipython-input-10-6dbbe765ee4c>\u001b[0m in \u001b[0;36m<module>\u001b[0;34m()\u001b[0m\n\u001b[1;32m     14\u001b[0m \u001b[0;31m# Write the DNA sequence to the output file\u001b[0m\u001b[0;34m\u001b[0m\u001b[0;34m\u001b[0m\u001b[0m\n\u001b[1;32m     15\u001b[0m \u001b[0mfh\u001b[0m\u001b[0;34m.\u001b[0m\u001b[0mwrite\u001b[0m\u001b[0;34m(\u001b[0m\u001b[0mDNA1\u001b[0m\u001b[0;34m)\u001b[0m\u001b[0;34m\u001b[0m\u001b[0m\n\u001b[0;32m---> 16\u001b[0;31m \u001b[0mfh\u001b[0m\u001b[0;34m.\u001b[0m\u001b[0mwrite\u001b[0m\u001b[0;34m(\u001b[0m\u001b[0mlength\u001b[0m\u001b[0;34m)\u001b[0m\u001b[0;34m\u001b[0m\u001b[0m\n\u001b[0m\u001b[1;32m     17\u001b[0m \u001b[0;34m\u001b[0m\u001b[0m\n\u001b[1;32m     18\u001b[0m \u001b[0;31m# Close the file\u001b[0m\u001b[0;34m\u001b[0m\u001b[0;34m\u001b[0m\u001b[0m\n",
        "\u001b[0;31mTypeError\u001b[0m: expected a character buffer object"
       ]
      }
     ],
     "prompt_number": 10
    },
    {
     "cell_type": "markdown",
     "metadata": {},
     "source": [
      "The .write method only writes strings, so you must either convert the integer or floating point number into a string or interpolate as them into strings as we descussed last week and as show in the example below "
     ]
    },
    {
     "cell_type": "code",
     "collapsed": false,
     "input": [
      "#!/usr/bin/env python\n",
      "\n",
      "# Example 3.11\n",
      "# Name: write_file.py\n",
      "# Description: A program to write a DNA sequence to a file\n",
      "\n",
      "# Open the output file and make it writable\n",
      "fh = open('DNA_results.txt', 'w')\n",
      "\n",
      "DNA1 = 'AGTTGTAATGAGGCTGCCGTGATA'\n",
      "\n",
      "length = len(DNA1)\n",
      "\n",
      "# Write the length of the DNA sequence to the output file\n",
      "fh.write(str(length))\n",
      "fh.write('%d\\n' % (length))\n",
      "fh.write('The length of the DNA sequence is %d.\\n' % (length))\n",
      "\n",
      "# Close the file\n",
      "fh.close()"
     ],
     "language": "python",
     "metadata": {},
     "outputs": [],
     "prompt_number": 11
    },
    {
     "cell_type": "markdown",
     "metadata": {},
     "source": [
      "Look at the output file to see the results and the effect of not having a new line \\n."
     ]
    },
    {
     "cell_type": "markdown",
     "metadata": {},
     "source": [
      "### File handle naming conventions\n",
      "\n",
      "In Python files are objects. To open a file object, you must assign it to a variable as we did above by assigning the variable fh.  You could assign it any varaible name.  Since it is common in programs to have multiple input and output files it is good to have names for them that are more descriptive (such as infile or outfile).  Below is an example of a file that reads in a sequence, manipulates the sequence and then prints it out.  "
     ]
    },
    {
     "cell_type": "code",
     "collapsed": false,
     "input": [
      "#!/usr/bin/env python\n",
      "\n",
      "# Example 3.13\n",
      "# Name: input_output.py\n",
      "# Description: A program to read a mRNA sequence from a file and print it out\n",
      "\n",
      "# Open the input file\n",
      "infile1 = open('p53_mRNA.txt', 'r')\n",
      "\n",
      "# Open the output file\n",
      "outfile1 = open('p53_mRNA_withU.txt', 'w')\n",
      "\n",
      "# Read the file into to a variable\n",
      "mRNA = infile1.read()\n",
      "\n",
      "# Close the file\n",
      "infile1.close()\n",
      "\n",
      "#Since real mRNA does not have thymidine we will replace the Ts with Us\n",
      "mRNA_withU = mRNA.replace('T', 'U')\n",
      "\n",
      "#write the mRNA with Us to the output file\n",
      "outfile1.write('The mRNA with U in place of T is %s \\n' % (mRNA_withU))\n",
      "\n",
      "# Close the output file\n",
      "outfile1.close()"
     ],
     "language": "python",
     "metadata": {},
     "outputs": [],
     "prompt_number": 12
    },
    {
     "cell_type": "markdown",
     "metadata": {},
     "source": [
      "Check out the contents of the file.  Notice that I had to add the new line \\n to the write statement. "
     ]
    },
    {
     "cell_type": "markdown",
     "metadata": {},
     "source": [
      "## Exercises\n",
      "\n",
      "1. Write a program to find the reverse complement of a DNA where the DNA sequence is input from the command line by the user.\n",
      "2. Make the above program check to see if DNA from the above program contains only A, T, C or G and if it does not then send a message to the user.\n",
      "3. Download a protein sequence of your choice from NCBI - http://www.ncbi.nlm.nih.gov/ .  Write a program that takes as input a file with your protein sequence and determines if there are more postively charged than negatively charged amino acids (see http://en.wikipedia.org/wiki/Amino_acid).  Be sure to include a test to see if the charges balance out.  Provide a copy of your protein sequence in addition to your program.\n",
      "4. Download the complete genome sequence for the bacterium Clostridium phytofermentans from ftp://ftp.jgi-psf.org/pub/JGI_data/Microbial/clostridium_phytofermentans_ISDg/Finished2007/3634491.finished.fsa.   Write a program that uses this sequence (without the first line with the > fasta header) and writes to an output file a tab formatted file (Hint: use \\t and \\n in your .write statement) with the nucleotide counts and the total number of nucleotides."
     ]
    },
    {
     "cell_type": "markdown",
     "metadata": {},
     "source": [
      "* Next - <a href=\"http://nbviewer.ipython.org/urls/raw.github.com/jeffreyblanchard/AdvGen/master/Session4.ipynb\">Session 4 : Lists and Regular Expressions</a>\n",
      "* Previous - <a href=\"http://nbviewer.ipython.org/urls/raw.github.com/jeffreyblanchard/AdvGen/master/Session2.ipynb\">Session 2 : Sequences and Strings</a> "
     ]
    }
   ],
   "metadata": {}
  }
 ]
}