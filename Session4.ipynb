{
 "metadata": {
  "name": "Session4"
 },
 "nbformat": 3,
 "nbformat_minor": 0,
 "worksheets": [
  {
   "cells": [
    {
     "cell_type": "markdown",
     "metadata": {},
     "source": [
      "# Session 4 : Lists and Regular Expressions\n",
      "\n",
      "## Learning Objectives\n",
      "\n",
      "* Lists\n",
      "* Loops\n",
      "* Regular expressions\n",
      "* Infering protein coding regions"
     ]
    },
    {
     "cell_type": "markdown",
     "metadata": {},
     "source": [
      "## 4.1 Lists\n",
      "\n",
      "Variables types that we used last session consisted of strings, integers and floating point numbers.  Variable contain just one item, even if it is incredibly big. One way to organize variable is the use of LISTS, as in a shopping list.  Lists consists of multiple variables (items)."
     ]
    },
    {
     "cell_type": "code",
     "collapsed": false,
     "input": [
      "#!/usr/bin/env python\n",
      "\n",
      "# Example 4.1\n",
      "# Name: list_nucleotides.py\n",
      "# Description:  This program prints a list of nucleotides\n",
      "\n",
      "# A set of nucleotides\n",
      "nucleotides = ['A','C','G','T']\n",
      "    \n",
      "#     \n",
      "print 'The nucleotides in DNA are %s.' % (nucleotides)\n"
     ],
     "language": "python",
     "metadata": {},
     "outputs": [
      {
       "output_type": "stream",
       "stream": "stdout",
       "text": [
        "The nucleotides in DNA are ['A', 'C', 'G', 'T'].\n"
       ]
      }
     ],
     "prompt_number": 1
    },
    {
     "cell_type": "markdown",
     "metadata": {},
     "source": [
      "Just like we saw with strings there are many similar manipulations that can be done on lists.  1) The built-in functions len(), max() and min() tell us how many items are in the list and the maximum and minimum values in the list.  The list method index() tells us where an item is in the list.  Here are some other commonly used list methods.\n"
     ]
    },
    {
     "cell_type": "markdown",
     "metadata": {},
     "source": [
      "\n",
      "Commonly used list methods\n",
      "\n",
      "* list.append(elem) -- adds a single element to the end of the list. Common error: does not return the new list, just modifies the original.\n",
      "* list.insert(index, elem) -- inserts the element at the given index, shifting elements to the right.\n",
      "* list.extend(list2) adds the elements in list2 to the end of the list. Using + or += on a list is similar to using extend().\n",
      "* list.index(elem) -- searches for the given element from the start of the list and returns its index. Throws a ValueError if the element does not appear (use \"in\" to check without a ValueError).\n",
      "* list.remove(elem) -- searches for the first instance of the given element and removes it (throws ValueError if not present)\n",
      "* list.sort() -- sorts the list in place (does not return it). \n",
      "* list.reverse() -- reverses the list in place (does not return it)\n",
      "* list.pop(index) -- removes and returns the element at the given index. Returns the rightmost element if index is omitted (roughly the opposite of append()).\n",
      "\n",
      "\n"
     ]
    },
    {
     "cell_type": "code",
     "collapsed": false,
     "input": [
      "#!/usr/bin/env python\n",
      "\n",
      "# Example 4.2\n",
      "# Name: list_methods_strings.py\n",
      "# Description:  This programs demonstrates list methods\n",
      "\n",
      "# A list of nucleotides\n",
      "nucleotides = ['A','C','G','T']\n",
      "\n",
      "print len(nucleotides)\n",
      "print max(nucleotides)\n",
      "print min(nucleotides)\n",
      "\n",
      "print nucleotides\n",
      "\n",
      "nucleotides.index('T')\n",
      "print nucleotides\n",
      "\n",
      "nucleotides.append('N')\n",
      "print nucleotides\n",
      "\n",
      "nucleotides.remove('A')\n",
      "print nucleotides\n",
      "\n",
      "nucleotides.sort()\n",
      "print nucleotides\n",
      "\n",
      "# Note just like strings, lists which begin counting at zero\n",
      "base = nucleotides.pop(0)\n",
      "print base\n",
      "print nucleotides"
     ],
     "language": "python",
     "metadata": {},
     "outputs": [
      {
       "output_type": "stream",
       "stream": "stdout",
       "text": [
        "4\n",
        "T\n",
        "A\n",
        "['A', 'C', 'G', 'T']\n",
        "['A', 'C', 'G', 'T']\n",
        "['A', 'C', 'G', 'T', 'N']\n",
        "['C', 'G', 'T', 'N']\n",
        "['C', 'G', 'N', 'T']\n",
        "C\n",
        "['G', 'N', 'T']\n"
       ]
      }
     ],
     "prompt_number": 2
    },
    {
     "cell_type": "code",
     "collapsed": false,
     "input": [
      "#!/usr/bin/env python\n",
      "\n",
      "# Example 4.3\n",
      "# Name: list_methods_integers.py\n",
      "# Description:  This programs demonstrates list methods on integers\n",
      "\n",
      "# A list of integers\n",
      "values = [5, 12, 25, 60]\n",
      "\n",
      "print values\n",
      "\n",
      "print len(values)\n",
      "print max(values)\n",
      "print min(values)"
     ],
     "language": "python",
     "metadata": {},
     "outputs": [
      {
       "output_type": "stream",
       "stream": "stdout",
       "text": [
        "[5, 12, 25, 60]\n",
        "4\n",
        "60\n",
        "5\n"
       ]
      }
     ],
     "prompt_number": 3
    },
    {
     "cell_type": "markdown",
     "metadata": {},
     "source": [
      "##4.2 Loops\n",
      "\n",
      "Often we need to iterate over lists\n",
      "\n",
      "### For Loops\n",
      "The syntax of a for loop look is as follows:\n",
      "\n",
      "    for iterating_var in sequence:\n",
      "       statements(s)"
     ]
    },
    {
     "cell_type": "code",
     "collapsed": false,
     "input": [
      "#!/usr/bin/env python\n",
      "\n",
      "# Example 4.4\n",
      "# Name: for_loops.py\n",
      "# Description:  This programs demonstrates for loops\n",
      "\n",
      "# for loops with a string\n",
      "\n",
      "DNA = 'AGTCTC'\n",
      "\n",
      "for base in DNA :\n",
      "    print base\n",
      "\n",
      "# for loops with a list\n",
      "\n",
      "nucleotides = ['Adenine','Cytosine','Guanine','Thymine']\n",
      "\n",
      "for base in nucleotides :\n",
      "    print base"
     ],
     "language": "python",
     "metadata": {},
     "outputs": [
      {
       "output_type": "stream",
       "stream": "stdout",
       "text": [
        "A\n",
        "G\n",
        "T\n",
        "C\n",
        "T\n",
        "C\n",
        "Adenine\n",
        "Cytosine\n",
        "Guanine\n",
        "Thymine\n"
       ]
      }
     ],
     "prompt_number": 4
    },
    {
     "cell_type": "code",
     "collapsed": false,
     "input": [
      "#!/usr/bin/env python\n",
      "\n",
      "# Example 4.5\n",
      "# Name: for_loops2.py\n",
      "# Description:  This programs demonstrates for loops with the range functions\n",
      "\n",
      "# for loops with a string\n",
      "\n",
      "for num in range(5,10) : \n",
      "    if num == 7 :\n",
      "        print num\n",
      "        "
     ],
     "language": "python",
     "metadata": {},
     "outputs": [
      {
       "output_type": "stream",
       "stream": "stdout",
       "text": [
        "7\n"
       ]
      }
     ],
     "prompt_number": 5
    },
    {
     "cell_type": "markdown",
     "metadata": {},
     "source": [
      "### While Loops\n",
      "\n",
      "A while loop statement in Python programming language repeatedly executes a target statement as long as a given condition is true.  The syntax of a while loop in Python programming language is:\n",
      "\n",
      "<code>\n",
      "while expression:\n",
      "   statement(s)\n",
      "</code>\n",
      "\n",
      "Here, statement(s) may be a single statement or a block of statements. The condition may be any expression, and true is any non-zero value. The loop iterates while the condition is true.  When the condition becomes false, program control passes to the line immediately following the loop."
     ]
    },
    {
     "cell_type": "code",
     "collapsed": false,
     "input": [
      "#!/usr/bin/env python\n",
      "\n",
      "# Example 4.6\n",
      "# Name: while_loops.py\n",
      "# Description:  This programs demonstrates for loops with the range functions\n",
      "\n",
      "# while loops\n",
      "\n",
      "count = 0\n",
      "\n",
      "while (count < 5):\n",
      "   print count\n",
      "   count = count + 1"
     ],
     "language": "python",
     "metadata": {},
     "outputs": [
      {
       "output_type": "stream",
       "stream": "stdout",
       "text": [
        "0\n",
        "1\n",
        "2\n",
        "3\n",
        "4\n"
       ]
      }
     ],
     "prompt_number": 6
    },
    {
     "cell_type": "code",
     "collapsed": false,
     "input": [
      "#!/usr/bin/env python\n",
      "\n",
      "# Example 4.7\n",
      "# extract_codon.py\n",
      "# A program uses a while loop to extract each codon\n",
      "\n",
      "DNA = 'AGTTGTAATGAGGCTGCCGTGATA'\n",
      "\n",
      "# starting coordinates for codon 1 in the first reading frame\n",
      "x = 0\n",
      "y = 3\n",
      "\n",
      "# Get the length of the DNA to use in the loop\n",
      "length = len(DNA)\n",
      "\n",
      "# A loop to get the codon and increment the DNA position by 3\n",
      "while y <= length :\n",
      "    codon = DNA[x:y]\n",
      "    print codon\n",
      "    x = x + 3\n",
      "    y = y + 3"
     ],
     "language": "python",
     "metadata": {},
     "outputs": [
      {
       "output_type": "stream",
       "stream": "stdout",
       "text": [
        "AGT\n",
        "TGT\n",
        "AAT\n",
        "GAG\n",
        "GCT\n",
        "GCC\n",
        "GTG\n",
        "ATA\n"
       ]
      }
     ],
     "prompt_number": 7
    },
    {
     "cell_type": "markdown",
     "metadata": {},
     "source": [
      "Beware of the <b>Infinite Loop</b>!   A loop becomes infinite loop if a condition never becomes false. This results in a loop that never ends.  If you find yourselve in that situation either hit control C or close down your terminal/command prompt window.  "
     ]
    },
    {
     "cell_type": "code",
     "collapsed": false,
     "input": [
      "#!/usr/bin/env python\n",
      "\n",
      "# Example 4.8\n",
      "# Name: for_loops_breaks.py\n",
      "# Description:  This programs demonstrates the break statement\n",
      "\n",
      "# for loops with a string\n",
      "\n",
      "for num in range(5,10) : \n",
      "    print num\n",
      "    if num == 8 :\n",
      "        break"
     ],
     "language": "python",
     "metadata": {},
     "outputs": [
      {
       "output_type": "stream",
       "stream": "stdout",
       "text": [
        "5\n",
        "6\n",
        "7\n",
        "8\n"
       ]
      }
     ],
     "prompt_number": 8
    },
    {
     "cell_type": "code",
     "collapsed": false,
     "input": [
      "#!/usr/bin/env python\n",
      "\n",
      "# Example 4.9\n",
      "# Name: for_loops_breaks.py\n",
      "# Description:  This programs demonstrates the continue statement\n",
      "\n",
      "nucleotides = ['Adenine','Cytosine','Guanine','Thymine']\n",
      "\n",
      "for base in nucleotides :\n",
      "    if base == 'Guanine' :\n",
      "        continue\n",
      "    print base"
     ],
     "language": "python",
     "metadata": {},
     "outputs": [
      {
       "output_type": "stream",
       "stream": "stdout",
       "text": [
        "Adenine\n",
        "Cytosine\n",
        "Thymine\n"
       ]
      }
     ],
     "prompt_number": 9
    },
    {
     "cell_type": "markdown",
     "metadata": {},
     "source": [
      "## 4.3 Regular expressions\n",
      "\n",
      "The Python string methods are great for ease of use. If what you're trying to do can be accomplished with string functions, you should use them. They're fast and simple and easy to read, and there's a lot to be said for fast, simple, readable code.  \n",
      "\n",
      "However, string methods are limited to the simplest of search and replace cases. The search methods look for a single, hard-coded substring, and they are always case-sensitive. To do case-insensitive searches of a string s, you must call s.lower() or s.upper() and make sure your search strings are the appropriate case to match. The replace  methods have the same limitations.\n",
      "\n",
      "A regular expression is a special sequence of characters that helps you match or find other strings or sets of strings, using a specialized syntax held in a pattern. Regular expressions are widely used in UNIX world. Many bioiformatic problems involve using regular expressions and we will spend a lot of time in this class building our knowledge of regular expressions through many use cases.\n",
      "\n",
      "Python provides regular expression patterns using the RE module.  Moldules in python are simply files consisting of Python code, that are not typically used when a Python program is run.  Later we will use other Python math and science specific modules that have been writting by experts in the field.\n",
      "\n",
      "There are several different functions of the RE module. Today we will cover the Search and Findall functions.\n",
      "\n",
      "### Search\n",
      "\n",
      "This function searches for FIRST occurrence of RE pattern within string with optional flags. The syntax for this function:\n",
      "\n",
      "re.search(pattern, string, flags=0)\n",
      "\n",
      "* pattern - This is the regular expression to be matched.\n",
      "* string - This is the string, which would be searched to match the pattern anywhere in the string.\n",
      "* flags - You can specify different flags using bitwise OR (|). These are modifiers, which are listed in the table below.\n",
      "\n",
      "The re.search function returns a match object on success, None on failure. Here is how it works\n"
     ]
    },
    {
     "cell_type": "code",
     "collapsed": false,
     "input": [
      "#!/usr/bin/env python\n",
      "\n",
      "# Example 4.10\n",
      "# Name:re_search.py\n",
      "# Description:  This programs demonstrates the use of regular expressions\n",
      "\n",
      "# Import the regular expression module\n",
      "import re\n",
      "\n",
      "DNA = 'AGTTGTAATGAGGCTGCCGTGATAaaaaaaa'\n",
      "\n",
      "# Find a pattern in the DNA sequence\n",
      "# The r' indicates a raw string search \n",
      "motif = re.search(r'TTG', DNA)\n",
      "\n",
      "if motif :\n",
      "   print motif.group()\n",
      "else :\n",
      "   print \"No match!!\"\n",
      "\n",
      "# The flag re.I is set so that the search is case insensitive\n",
      "motif = re.search(r'AAA', DNA, re.I)\n",
      "\n",
      "if motif :\n",
      "   print motif.group()\n",
      "else :\n",
      "   print \"No match!!\""
     ],
     "language": "python",
     "metadata": {},
     "outputs": [
      {
       "output_type": "stream",
       "stream": "stdout",
       "text": [
        "TTG\n",
        "Aaa\n"
       ]
      }
     ],
     "prompt_number": 10
    },
    {
     "cell_type": "markdown",
     "metadata": {},
     "source": [
      "The code motif = re.search(pat, str) stores the search result in a variable named \"motif\". Then the if-statement tests the match -- if true the search succeeded and motif.group() is the matching text (e.g. 'TTG'). Otherwise if the match is false (None to be more specific), then the search did not succeed, and there is no matching text.\n",
      "\n",
      "The 'r' at the start of the pattern string designates a python \"raw\" string which passes through backslashes without change which is very handy for regular expressions. I recommend that you always write pattern strings with the 'r' just as a habit.\n",
      "\n",
      "### Findall \n",
      "\n",
      "findall() is probably the single most powerful function in the re module. Above we used re.search() to find the first match for a pattern. findall() finds *all* the matches and returns them as a list of strings, with each string representing one match. \n"
     ]
    },
    {
     "cell_type": "code",
     "collapsed": false,
     "input": [
      "#!/usr/bin/env python\n",
      "\n",
      "# Example 4.11\n",
      "# Name:re_findall.py\n",
      "# Description:  This programs demonstrates the use of regular expressions\n",
      "\n",
      "# Import the regular expression module\n",
      "import re\n",
      "\n",
      "DNA = 'AGTTGTAATGAGGCTGCCGTGATAaaaaaa'\n",
      "\n",
      "# Find a pattern in the DNA sequence\n",
      "motifs = re.findall(r'TGA', DNA)\n",
      "\n",
      "if motifs :\n",
      "    for motif in motifs :\n",
      "       print motif\n",
      "else :\n",
      "   print \"No match !!!\", \n",
      "# Find a pattern in the DNA sequence\n",
      "motifs = re.findall(r'AAA', DNA, re.I)\n",
      "\n",
      "if motifs :\n",
      "    for motif in motifs :\n",
      "       print motif\n",
      "else :\n",
      "   print \"No match !!!\", "
     ],
     "language": "python",
     "metadata": {},
     "outputs": [
      {
       "output_type": "stream",
       "stream": "stdout",
       "text": [
        "TGA\n",
        "TGA\n",
        "Aaa\n",
        "aaa\n"
       ]
      }
     ],
     "prompt_number": 11
    },
    {
     "cell_type": "markdown",
     "metadata": {},
     "source": [
      "\n"
     ]
    },
    {
     "cell_type": "markdown",
     "metadata": {},
     "source": [
      "Notice that in the second search for AAA it only found 2 patterns.  In this case the search for the second match begins after the last character for the first match.  Finding overlapping patterns with just one regular expression is actually pretty difficult, as most uses specifically don't want overlapping matches.  In the near future Python will have the flag overlapped=True which can be used to find overlapping patterns.\n",
      "\n",
      "<b>Basic Patterns</b>\n",
      "\n",
      "The power of regular expressions is that they can specify patterns, not just fixed characters. Here are the most basic patterns which match single chars:\n",
      "\n",
      "* a, X, 9, < -- ordinary characters just match themselves exactly. The meta-characters ( . ^ $ * + ? { [ ] \\ | ( ) do not match themselves because they have special meanings (details below)\n",
      "* \\ -- inhibit the \"specialness\" of a character. So, for example, use \\. to match a period or \\\\ to match a slash. If you are unsure if a character has special meaning, such as '@', you can put a slash in front of it, \\@, to make sure it is treated just as a character. \n",
      "* . (a period) -- matches any single character except newline '\\n'\n",
      "* \\w -- (lowercase w) matches a \"word\" character: a letter or digit or underbar [a-zA-Z0-9_]. Note that although \"word\" is the mnemonic for this, it only matches a single word char, not a whole word. \\W (upper case W) matches any non-word character.\n",
      "* \\b -- boundary between word and non-word\n",
      "* \\s -- (lowercase s) matches a single whitespace character -- space, newline, return, tab, form [ \\n\\r\\t\\f]. \\S (upper case S) matches any non-whitespace character.\n",
      "* \\t, \\n, \\r -- tab, newline, return\n",
      "* \\d -- decimal digit [0-9]\n",
      "*  ^ = start, $ = end -- match the start or end of the string\n",
      "\n",
      "<b>Repetition</b>\n",
      "\n",
      "Things get more interesting when you use + and * to specify repetition in the pattern\n",
      "\n",
      "<code>\n",
      "+ match 1 or more occurrences of the pattern to its left, e.g. 'i+' = one or more i's\n",
      "* match 0 or more occurrences of the pattern to its left\n",
      "? match 0 or 1 occurrences of the pattern to its left \n",
      "</code>\n",
      "\n",
      "First the search finds the leftmost match for the pattern, and second it tries to use up as much of the string as possible -- i.e. + and * go as far as possible (the + and * are said to be \"greedy\")."
     ]
    },
    {
     "cell_type": "code",
     "collapsed": false,
     "input": [
      "#!/usr/bin/env python\n",
      "\n",
      "# Example 4.12\n",
      "# Name:re_repetion.py\n",
      "# Description:  This programs demonstrates the use of regular expressions\n",
      "\n",
      "# Import the regular expression module\n",
      "import re\n",
      "\n",
      "DNA = 'AGTTGTAATGAGGCTGCCGTGATAaaaaaa'\n",
      "\n",
      "# Find a pattern in the DNA sequence\n",
      "motifs = re.findall(r'AAA+', DNA, re.I)\n",
      "\n",
      "for motif in motifs :\n",
      "   print 'motif found using AAA+ : ', motif\n",
      "    \n",
      "# Find a pattern in the DNA sequence\n",
      "motifs = re.findall(r'AAA*', DNA, re.I)\n",
      "\n",
      "for motif in motifs :\n",
      "   print 'motif found using AAA* : ', motif\n",
      "    \n",
      "# Find a pattern in the DNA sequence\n",
      "motifs = re.findall(r'AAA?', DNA, re.I)\n",
      "\n",
      "for motif in motifs :\n",
      "   print 'motif found using AAA? : ', motif"
     ],
     "language": "python",
     "metadata": {},
     "outputs": [
      {
       "output_type": "stream",
       "stream": "stdout",
       "text": [
        "motif found using AAA+ :  Aaaaaaa\n",
        "motif found using AAA* :  AA\n",
        "motif found using AAA* :  Aaaaaaa\n",
        "motif found using AAA? :  AA\n",
        "motif found using AAA? :  Aaa\n",
        "motif found using AAA? :  aaa\n"
       ]
      }
     ],
     "prompt_number": 12
    },
    {
     "cell_type": "markdown",
     "metadata": {},
     "source": [
      "The above results are a bit of a mind bender.  Takes some time to think through the output."
     ]
    },
    {
     "cell_type": "markdown",
     "metadata": {},
     "source": [
      "<b>Square brackets</b>\n",
      "\n",
      "Square brackets can be used to indicate a set of chars, so [acgt] matches 'a' or 'c' or 'g' or 't'.  You can also use a dash to indicate a range, so [a-z] matches all lowercase letters. To use a dash without indicating a range, put the dash last, e.g. [abc-]. An up-hat (^) at the start of a square-bracket set inverts it, so [^ab] means any char except 'a' or 'b'. "
     ]
    },
    {
     "cell_type": "code",
     "collapsed": false,
     "input": [
      "#!/usr/bin/env python\n",
      "\n",
      "# Example 4.13\n",
      "# Name:re_square_backets.py\n",
      "# Description:  This programs demonstrates the use of square brackets in regular expressions\n",
      "\n",
      "# Import the regular expression module\n",
      "import re\n",
      "\n",
      "DNA = 'AGTTGTAATGAGGCTGCCGTGATAaaaaaa'\n",
      "\n",
      "# Find a pattern in the DNA sequence\n",
      "motifs = re.findall(r'G[ACGT]G', DNA, re.I)\n",
      "\n",
      "for motif in motifs :\n",
      "   print 'motif found using G[ACGT]G : ', motif\n",
      "\n",
      "# Find a pattern in the DNA sequence\n",
      "motifs = re.findall(r'A[^A]A', DNA, re.I)\n",
      "\n",
      "for motif in motifs :\n",
      "   print 'motif found using A[^A]A : ', motif\n"
     ],
     "language": "python",
     "metadata": {},
     "outputs": [
      {
       "output_type": "stream",
       "stream": "stdout",
       "text": [
        "motif found using G[ACGT]G :  GAG\n",
        "motif found using G[ACGT]G :  GTG\n",
        "motif found using A[^A]A :  ATA\n"
       ]
      }
     ],
     "prompt_number": 13
    },
    {
     "cell_type": "code",
     "collapsed": false,
     "input": [
      "# Example 4.14\n",
      "# Name:find_leucine_codons.py\n",
      "# Description:  This programs tests regular expression to find leucine codons\n",
      "\n",
      "\n",
      "# Import the regular expression module\n",
      "import re\n",
      "\n",
      "# RNA with all six leucine codons\n",
      "RNA = 'CUACUGCUCCUUUUAUUG'\n",
      "\n",
      "# Find a pattern in the RNA sequence\n",
      "\n",
      "motifs = re.findall(r'CU[ACGU]' or r'UU[AG]', RNA, re.I)\n",
      "\n",
      "for motif in motifs :\n",
      "   print 'motif with or: ', motif\n",
      "   \n",
      "motifs = re.findall(r'CU[ACGU]' and r'UU[AG]', RNA, re.I)\n",
      "\n",
      "for motif in motifs :\n",
      "   print 'motif with and: ', motif\n",
      "\n",
      "   \n",
      "motifs = re.findall(r'CU[ACGU]|UU[AG]', RNA, re.I)\n",
      "\n",
      "for motif in motifs :\n",
      "   print 'motif with | : ', motif"
     ],
     "language": "python",
     "metadata": {},
     "outputs": [
      {
       "output_type": "stream",
       "stream": "stdout",
       "text": [
        "motif with or:  CUA\n",
        "motif with or:  CUG\n",
        "motif with or:  CUC\n",
        "motif with or:  CUU\n",
        "motif with and:  UUA\n",
        "motif with and:  UUG\n",
        "motif with | :  CUA\n",
        "motif with | :  CUG\n",
        "motif with | :  CUC\n",
        "motif with | :  CUU\n",
        "motif with | :  UUA\n",
        "motif with | :  UUG\n"
       ]
      }
     ],
     "prompt_number": 14
    },
    {
     "cell_type": "markdown",
     "metadata": {},
     "source": [
      "Now let's write a regular expression to find a protein in a string of amino acids."
     ]
    },
    {
     "cell_type": "code",
     "collapsed": false,
     "input": [
      "#!/usr/bin/env python\n",
      "\n",
      "# Example 4.15\n",
      "# Name:find_protein.py\n",
      "# Description:  This program finds putive proteins from a string of amino acids\n",
      "\n",
      "# Import the regular expression module\n",
      "import re\n",
      "\n",
      "protein = 'MAALMRGLGDRV_QLQ_VVMGVINSQGAS_GYSHT_T'; \n",
      "\n",
      "# Algorithm 1\n",
      "# This regular expression finds a protein that starts with M\n",
      "# Then contains any letter followed by a stop\n",
      "# It is considered a greedy algorithm because it finds the longest string between M and _\n",
      "pattern = r'M[\\w]*_'\n",
      "motifs = re.findall(pattern, protein)\n",
      "if motifs :\n",
      "    for motif in motifs :\n",
      "       print 'A protein found by algorithm 1 is : ',  motif\n",
      "else :\n",
      "    print 'No putative protein was found by algorithm 1'\n",
      "\n",
      "# Algorithm 2\n",
      "# This regular expression finds a protein that starts with M\n",
      "# Then contains any letter followed by a stop\n",
      "# The *? renders it a non greedy algorithm that finds the next stop\n",
      "pattern = r'M[\\w]*?_'\n",
      "motifs = re.findall(pattern, protein)\n",
      "if motifs :\n",
      "    for motif in motifs :\n",
      "       print 'A protein found by algorithm 2 is : ', motif\n",
      "else :\n",
      "    print 'No putative protein was found by algorithm 2'\n",
      "\n",
      "# Algorithm 3\n",
      "# This regular expression finds a protein that starts with M\n",
      "# Then contains any letter followed by a stop\n",
      "# The *? renders it a non greedy algorithm that finds the next stop\n",
      "# The M[^M] means the string can not contain M except at the start\n",
      "pattern = r'M[^M]*?_'\n",
      "motifs = re.findall(pattern, protein)\n",
      "\n",
      "if motifs :\n",
      "    for motif in motifs :\n",
      "       print 'A protein found by algorithm 3 is : ', motif\n",
      "else :\n",
      "    print 'No putative protein was found by algorithm 3'"
     ],
     "language": "python",
     "metadata": {},
     "outputs": [
      {
       "output_type": "stream",
       "stream": "stdout",
       "text": [
        "A protein found by algorithm 1 is :  MAALMRGLGDRV_QLQ_VVMGVINSQGAS_GYSHT_\n",
        "A protein found by algorithm 2 is :  MAALMRGLGDRV_\n",
        "A protein found by algorithm 2 is :  MGVINSQGAS_\n",
        "A protein found by algorithm 3 is :  MRGLGDRV_\n",
        "A protein found by algorithm 3 is :  MGVINSQGAS_\n"
       ]
      }
     ],
     "prompt_number": 15
    },
    {
     "cell_type": "markdown",
     "metadata": {},
     "source": [
      "Algorithm 1 is obviously wrong since the protein contains a stop codon in the middle.  In theory either algorithm 2 or 3 could lead to a correct protein protein.  However, usually it is the longer protein that includes the M in the sequence that is correct.  Gene prediction programs include more information such as the ribosomal binding site motif to help distinquish between proteins in Algorithm 2 and 3.  \n",
      "\n",
      "Note:  Although I left out the else statement that does something (e.g. print) if there is no match from many of the above examples.  It is good practice to leave it in.  "
     ]
    },
    {
     "cell_type": "markdown",
     "metadata": {},
     "source": [
      "## Exercises\n",
      "\n",
      "1. Write a program that asks the user for five words, one word at a time, puts the words into a list, then prints out the list in alphabetical order. Hint1: Before you can append to a list, you will need to create an empty list using : list = [ ].  Hint2 : For a nice user interface you can include the word number as in : word = raw_input('Please input word ' + str(num) + ': ' )\n",
      "\n",
      "2. Modify the program you wrote in Session 2 Exercise IV to create a new mapping of codons to amino acids using regular expressions so that each amino acid is represented by just one regular expression. \n",
      "\n",
      "3. Write a program that finds each codon in the first reading frame for the DNA sequence 'AATTATCATGAAAAATGGTAGTGGTCGTGTGACTGAATTTCCTTTATGGTGGTCCTAAATTGAAATTGCCCT'.  Then uses a series of if..elif statements to find the amino acid corresponding to the codon.  Print out the string of amino acids using the one letter abbreviation.\n",
      "\n",
      "4. Modify the above program so that it finds the codons in all 6 reading frames (3 forward and 3 reverse complement).\n",
      "\n",
      "5. Finally, modify your program one more time to extract and print potential proteins from each reading frame using algorithm 2 in Example 4.14.\n"
     ]
    },
    {
     "cell_type": "markdown",
     "metadata": {},
     "source": [
      "* Next - <a href=\"http://nbviewer.ipython.org/urls/raw.github.com/jeffreyblanchard/AdvGen/master/Session5.ipynb\">Session 5 - Random Mutations</a>\n",
      "* Previous - <a href=\"http://nbviewer.ipython.org/urls/raw.github.com/jeffreyblanchard/AdvGen/master/Session3.ipynb\">Session 3 : Getting and Evaluating Input</a> "
     ]
    }
   ],
   "metadata": {}
  }
 ]
}