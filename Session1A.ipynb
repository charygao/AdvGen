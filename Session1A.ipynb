{
 "metadata": {
  "name": "Session1A"
 },
 "nbformat": 3,
 "nbformat_minor": 0,
 "worksheets": [
  {
   "cells": [
    {
     "cell_type": "markdown",
     "metadata": {},
     "source": [
      "## Getting Started Using UNIX Commands for Linux and OSX\n",
      "\n",
      "\"Terminal\" provides the gateway to running UNIX commands. On Macs the \"Terminal\" application can be found under Applications -> Utilities. Open \"Terminal\" and a UNIX shell appears. Now you are in the command line environment that we will work in for most of this class. By typing \"ls\" at the prompt ($)"
     ]
    },
    {
     "cell_type": "code",
     "collapsed": false,
     "input": [
      "ls"
     ],
     "language": "python",
     "metadata": {},
     "outputs": []
    },
    {
     "cell_type": "markdown",
     "metadata": {},
     "source": [
      "all the files in the home directory all listed that are seen when using \"Finder\". To see all files in the Application directory at the prompt ($) type"
     ]
    },
    {
     "cell_type": "code",
     "collapsed": false,
     "input": [
      "cd /Applications\n",
      "ls\n"
     ],
     "language": "python",
     "metadata": {},
     "outputs": []
    },
    {
     "cell_type": "markdown",
     "metadata": {},
     "source": [
      "Thus all the files that are visible through \"Finder\" are also visible to the Unix shell. Actually there are even more files that can be accessed through the Unix shell, but we will not go there until later in the class. Type"
     ]
    },
    {
     "cell_type": "code",
     "collapsed": false,
     "input": [
      "cd"
     ],
     "language": "python",
     "metadata": {},
     "outputs": []
    },
    {
     "cell_type": "markdown",
     "metadata": {},
     "source": [
      "to go back to your home directory. Type"
     ]
    },
    {
     "cell_type": "code",
     "collapsed": false,
     "input": [
      "mkdir YOURNAME"
     ],
     "language": "python",
     "metadata": {},
     "outputs": []
    },
    {
     "cell_type": "markdown",
     "metadata": {},
     "source": [
      "To make a directory to work in. Then type"
     ]
    },
    {
     "cell_type": "code",
     "collapsed": false,
     "input": [
      "cd YOURNAME"
     ],
     "language": "python",
     "metadata": {},
     "outputs": []
    },
    {
     "cell_type": "markdown",
     "metadata": {},
     "source": [
      "Make a file using yeditor on your desktop called readme.txt To Display the contents of a file one screenful at a time"
     ]
    },
    {
     "cell_type": "code",
     "collapsed": false,
     "input": [
      "less readme.txt"
     ],
     "language": "python",
     "metadata": {},
     "outputs": []
    },
    {
     "cell_type": "markdown",
     "metadata": {},
     "source": [
      "Hit space to scroll through the pages, return to scroll one line at a time and q to quit.\n",
      "\n",
      "***Shortcut: You can start typing the file name and use tab to fill out the file name\n",
      "\n",
      "To make a copy of a file"
     ]
    },
    {
     "cell_type": "code",
     "collapsed": false,
     "input": [
      "cp readme.txt useless.txt"
     ],
     "language": "python",
     "metadata": {},
     "outputs": []
    },
    {
     "cell_type": "markdown",
     "metadata": {},
     "source": [
      "To delete a file"
     ]
    },
    {
     "cell_type": "code",
     "collapsed": false,
     "input": [
      "rm useless.txt"
     ],
     "language": "python",
     "metadata": {},
     "outputs": []
    },
    {
     "cell_type": "markdown",
     "metadata": {},
     "source": [
      "To move files to a new directory"
     ]
    },
    {
     "cell_type": "code",
     "collapsed": false,
     "input": [
      "mv readme.txt Bioinformatics"
     ],
     "language": "python",
     "metadata": {},
     "outputs": []
    },
    {
     "cell_type": "markdown",
     "metadata": {},
     "source": [
      "You can also apply the cp, rm, and mc commands to several files (or directories) at once using wildcards."
     ]
    },
    {
     "cell_type": "code",
     "collapsed": false,
     "input": [
      "rm *.txt"
     ],
     "language": "python",
     "metadata": {},
     "outputs": []
    },
    {
     "cell_type": "markdown",
     "metadata": {},
     "source": [
      "There are many nice on line tutorials available for Unix. The Software Carpentry group recently put on a 2-day workshop at UMass that including a <a href=\"https://github.com/swcarpentry/boot-camps/blob/2013-05-umass/shell/Readme.md\" target=\"_blank\">tutorial on using the Shell</a>. Also check out <a href=\"http://www.linuxcommand.org/lc3_learning_the_shell.php\" target=\"_blank\">Learning the shell</a>. There is a nice quick guide on shell commands by the European Molecular Biology Network <a href=\"http://www.embnet.org/quickguides/quick-guide-unix\" target=\"_blank\">Unix Quick Guide</a>."
     ]
    },
    {
     "cell_type": "markdown",
     "metadata": {},
     "source": [
      "### Writing a Python Program\n",
      "\n",
      "Open your text editor. Save the file as \"hello.py\" in the directory you created above with your name. Type in your text editor "
     ]
    },
    {
     "cell_type": "code",
     "collapsed": false,
     "input": [
      "print ('Hello World!  I am writing computer programs.')"
     ],
     "language": "python",
     "metadata": {},
     "outputs": []
    },
    {
     "cell_type": "markdown",
     "metadata": {},
     "source": [
      "Save the file in your home directory. Then go to the \"Terminal\". Make sure you are in the same directory where \"hello.pl\" was saved by typing"
     ]
    },
    {
     "cell_type": "code",
     "collapsed": false,
     "input": [
      "ls"
     ],
     "language": "python",
     "metadata": {},
     "outputs": []
    },
    {
     "cell_type": "markdown",
     "metadata": {},
     "source": [
      "\"hello.py\" should be listed. Now to run the program type"
     ]
    },
    {
     "cell_type": "code",
     "collapsed": false,
     "input": [
      "python hello.py"
     ],
     "language": "python",
     "metadata": {},
     "outputs": []
    },
    {
     "cell_type": "markdown",
     "metadata": {},
     "source": [
      "Walla! You are a programmer."
     ]
    },
    {
     "cell_type": "markdown",
     "metadata": {},
     "source": [
      "### What to turn in?\n",
      "\n",
      "The primary objective today was to get you set up and working on your computer using a text editor and Python.  The only thing you need to turn in is your hello.py program."
     ]
    }
   ],
   "metadata": {}
  }
 ]
}