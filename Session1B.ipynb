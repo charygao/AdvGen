{
 "metadata": {
  "name": "Session1B"
 },
 "nbformat": 3,
 "nbformat_minor": 0,
 "worksheets": [
  {
   "cells": [
    {
     "cell_type": "markdown",
     "metadata": {},
     "source": [
      "## Getting Started Using MS-DOS Commands for Windows\n",
      "\n",
      "The Command Interpreter/Prompt tool provides the gateway to running MS-DOS commands on Windows. To open a shell window Start -> Accessories -> Command Prompt. Now you are in the command line environment that we will work in for most of this class. The default directory is usually something like"
     ]
    },
    {
     "cell_type": "code",
     "collapsed": false,
     "input": [
      "C:\\Documents and Settings\\lab>"
     ],
     "language": "python",
     "metadata": {},
     "outputs": []
    },
    {
     "cell_type": "markdown",
     "metadata": {},
     "source": [
      "By typing \"dir\" at the prompt (>)"
     ]
    },
    {
     "cell_type": "code",
     "collapsed": false,
     "input": [
      "dir"
     ],
     "language": "python",
     "metadata": {},
     "outputs": []
    },
    {
     "cell_type": "markdown",
     "metadata": {},
     "source": [
      "all the files in the home directory all listed that are seen when using \"Windows Viewer\". For example click on My Compututer -> Local Disk (C:) -> Documents and Settings -> lab. You should be able to see the same list of files that were list when you typed the dir command above. Now move into the Desktop folder."
     ]
    },
    {
     "cell_type": "code",
     "collapsed": false,
     "input": [
      "chdir Desktop"
     ],
     "language": "python",
     "metadata": {},
     "outputs": []
    },
    {
     "cell_type": "markdown",
     "metadata": {},
     "source": [
      "Create a folder on the desktop called \"bioinformatics\" and then in the terminal move into that directory."
     ]
    },
    {
     "cell_type": "code",
     "collapsed": false,
     "input": [
      "mkdir Bioinformatics\n",
      "chdir Bioinformatics"
     ],
     "language": "python",
     "metadata": {},
     "outputs": []
    },
    {
     "cell_type": "markdown",
     "metadata": {},
     "source": [
      "You can tell what directory you are in by typing"
     ]
    },
    {
     "cell_type": "code",
     "collapsed": false,
     "input": [
      "cd"
     ],
     "language": "python",
     "metadata": {},
     "outputs": []
    },
    {
     "cell_type": "markdown",
     "metadata": {},
     "source": [
      "If you want to move up a directory type"
     ]
    },
    {
     "cell_type": "code",
     "collapsed": false,
     "input": [
      "chdir .."
     ],
     "language": "python",
     "metadata": {},
     "outputs": []
    },
    {
     "cell_type": "markdown",
     "metadata": {},
     "source": [
      "If you want to go back to your directory home type"
     ]
    },
    {
     "cell_type": "code",
     "collapsed": false,
     "input": [
      "chdir"
     ],
     "language": "python",
     "metadata": {},
     "outputs": []
    },
    {
     "cell_type": "markdown",
     "metadata": {},
     "source": [
      "Make a file using Crimson editor on your desktop called readme.txt To Display the contents of a file one screenful at a time"
     ]
    },
    {
     "cell_type": "code",
     "collapsed": false,
     "input": [
      "more readme.txt"
     ],
     "language": "python",
     "metadata": {},
     "outputs": []
    },
    {
     "cell_type": "markdown",
     "metadata": {},
     "source": [
      "Hit space to scroll through the pages, return to scroll one line at a time and q to quit.\n",
      "\n",
      "***Shortcut: You can start typing the file name and use tab to fill out the file name\n",
      "\n",
      "To make a copy of a file"
     ]
    },
    {
     "cell_type": "code",
     "collapsed": false,
     "input": [
      "copy readme.txt useless.txt"
     ],
     "language": "python",
     "metadata": {},
     "outputs": []
    },
    {
     "cell_type": "markdown",
     "metadata": {},
     "source": [
      "To delete a file"
     ]
    },
    {
     "cell_type": "code",
     "collapsed": false,
     "input": [
      "del useless.txt"
     ],
     "language": "python",
     "metadata": {},
     "outputs": []
    },
    {
     "cell_type": "markdown",
     "metadata": {},
     "source": [
      "To move files to a new directory"
     ]
    },
    {
     "cell_type": "code",
     "collapsed": false,
     "input": [
      "move readme.txt Bioinformatics"
     ],
     "language": "python",
     "metadata": {},
     "outputs": []
    },
    {
     "cell_type": "markdown",
     "metadata": {},
     "source": [
      "You can also apply the copy, del, and move commands to several files (or directories) at once using wildcards."
     ]
    },
    {
     "cell_type": "code",
     "collapsed": false,
     "input": [
      "del *.txt"
     ],
     "language": "python",
     "metadata": {},
     "outputs": []
    },
    {
     "cell_type": "markdown",
     "metadata": {},
     "source": [
      "### Writing a Python Program\n",
      "\n",
      "Open your text editor. Save the file as \"hello.py\" in the directory you created above with your name. Type"
     ]
    },
    {
     "cell_type": "code",
     "collapsed": false,
     "input": [
      "print ('Hello World!  I am writing computer programs.')"
     ],
     "language": "python",
     "metadata": {},
     "outputs": []
    },
    {
     "cell_type": "markdown",
     "metadata": {},
     "source": [
      "Save the file in your home directory. Then go to the command prompt. Make sure you are in the same directory where \"hello.pl\" was saved by typing"
     ]
    },
    {
     "cell_type": "code",
     "collapsed": false,
     "input": [
      "dir"
     ],
     "language": "python",
     "metadata": {},
     "outputs": []
    },
    {
     "cell_type": "markdown",
     "metadata": {},
     "source": [
      "\"hello.py\" should be listed. Now to run the program type"
     ]
    },
    {
     "cell_type": "code",
     "collapsed": false,
     "input": [
      "python hello.py"
     ],
     "language": "python",
     "metadata": {},
     "outputs": []
    },
    {
     "cell_type": "markdown",
     "metadata": {},
     "source": [
      "Walla! You are a programmer."
     ]
    },
    {
     "cell_type": "markdown",
     "metadata": {},
     "source": [
      "## What to turn in?\n",
      "\n",
      "The primary objective today was to get you set up and working on your computer using a text editor and Python.  The only thing you need to turn in is your hello.py program."
     ]
    },
    {
     "cell_type": "markdown",
     "metadata": {},
     "source": [
      "* Next - <a href=\"http://nbviewer.ipython.org/urls/raw.github.com/jeffreyblanchard/AdvGen/master/Session2.ipynb\">Session 2 : Sequences and Strings </a>\n",
      "* Previous - <a href=\"http://nbviewer.ipython.org/urls/raw.github.com/jeffreyblanchard/AdvGen/master/Session1.ipynb\">Session 1 : Introduction to Bioinformatics and Python </a> "
     ]
    }
   ],
   "metadata": {}
  }
 ]
}