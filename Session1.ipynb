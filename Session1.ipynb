{
 "metadata": {
  "name": "Session1"
 },
 "nbformat": 3,
 "nbformat_minor": 0,
 "worksheets": [
  {
   "cells": [
    {
     "cell_type": "markdown",
     "metadata": {},
     "source": [
      "<h2>Learning objectives</h2>\n",
      "<ul>\n",
      "<li>Become aware of the field of bioinformatics</li>\n",
      "<li>Learn to use the Unix terminal or the Window Command Interpreter</li>\n",
      "<li>Learn to install and run Python programs on your computer.</li>\n",
      "</ul>\n",
      "<h2>Overview</h2>\n",
      "<p><b>What is Bioinformatics?</b> Bioinformatics is the field of science in which biology, computer science, statistics and information technology merge into a single discipline. There are three important sub-disciplines within bioinformatics:</p>\n",
      "<ul>\n",
      "<li>The development of new algorithms and statistics with which to assess relationships among members of large data sets.</li>\n",
      "<li>The development and implementation of tools that enable efficient access and management of different types of information.</li>\n",
      "<li>The analysis and interpretation of various types of data including nucleotide and amino acid sequences, protein domains, and protein structures. - paraphrased from old NCBI web sit.</li>\n",
      "</ul>\n",
      "<p><b>Bioinformatics...</b></p>\n",
      "<ul>\n",
      "<li>is a term coined in response to the high demand of techniques and resources for handling the explosion of molecular data.</li>\n",
      "<li>is a buzzword to describe a growing field. * benefits from the physicists, chemists and mathematicians crossing over into biology.</li>\n",
      "<li>is a collection of tools.</li>\n",
      "<li>is way of thinking about a problem.</li>\n",
      "</ul>\n",
      "<p><b>The Development and Implementation of Tools</b></p>\n",
      "<ul>\n",
      "<li>In order to make new algorithms and data sources available to biologists someone needs to write applications that include these algorithms and create new databases.</li>\n",
      "<li>Often this is first done by academic research groups.</li>\n",
      "<li>Later redone by private companies when market is large and profitable enough.</li>\n",
      "<li>There is a large gap between what is done by research groups and companies. * Sometimes this is filled by large government funded projects, but not usually in time for most researchers. * This is why bioinformatics and programming skills have become very valuable.</li>\n",
      "</ul>\n",
      "<p><b>Systems Biology</b></p>\n",
      "<ul>\n",
      "<li>To enable predictive models of biological systems - Mathematical models - Graphical models - Probabilistic models</li>\n",
      "<li>To effectively utilize genomic data from different sources to discover functions for genes and proteins.</li>\n",
      "<li>To uncover rules governing and constraining biological systems.</li>\n",
      "</ul>\n",
      "<p><b>Open Source Software</b></p>\n",
      "<p>The Open Source movement treats program source code in a similar manner to the way scientists publish their results: publicly and open to unfettered examination and discussion. Examples include:</p>\n",
      "<ul>\n",
      "<li>Linux operating system</li>\n",
      "<li>Apache web server</li>\n",
      "<li>Firefox web browser</li>\n",
      "<li>Python and IPython</li>\n",
      "<li>R</li>\n",
      "<li>BioPerl, BioJava, BioPython</li>\n",
      "<li>EMBOSS, Bioconductor, Cytoscape, and many of the programs we will use in bioinformatics.</li>\n",
      "</ul>\n",
      "<p>We can also look at the code to see how they solved they problem, what algorithms they used and even use the code in our programs as long as we properly acknowledge the source.</p>\n",
      "<p><b>Free Software</b></p>\n",
      "<p>Some researchers make their software available for free, but as executables where the code is hidden. Often this software is available free to academic users, but requires a fee for commercial use. It is similar to getting a bacterial strain for free, but not being able to modify it for your research. That can be ok if the strain works for you as is.</p>\n",
      "<p><b>Computer Operating Systems</b></p>\n",
      "<p>Bioinformatics does not require learning a flavor of Unix nor does it require an expensive server system. Nearly everything we do in this course can be done in Windows, Apple's OS X, Linux and Unix and on most desk- or laptop computers sold in the past few years. One of the goals of this course is for you to be able to set up an environment to program and run bioinformatics tools on your own computer or the computers in your research laboratory.</p>\n",
      "<p><b>Python, IPython and IPython Notebooks</b></p>\n",
      "<p>Python is open source and multi-platform. Therefore you could choose any operating system on which Python is available. That includes all the major operating systems - Microsoft Windows, GNU/Linux, Mac OS X. Python is a popular programming language for the Bioinformatics and is also popular in other areas of biology and in engineering disciplines. Python is an interpreted language and comes with its own interpreter. Python can be used interactively inside the Python shell, and this is considered one of Python's strengths since it encourages \"exploratory computing\" that lets the programmer try out simple steps and algorithms before attempting to write functions and modules. Python has a handful of mature 3rd-party open source libraries, namely Numpy/Scipy for numerical operations, Cython for low-level optimization in C, IPython for interactive work, and MatPlotLib for plotting.</p>\n",
      "<p>IPython is an enhanced shell for Python that is rich in features and makes life easy for those who use Python for scientific computing. The IPython notebook provides a web-based application suitable for capturing the whole computation process: developing, documenting, and executing code, as well as communicating the results. In this way, notebook files can serve as a complete computational record of an analysis and/or workflow. Notebooks may be exported to a range of static formats, including HTML, PDF, and slide shows. Here are a few tutorials and courses for learning Python</p>\n",
      "<ul>\n",
      "<li><a href=\"http://www.greenteapress.com/thinkpython/thinkpython.html\" target=\"_blank\">Think Python: How to Think Like a Computer Scientist</a></li>\n",
      "<li><a href=\"http://interactivepython.org/runestone/static/thinkcspy/index.html\" target=\"_blank\">Think Python: How to Think Like a Computer Scientist - Interactive Version</a></li>\n",
      "<li><a href=\"http://www.pythonlearn.com/book.phptarget=\" _blank=\"\">Dr. Chuck</a></li>\n",
      "<li><a href=\"https://www.coursera.org/course/interactivepython\" target=\"_blank\">An Introduction to Interactive Programming in Python</a> A Coursera course</li>\n",
      "<li><a href=\"http://www.learnpython.org/\" target=\"_blank\">LearnPython</a></li>\n",
      "<li><a href=\"http://software-carpentry.org/v4/python/index.html\" target=\"_blank\">Software Carpentry's Python Tutorial</a></li>\n",
      "<li><a href=\"http://intro-prog-bioinfo-2012.wikispaces.com/\" target=\"_blank\">QB3 Python Bioinformatics Course 2012</a></li>\n",
      "<li><a href=\"http://www.programmingforbiologists.org//\" target=\"_blank\">Ethan White's Programming for Biologists</a></li>\n",
      "<li><a href=\"http://rosalind.info/problems/locations/\" target=\"_blank\">Rosalind</a></li>\n",
      "</ul>\n",
      "<p><b>SciPy</b></p>\n",
      "<p><a href=\"http://scipy.org/\" target=\"_blank\">SciPy</a> (pronounced \u201cSigh Pie\u201d) is a Python-based ecosystem of open-source software for mathematics, science, and engineering. In particular, these are some of the core packages:</p>\n",
      "<ul>\n",
      "<li>NumPy - Base N-dimensional array package</li>\n",
      "<li>SciPy library Fundamental library for scientific computing</li>\n",
      "<li>Matplotlib - Comprehensive 2D Plotting</li>\n",
      "<li>IPython - Enhanced Interactive Console</li>\n",
      "<li>Sympy - Symbolic mathematics</li>\n",
      "<li>Pandas - Data structures &amp; analysis</li>\n",
      "</ul>\n",
      "<p>SciPy related Tutorials</p>\n",
      "<ul>\n",
      "<li><a href=\"http://matplotlib.org/users/pyplot_tutorial.html\" target=\"_blank\">matplotlib User's Guide and Tutorials</a></li>\n",
      "<li><a href=\"http://www.loria.fr/~rougier/teaching/matplotlib/#ipython-and-the-pylab-mode\" target=\"_blank\">matplotlib beginner tutorial.</a> by Nicolas Rougier</li>\n",
      "<li><a href=\"http://wiki.scipy.org/Tentative_NumPy_Tutorial\" target=\"_blank\">Numpy Tutorial</a></li>\n",
      "</ul>\n",
      "<h2>On the Computer</h2>\n",
      "<p><b>Text Editors</b></p>\n",
      "<p>A text editor is used to type computer programs and other documents and save the contents as files. We could just use Microsoft Word or Open Office, but word processing and text editing are very different things. Word processors, for all their other strengths, are actually surprisingly weak at text manipulation. Here are some popular free text editors. Please install one of this one your computer</p>\n",
      "<p>Ubuntu (Use Synaptic Package Manager to install)</p>\n",
      "<ul>\n",
      "<li>gedit</li>\n",
      "<li>Kate</li>\n",
      "<li>Vim</li>\n",
      "<li>Emacs</li>\n",
      "</ul>\n",
      "<p>Mac OSX</p>\n",
      "<ul>\n",
      "<li><a href=\"http://www.barebones.com/products/TextWrangler/\" target=\"_blank\">TextWrangler</a></li>\n",
      "</ul>\n",
      "<p>Windows</p>\n",
      "<ul>\n",
      "<li><a href=\"http://notepad-plus.sourceforge.net/uk/site.htm\" target=\"_blank\">Notepad++</a></li>\n",
      "<li><a href=\"http://www.crimsoneditor.com/\" target=\"_blank\">Crimson Editor</a></li>\n",
      "<li><a href=\"http://www.vim.org/download.php\" target=\"_blank\">GVim</a></li>\n",
      "</ul>\n",
      "<p>In order to open .tar.gz files on a windows machine, you may need to install a program that can decompress these archive files. Ex. <a href=\"http://www.rarlab.com/rar/wrar371.exe\" target=\"_blank\"> WinRaR</a>. You can also use <a href=\"http://www.sfsu.edu/ftp/win/utils/\" target=\"_blank\"> PowerArchiver</a> (freeware) or <a href=\"http://www.7-zip.org/\" target=\"_blank\"> 7-zip</a> (freeware) or <a href=\"http://www.winzip.com/index.htm\" target=\"_blank\"> Winzip</a> (commercial).</p>\n",
      "<p><b>Installing Python</b></p>\n",
      "<p>Windows and Apple</p>\n",
      "1. Download and install <a href=\"http://continuum.io/downloads.html\" target=\"_blank\">Anaconda</a> or the free edition of the <a href=\"https://www.enthought.com/products/epd_free.php\" target=\"_blank\">Enthought Python Distribution (EPD)</a>.\n",
      "\n",
      "2. Update IPython to the current version: On a Mac, using the Terminal application: \n",
      "\n",
      "Anaconda:"
     ]
    },
    {
     "cell_type": "code",
     "collapsed": false,
     "input": [
      "conda update conda\n",
      "conda update ipython"
     ],
     "language": "python",
     "metadata": {},
     "outputs": []
    },
    {
     "cell_type": "markdown",
     "metadata": {},
     "source": [
      "Enthought:"
     ]
    },
    {
     "cell_type": "code",
     "collapsed": false,
     "input": [
      "enpkg enstaller\n",
      "enpkg ipython"
     ],
     "language": "python",
     "metadata": {},
     "outputs": []
    },
    {
     "cell_type": "markdown",
     "metadata": {},
     "source": [
      "On Linux, most distributions have everything you need in their package managers.\n",
      "\n",
      "1. Install IPython and its dependencies:\n",
      "\n",
      "On Ubuntu or other Debian-based distributions, type at the shell:"
     ]
    },
    {
     "cell_type": "code",
     "collapsed": false,
     "input": [
      "sudo apt-get install ipython-notebook"
     ],
     "language": "python",
     "metadata": {},
     "outputs": []
    },
    {
     "cell_type": "markdown",
     "metadata": {},
     "source": [
      "2. Install additional tools for scientific computing:"
     ]
    },
    {
     "cell_type": "code",
     "collapsed": false,
     "input": [
      "sudo apt-get install python-matplotlib python-scipy python-pandas python-sympy python-nose"
     ],
     "language": "python",
     "metadata": {},
     "outputs": []
    },
    {
     "cell_type": "markdown",
     "metadata": {},
     "source": [
      "### Learning Unix or the Command Interpreter\n",
      "Many bioinformatic programs do not have a user interface (e.g. drop down menus and such) and are run in command line mode. If you are working on a Linux or Apple computer follow the tutorial Session 1A on using the Shell/Terminal. If you are working on a Windows operation system follow the Command Interpreter tutorial Session 1B. If you are like me and need to go back and forth here is a mapping of commands <a href=\"http://www.windowsreference.com/windows-xp/dos-commands-and-equivalent-linux-commands/\" target=\"_blank\">mapping of ms-dos and shell commands</a>."
     ]
    }
   ],
   "metadata": {}
  }
 ]
}