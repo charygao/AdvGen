{
 "metadata": {
  "name": ""
 },
 "nbformat": 3,
 "nbformat_minor": 0,
 "worksheets": [
  {
   "cells": [
    {
     "cell_type": "markdown",
     "metadata": {},
     "source": [
      "## Session 1 : Introduction to Bioinformatics and Python\n",
      "\n",
      "## Learning objectives\n",
      "\n",
      "* Become aware of the field of bioinformatics</li>\n",
      "* Learn to use the Unix terminal or the Window Command Interpreter\n",
      "* Learn to install and run Python programs on your computer\n",
      "\n",
      "## Overview\n",
      "### What is Bioinformatics?\n",
      "Bioinformatics is the field of science in which biology, computer science, statistics and information technology merge into a single discipline. There are three important sub-disciplines within bioinformatics:\n",
      "\n",
      "* The development of new algorithms and statistics with which to assess relationships among members of large data sets.\n",
      "* The development and implementation of tools that enable efficient access and management of different types of information.\n",
      "* The analysis and interpretation of various types of data including nucleotide and amino acid sequences, protein domains, and protein structures. - paraphrased from old NCBI web sit.\n",
      "\n",
      "### Bioinformatics...\n",
      "\n",
      "* is a term coined in response to the high demand of techniques and resources for handling the explosion of molecular data.\n",
      "* is a buzzword to describe a growing field. \n",
      "* benefits from the physicists, chemists and mathematicians crossing over into biology.\n",
      "* is a collection of tools.\n",
      "* is way of thinking about a problem.\n",
      "\n",
      "### The Development and Implementation of Tools\n",
      "\n",
      "* In order to make new algorithms and data sources available to biologists someone needs to write applications that include these algorithms and create new databases.\n",
      "* Often this is first done by academic research groups.\n",
      "* Later redone by private companies when market is large and profitable enough.\n",
      "* There is a large gap between what is done by research groups and companies. \n",
      "* Sometimes this is filled by large government funded projects, but not usually in time for most researchers. \n",
      "* This is why bioinformatics and programming skills have become very valuable.\n",
      "\n",
      "### Systems Biology\n",
      "\n",
      "* To enable predictive models of biological systems - Mathematical models - Graphical models - Probabilistic models\n",
      "* To effectively utilize genomic data from different sources to discover functions for genes and proteins.</li>\n",
      "* To uncover rules governing and constraining biological systems.</li>\n",
      "\n",
      "### Open Source Software\n",
      "\n",
      "The Open Source movement treats program source code in a similar manner to the way scientists publish their results: publicly and open to unfettered examination and discussion. Examples include:\n",
      "\n",
      "* Linux operating system\n",
      "* Apache web server\n",
      "* Firefox web browser\n",
      "* Python and IPython\n",
      "* R\n",
      "* BioPerl, BioJava, BioPython\n",
      "* EMBOSS, Bioconductor, Cytoscape, and many of the programs we will use in bioinformatics.\n",
      "\n",
      "We can also look at the code to see how they solved they problem, what algorithms they used and even use the code in our programs as long as we properly acknowledge the source.\n",
      "\n",
      "### Free Software\n",
      "\n",
      "Some researchers make their software available for free, but as executables where the code is hidden. Often this software is available free to academic users, but requires a fee for commercial use. It is similar to getting a bacterial strain for free, but not being able to modify it for your research. That can be ok if the strain works for you as is.\n",
      "\n",
      "### Computer Operating Systems\n",
      "\n",
      "Bioinformatics does not require learning a flavor of Unix nor does it require an expensive server system. Nearly everything we do in this course can be done in Windows, Apple's OS X, Linux and Unix and on most desk- or laptop computers sold in the past few years. One of the goals of this course is for you to be able to set up an environment to program and run bioinformatics tools on your own computer or the computers in your research laboratory.\n",
      "\n",
      "### Python, IPython and IPython Notebooks\n",
      "Python is open source and multi-platform. Therefore you could choose any operating system on which Python is available. That includes all the major operating systems - Microsoft Windows, GNU/Linux, Mac OS X. Python is a popular programming language for the Bioinformatics and is also popular in other areas of biology and in engineering disciplines. Python is an interpreted language and comes with its own interpreter. Python can be used interactively inside the Python shell, and this is considered one of Python's strengths since it encourages \"exploratory computing\" that lets the programmer try out simple steps and algorithms before attempting to write functions and modules. Python has a handful of mature 3rd-party open source libraries, namely Numpy/Scipy for numerical operations, Cython for low-level optimization in C, IPython for interactive work, and MatPlotLib for plotting.\n",
      "\n",
      "IPython is an enhanced shell for Python that is rich in features and makes life easy for those who use Python for scientific computing. The IPython notebook provides a web-based application suitable for capturing the whole computation process: developing, documenting, and executing code, as well as communicating the results. In this way, notebook files can serve as a complete computational record of an analysis and/or workflow. Notebooks may be exported to a range of static formats, including HTML, PDF, and slide shows. Here are a few tutorials and courses for learning Python</p>\n",
      "\n",
      "* <a href=\"http://www.greenteapress.com/thinkpython/thinkpython.html\" target=\"_blank\">Think Python: How to Think Like a Computer Scientist</a>\n",
      "* <a href=\"http://interactivepython.org/runestone/static/thinkcspy/index.html\" target=\"_blank\">Think Python: How to Think Like a Computer Scientist - Interactive Version</a>\n",
      "* <a href=\"http://www.pythonlearn.com/book.phptarget=\" target=\"_blank=\">Dr. Chuck</a>\n",
      "* <a href=\"https://www.coursera.org/course/interactivepython\" target=\"_blank\">An Introduction to Interactive Programming in Python</a> A Coursera course\n",
      "* <a href=\"http://www.learnpython.org/\" target=\"_blank\">LearnPython</a>\n",
      "* <a href=\"http://software-carpentry.org/v4/python/index.html\" target=\"_blank\">Software Carpentry's Python Tutorial</a>\n",
      "* <a href=\"http://intro-prog-bioinfo-2012.wikispaces.com/\" target=\"_blank\">QB3 Python Bioinformatics Course 2012</a>\n",
      "* <a href=\"http://www.programmingforbiologists.org//\" target=\"_blank\">Ethan White's Programming for Biologists</a>\n",
      "* <a href=\"http://rosalind.info/problems/locations/\" target=\"_blank\">Rosalind</a>\n",
      "\n",
      "### GitHub\n",
      "\n",
      "GitHub - https://github.com/ has become a popular way to manage, share and view code for open source projects. You can read more about version control - http://git-scm.com/book/en/Getting-Started-About-Version-Control. Once you sign up for an account you will be able to see the introductory guide which includes (1) Setting up Git, (2) Creating repositories, (3) Forking repositories and (4) Working together.  \n",
      "\n",
      "The tutorials created for this tutorial on learning Python for Bioinformatics are posted on GitHub. The files can be downloaded to your computer and you can modify the files to create new examples, better exercises or simply correct my typos. Since these tutorials are written using IPython notebooks, the GitHub files can be viewed as web pages using the IPhython notebook viewer http://nbviewer.ipython.org/ or on your computer using IPython Notebook - http://ipython.org/notebook.html.  Session 8 covers some IPython notebook basics - http://nbviewer.ipython.org/github/jeffreyblanchard/AdvGen/blob/master/Session8.ipynb .  \n",
      "\n",
      "### SciPy\n",
      "<a href=\"http://scipy.org/\" target=\"_blank\">SciPy</a> (pronounced \u201cSigh Pie\u201d) is a Python-based ecosystem of open-source software for mathematics, science, and engineering. In particular, these are some of the core packages:</p>\n",
      "\n",
      "* NumPy - Base N-dimensional array package\n",
      "* SciPy library Fundamental library for scientific computing\n",
      "* Matplotlib - Comprehensive 2D Plotting\n",
      "* IPython - Enhanced Interactive Console\n",
      "* Sympy - Symbolic mathematics\n",
      "* Pandas - Data structures &amp; analysis\n",
      "\n",
      "### SciPy related Tutorials\n",
      "\n",
      "* <a href=\"http://matplotlib.org/users/pyplot_tutorial.html\" target=\"_blank\">matplotlib User's Guide and Tutorials</a>\n",
      "* <a href=\"http://www.loria.fr/~rougier/teaching/matplotlib/#ipython-and-the-pylab-mode\" target=\"_blank\">matplotlib beginner tutorial.</a> by Nicolas Rougier\n",
      "* <a href=\"http://wiki.scipy.org/Tentative_NumPy_Tutorial\" target=\"_blank\">Numpy Tutorial</a>\n",
      "\n",
      "## On the Computer\n",
      "### Text Editors\n",
      "\n",
      "A text editor is used to type computer programs and other documents and save the contents as files. We could just use Microsoft Word or Open Office, but word processing and text editing are very different things. Word processors, for all their other strengths, are actually surprisingly weak at text manipulation. Here are some popular free text editors. Please install one of this one your computer\n",
      "\n",
      "#### Ubuntu (Use Synaptic Package Manager to install)\n",
      "\n",
      "* gedit\n",
      "* Kate\n",
      "* Vim\n",
      "* Emacs\n",
      "\n",
      "#### Mac OSX\n",
      "\n",
      "* <a href=\"http://www.barebones.com/products/TextWrangler/\" target=\"_blank\">TextWrangler</a>\n",
      "\n",
      "#### Windows\n",
      "\n",
      "* <a href=\"http://notepad-plus.sourceforge.net/uk/site.htm\" target=\"_blank\">Notepad++</a>\n",
      "* <a href=\"http://www.crimsoneditor.com/\" target=\"_blank\">Crimson Editor</a>\n",
      "* <a href=\"http://www.vim.org/download.php\" target=\"_blank\">GVim</a>\n",
      "\n",
      "In order to open .tar.gz files on a windows machine, you may need to install a program that can decompress these archive files. Ex. <a href=\"http://www.rarlab.com/rar/wrar371.exe\" target=\"_blank\"> WinRaR</a>. You can also use <a href=\"http://www.sfsu.edu/ftp/win/utils/\" target=\"_blank\"> PowerArchiver</a> (freeware) or <a href=\"http://www.7-zip.org/\" target=\"_blank\"> 7-zip</a> (freeware) or <a href=\"http://www.winzip.com/index.htm\" target=\"_blank\"> Winzip</a> (commercial).\n",
      "\n",
      "### Installing Python\n",
      "#### Windows and Apple\n",
      "\n",
      "1. Download and install <a href=\"http://continuum.io/downloads.html\" target=\"_blank\">Anaconda</a> or the free edition of the <a href=\"https://www.enthought.com/products/epd_free.php\" target=\"_blank\">Enthought Python Distribution (EPD)</a>.\n",
      "\n",
      "2. Update IPython to the current version: On a Mac, using the Terminal application: \n",
      "\n",
      "Anaconda:"
     ]
    },
    {
     "cell_type": "code",
     "collapsed": false,
     "input": [
      "conda update conda\n",
      "conda update ipython"
     ],
     "language": "python",
     "metadata": {},
     "outputs": []
    },
    {
     "cell_type": "markdown",
     "metadata": {},
     "source": [
      "Enthought:"
     ]
    },
    {
     "cell_type": "code",
     "collapsed": false,
     "input": [
      "enpkg enstaller\n",
      "enpkg ipython"
     ],
     "language": "python",
     "metadata": {},
     "outputs": []
    },
    {
     "cell_type": "markdown",
     "metadata": {},
     "source": [
      "On Linux, most distributions have everything you need in their package managers.\n",
      "\n",
      "1. Install IPython and its dependencies:\n",
      "\n",
      "On Ubuntu or other Debian-based distributions, type at the shell:"
     ]
    },
    {
     "cell_type": "code",
     "collapsed": false,
     "input": [
      "sudo apt-get install ipython-notebook"
     ],
     "language": "python",
     "metadata": {},
     "outputs": []
    },
    {
     "cell_type": "markdown",
     "metadata": {},
     "source": [
      "2. Install additional tools for scientific computing:"
     ]
    },
    {
     "cell_type": "code",
     "collapsed": false,
     "input": [
      "sudo apt-get install python-matplotlib python-scipy python-pandas python-sympy python-nose"
     ],
     "language": "python",
     "metadata": {},
     "outputs": []
    },
    {
     "cell_type": "markdown",
     "metadata": {},
     "source": [
      "### Learning Unix or the Command Interpreter\n",
      "Many bioinformatic programs do not have a user interface (e.g. drop down menus and such) and are run in command line mode. If you are working on a Linux or Apple computer follow the tutorial Session 1A on using the Shell/Terminal. If you are working on a Windows operation system follow the Command Interpreter tutorial Session 1B. If you are like me and need to go back and forth here is a mapping of commands <a href=\"http://www.windowsreference.com/windows-xp/dos-commands-and-equivalent-linux-commands/\" target=\"_blank\">mapping of ms-dos and shell commands</a>.\n",
      "\n",
      "* <a href=\"http://nbviewer.ipython.org/urls/raw.github.com/jeffreyblanchard/AdvGen/master/Session1A.ipynb\">Session 1A - UNIX Commands for Linux and OSX </a>\n",
      "* <a href=\"http://nbviewer.ipython.org/urls/raw.github.com/jeffreyblanchard/AdvGen/master/Session1B.ipynb\">Session 1B - MS-DOS Commands for Windows </a>"
     ]
    },
    {
     "cell_type": "markdown",
     "metadata": {},
     "source": [
      "<a href=\"http://www.windowsreference.com/windows-xp/dos-commands-and-equivalent-linux-commands/\" target=\"_blank\">"
     ]
    }
   ],
   "metadata": {}
  }
 ]
}