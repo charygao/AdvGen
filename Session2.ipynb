{
 "metadata": {
  "name": "Session2"
 },
 "nbformat": 3,
 "nbformat_minor": 0,
 "worksheets": [
  {
   "cells": [
    {
     "cell_type": "markdown",
     "metadata": {},
     "source": [
      "# Session 2 : Sequences and Strings\n",
      "\n",
      "The biologist's string quartet is composed of nucleic acids.  The computer-science terminology is a little different from the biology terminology. In computer science parlance, these tables define two alphabets, finite sets of symbols that can make strings. A sequence of symbols is called a string. For instance, this sentence is a string. A language is a (finite or infinite) set of strings. You often hear bioinformaticians referring to an actual sequence of DNA or protein as a \"string,\" as opposed to its representation as sequence data. This is an example of the terminologies of the two disciplines crossing over into one another.\n",
      "\n",
      "In today's lab we will begin working with DNA and RNA strings (sequences) in silico and you will write programs to join exons, transcribe DNA into RNA and find codons in your mRNA. \n",
      "\n",
      "## 2.1 The Programming Process\n",
      "\n",
      "Fundamental elements in the programming process include:\n",
      "\n",
      "* Making an overall design for the program, including the general algorithm by which the program computes the output.\n",
      "* Identifying the required inputs.\n",
      "* Deciding how the outputs will print; for example, to files or displayed graphically.\n",
      "* Refining the overall design by specifying more detail.\n",
      "* Writing the Python program code.\n",
      "\n",
      "It may seem like writing code is the hard part, but really the design phase often is the tricky step because you need to understand what you can do with Python before you start writing.  As you learn the Python programming language some programs will become trivial while others may take hours to days to design.  Usually the best way to tackle the design is to break the program into small parts and try to connect them together.   There is actually a whole field of specialization called software engineering that addresses these issues.  The style of programming we will be using is called imperative programming that relies on dividing a problem into interacting subroutines.  A popular programming style is object-oriented programming which, as we will see later, is used in Biopython.\n",
      "\n",
      "### Writing in Pseudocode\n",
      "\n",
      "Writing in pseudocode is a lot like scribbling ideas down on a napkin.  If I wanted to find all heme motifs in a genome I might begin by writing\n",
      "\n",
      "* Get sequence from GenBank.  \n",
      "* Extract the coding sequences.\n",
      "* Find heme motifs in coding sequence.\n",
      "* Save proteins with heme motifs to a file\n",
      "\n",
      "Then you begin writing code to accomplish these tasks.  Often as you work on one task you may find that it needs to be broken down into even smaller parts.  This modular approach to programming is also very useful for finding errors in the smaller parts of your program before you stick them together into a complete program.\n",
      "\n",
      "### Comments\n",
      "\n",
      "Often the pseudocode is integrated into the program using comments.  Comments are all lines beginning with # and are ignored by the Python interpreter (except the first line of your program as you will see below).  They are extremely useful in understanding what a program does.  Comments can make your program intelligible by others, but more importantly they will help you understand what you did when you revise the program a month later.  You can also use the # sign to \"comment out\" portions of your code when you are testing and debugging the program.\n",
      "\n",
      "### Changing TextWrangler Preferences\n",
      "\n",
      "It is very helpful for interpreting error messages to see the line number in your program.   To do this in TextWrangler in the menu bar go to TextWrangler-> Preferences -> Text Status Display.  Click on \"Show line numbers\".\n",
      "\n",
      "If the small type drives you nuts or if you want me to be able to read your code you can make the font bigger by going to TextWrangler-> Preferences -> Editor Defaults.  I recommend 12pt font or greater.  \n"
     ]
    },
    {
     "cell_type": "markdown",
     "metadata": {},
     "source": [
      "## 2.2 String quotes: single, double, and triple!\n",
      "\n",
      "In our first program in session we printed \"Hello World!  I am writing computer programs.\"  The quotes can actually be three different flavors. The first two, single (a.k.a. the apostrophe) and double, are familiar (although don't confuse the single quote (') with the backtick (`) -- the one that's probably with the tilde (~) on your keyboard).\n",
      "\n",
      "Single and double quotes can more or less be used interchangeably, the only exception being which type of quote is allowed to appear inside the string. If the string itself is double-quoted, single quotes may appear inside the string, and visa-versa:"
     ]
    },
    {
     "cell_type": "code",
     "collapsed": false,
     "input": [
      "print 'Hello \"world\"! I am writing computer programs.'"
     ],
     "language": "python",
     "metadata": {},
     "outputs": [
      {
       "output_type": "stream",
       "stream": "stdout",
       "text": [
        "Hello \"world\"! I am writing computer programs.\n"
       ]
      }
     ],
     "prompt_number": 1
    },
    {
     "cell_type": "code",
     "collapsed": false,
     "input": [
      "print \"Hello world! I'm writing computer programs.\""
     ],
     "language": "python",
     "metadata": {},
     "outputs": [
      {
       "output_type": "stream",
       "stream": "stdout",
       "text": [
        "Hello world! I'm writing computer programs.\n"
       ]
      }
     ],
     "prompt_number": 2
    },
    {
     "cell_type": "markdown",
     "metadata": {},
     "source": [
      "The key things to notice here are that double quotes are present in the first, and a single quote appears in the second, but the two cannot be combined. In order to use both single and double quotes in the same print statement, employ the extra-spiffy triple quote, which is actually just three single quotes:"
     ]
    },
    {
     "cell_type": "code",
     "collapsed": false,
     "input": [
      "print '''Hello \"world\"! I'm writing computer programs.'''"
     ],
     "language": "python",
     "metadata": {},
     "outputs": [
      {
       "output_type": "stream",
       "stream": "stdout",
       "text": [
        "Hello \"world\"! I'm writing computer programs.\n"
       ]
      }
     ],
     "prompt_number": 3
    },
    {
     "cell_type": "markdown",
     "metadata": {},
     "source": [
      "This snippet does almost exactly the same thing as the last snippet.\n",
      "\n",
      "Note two aspects of the triple quotes:\n",
      "\n",
      "1. Both single and double quotes can be used inside triple quotes.\n",
      "2. Triple quoted strings can span multiple lines, and line breaks inside the quoted string are stored and faithfully displayed in the print operation."
     ]
    },
    {
     "cell_type": "markdown",
     "metadata": {},
     "source": [
      "## 2.3 A Program to Store a DNA Sequence\n",
      "\n",
      "Let's write a small program that stores some DNA in a variable and prints it to the screen. The DNA is written in the usual fashion, as a string\n",
      "made of the letters A, C, G, and T, and we'll call the variable DNA. In other words, DNA is the name of the DNA sequence data used in the\n",
      "program. Note that in Python, a variable is really the name for some data you wish to use. The name gives you full access to the data. Example 1 shows the entire program."
     ]
    },
    {
     "cell_type": "code",
     "collapsed": false,
     "input": [
      "#!/usr/bin/env python\n",
      "\n",
      "# Example 2.1\n",
      "# Name: DNA_printout.py\n",
      "# Description:  This program stores a DNA sequence in a variable and prints out the DNA sequence\n",
      "\n",
      "# First store the DNA in a variable called DNA\n",
      "DNA = 'AGTTGTAATGAGGCTGCCGTGATA'\n",
      "\n",
      "# Next, print the DNA onto the screen (Terminal or Command Prompt Window)\n",
      "print DNA"
     ],
     "language": "python",
     "metadata": {},
     "outputs": [
      {
       "output_type": "stream",
       "stream": "stdout",
       "text": [
        "AGTTGTAATGAGGCTGCCGTGATA\n"
       ]
      }
     ],
     "prompt_number": 4
    },
    {
     "cell_type": "markdown",
     "metadata": {},
     "source": [
      "The second step is to run the program. Type the above code into your text editor and save the file as DNA_printout.py.  Now in the Terminal or Command Prompt type\n",
      "\n",
      "<pre>\n",
      "    python DNA_printout.py\n",
      "</pre> \n",
      "If you've successfully run the program, you'll see the output printed on your computer screen in the Terminal or Command Prompt.  If not one common error when starting is that the file is not saved in the same directory.  Trying typing ls (unix/OSX) or dir (Windows) to check on whether your file is in the directory.\n",
      "\n",
      "Example 2-1 illustrates many of the ideas all our Python programs will rely on. One of these ideas is control flow , or the order in which the statements in the program are executed by the computer.  Every program starts at the first line and executes the statements one after the other until it reaches the end, unless it is explicitly told to do otherwise. Example 4-1 simply proceeds from top to bottom, with no detours.  In later sessions, you'll learn how programs can control the flow of execution.\n",
      "\n",
      "In the above code the first line is commonly called the shebang line.  A shebang occurs as the initial two characters on the initial line of a script, is the character sequence consisting of the characters number sign and exclamation mark (that is, \"#!\").  When a script with a shebang is run as a program, the program loader parses the rest of the script's initial line as an interpreter directive; the specified interpreter program is run instead, which in our example is Python.  It is good practice to start off all of your Python code with this line.\n",
      "\n",
      "The next set of lines are comments (denoted by the #) indicating who wrote the program when and for what purpose. Comments also explain what each section of the code is for and sometimes give explanations on how the code achieves its goals.\n",
      "\n",
      " Make sure you save it to your \"AdvGen or Bioinformatics\" directory.  Here is an example of how I often begin my programs.\n"
     ]
    },
    {
     "cell_type": "markdown",
     "metadata": {},
     "source": [
      "    #!/usr/bin/env python\n",
      "\n",
      "    #####\n",
      "    # Name:     DNA_printout.py\n",
      "    # Author:   Jeff Blanchard\n",
      "    # Date:     9/1/2013\n",
      "    #\n",
      "    # Description:  This program stores a DNA sequence in a variable and prints out the DNA sequence\n",
      "    #\n",
      "    # Usage: python DNA_printout.py\n",
      "    #####"
     ]
    },
    {
     "cell_type": "markdown",
     "metadata": {},
     "source": [
      "It's tempting to belabor the point about the importance of comments. Suffice it to say that in most university-level, computer-science class assignments, the program without comments typically gets a low or failing grade; also, the programmer on the job who doesn't comment code is liable to have a short and unsuccessful career.\n",
      "\n",
      "Now let's look at the variable DNA. Strings in Python are a type of variable.  We will learn about the other two types, integers and floating point numbers later on. The variable name DNA is somewhat arbitrary. You can pick another name for it, and the program behaves the same way. For instance, if you replace the two lines:\n",
      "\n",
      "<pre>\n",
      "DNA = 'AGTTGTAATGAGGCTGCCGTGATA'\n",
      "print DNA\n",
      "</pre>\n",
      "with these\n",
      "<pre>\n",
      "A_poem_by_Emily_Dickinson = 'AGTTGTAATGAGGCTGCCGTGATA'\n",
      "print A_poem_by_Emily_Dickinson\n",
      "</pre>\n",
      "\n",
      "the program behaves in exactly the same way, printing out the DNA to the computer screen. The computer attaches no meaning to the use of the string name DNA instead of A_poem_by_Emily_Dickinson, but whoever reads the program certainly will. One name makes perfect sense, clearly indicates what the string is for in the program, and eases the chore of understanding the program. The other name makes it unclear what the program is doing or what the variable is for. Using well-chosen names is part of what's called self-documenting code. You'll still need comments, but perhaps not as many, if you pick your names well.  Another important point along the same lines is using blank lines and comments to make your code more easily read by humans. \n",
      "\n",
      "Here are a few basic rules for variable names:\n",
      "\n",
      "1. Python variable names are case-sensitive, so Var and var are different variables.\n",
      "2. Though variable names can contain letters, numbers and underscores ( _ ), they MUST start with a letter (a-z).\n",
      "3. Variable names, CANNOT contain spaces or special non-alphanumeric characters (e.g. holyS#+%? is naughty, but holyMackerel is kid tested, mother approved), nor can they be any of the following words that already have special meaning in Python:\n",
      "\n",
      ">         and      assert   break    class    continue def      del      elif\n",
      ">         else     except   exec     finally  for      from     global   if\n",
      ">         import   in       is       lambda   not      or       pass     print\n",
      ">         raise    return   try      while    yield\n",
      "\n",
      "For the most part, your text editor will remind you that these words are off-limits by coloring these words in helpful ways when you type them.\n",
      "\n"
     ]
    },
    {
     "cell_type": "markdown",
     "metadata": {},
     "source": [
      "## 2.3. Concatenating DNA Fragments\n",
      "\n",
      "An important task for many biologists is to merge different strings of DNA in one unique sequence as in gene splicing where 2 exons are brought together or in phylogenetic analyses in which genes are concatened.   We can modify the previous script to concatenate two distinct DNA sequences in one."
     ]
    },
    {
     "cell_type": "code",
     "collapsed": false,
     "input": [
      "#!/usr/bin/env python\n",
      "\n",
      "# Example 2.2\n",
      "# DNA_concatenate.py\n",
      "# A program that concatenates 2 DNA fragments\n",
      "\n",
      "# Store two DNA fragments into two variables called DNA1 and DNA2\n",
      "DNA1 = 'AGTTGTAATGAGGCTGCCGTGATA'\n",
      "DNA2 = 'CGATTACGGCATCATTTAAAGGGCAGGAGGGTA'\n",
      "\n",
      "# Print the DNA onto the screen\n",
      "print \"Here are the original two DNA fragments:\"\n",
      "print DNA1\n",
      "print DNA2\n",
      "\n",
      "# Concatenate the DNA fragments into a third variable and print them\n",
      "\n",
      "DNA3 = DNA1 + DNA2\n",
      "\n",
      "print \"Here is the concatenation of the first two fragments:\"\n",
      "print DNA3\n",
      "\n",
      "# An alternative way to concatenate using the print command\n",
      "print \"Here is an alternative concatenation of the first two fragments:\"\n",
      "print DNA1 + DNA2"
     ],
     "language": "python",
     "metadata": {},
     "outputs": [
      {
       "output_type": "stream",
       "stream": "stdout",
       "text": [
        "Here are the original two DNA fragments:\n",
        "AGTTGTAATGAGGCTGCCGTGATA\n",
        "CGATTACGGCATCATTTAAAGGGCAGGAGGGTA\n",
        "Here is the concatenation of the first two fragments:\n",
        "AGTTGTAATGAGGCTGCCGTGATACGATTACGGCATCATTTAAAGGGCAGGAGGGTA\n",
        "Here is an alternative concatenation of the first two fragments:\n",
        "AGTTGTAATGAGGCTGCCGTGATACGATTACGGCATCATTTAAAGGGCAGGAGGGTA\n"
       ]
      }
     ],
     "prompt_number": 5
    },
    {
     "cell_type": "markdown",
     "metadata": {},
     "source": [
      "## 2.4  Printing - Inserting and formatting variables in strings\n",
      "\n",
      "After the print statment is run a new line is started so DNA1 and DNA2 are printed on separate lines as in the example above.  If we want to print them on the same line a comma is used to separate the variables. This code almost works, but it leaves a space a space after the DNA string.\n"
     ]
    },
    {
     "cell_type": "code",
     "collapsed": false,
     "input": [
      "#!/usr/bin/env python\n",
      "\n",
      "# Example 2.2\n",
      "# DNA_concatenate.py\n",
      "# A program that concatenates 2 DNA fragments\n",
      "\n",
      "# Store two DNA fragments into two variables called DNA1 and DNA2\n",
      "DNA1 = 'AGTTGTAATGAGGCTGCCGTGATA'\n",
      "DNA2 = 'CGATTACGGCATCATTTAAAGGGCAGGAGGGTA'\n",
      "\n",
      "# Print the DNA onto the screen\n",
      "print 'My DNA sequence 1 is DNA1', DNA1, \". \" 'My DNA sequence 2 is', DNA2, '.'"
     ],
     "language": "python",
     "metadata": {},
     "outputs": [
      {
       "output_type": "stream",
       "stream": "stdout",
       "text": [
        "My DNA sequence 1 is DNA1 AGTTGTAATGAGGCTGCCGTGATA . My DNA sequence 2 is CGATTACGGCATCATTTAAAGGGCAGGAGGGTA .\n"
       ]
      }
     ],
     "prompt_number": 6
    },
    {
     "cell_type": "markdown",
     "metadata": {},
     "source": [
      " The other method python offers, called string interpolation, for injecting variables into strings looks like the following:"
     ]
    },
    {
     "cell_type": "code",
     "collapsed": false,
     "input": [
      "#!/usr/bin/env python\n",
      "\n",
      "# Example 2.2\n",
      "# DNA_concatenate.py\n",
      "# A program that concatenates 2 DNA fragments\n",
      "\n",
      "# Store two DNA fragments into two variables called DNA1 and DNA2\n",
      "DNA1 = 'AGTTGTAATGAGGCTGCCGTGATA'\n",
      "DNA2 = 'CGATTACGGCATCATTTAAAGGGCAGGAGGGTA'\n",
      "\n",
      "# Print the DNA onto the screen\n",
      "print 'My DNA sequence 1 %s. My DNA sequence 2 is %s.' % (DNA1, DNA2)"
     ],
     "language": "python",
     "metadata": {},
     "outputs": [
      {
       "output_type": "stream",
       "stream": "stdout",
       "text": [
        "My DNA sequence 1 AGTTGTAATGAGGCTGCCGTGATA. My DNA sequence 2 is CGATTACGGCATCATTTAAAGGGCAGGAGGGTA.\n"
       ]
      }
     ],
     "prompt_number": 7
    },
    {
     "cell_type": "markdown",
     "metadata": {},
     "source": [
      "This handily replaces all those comma and + operations with a very readable string, where %s represents spots where the variables or values you supply next will be inserted, in the order you supply them. After the string comes a solitary %, then a set of values in parentheses. These are the values to interpolate, and there must be as many of these as there are %s elements in your string. This is a nice way of composing a string of other strings.  "
     ]
    },
    {
     "cell_type": "markdown",
     "metadata": {},
     "source": [
      "## 2.5 Integers and Floating point numbers\n",
      "\n",
      "So far we have working mainly with one type of variable, strings.  Integers and floating points numbers are the other 2 main types.  As you might expect there is a lot of math that can be done.  Remember that the CAPITILIZATION is essential for working with variable names."
     ]
    },
    {
     "cell_type": "code",
     "collapsed": false,
     "input": [
      "#!/usr/bin/env python\n",
      "\n",
      "# Example 2.3\n",
      "# Floating_point_math.py\n",
      "# A program that tests basic arithmetic operators on floating point numbers\n",
      "\n",
      "x = 4.0\n",
      "y = 10.0\n",
      "\n",
      "print x + y\n",
      "print x - y\n",
      "print x * y\n",
      "print x / y"
     ],
     "language": "python",
     "metadata": {},
     "outputs": [
      {
       "output_type": "stream",
       "stream": "stdout",
       "text": [
        "14.0\n",
        "-6.0\n",
        "40.0\n",
        "0.4\n"
       ]
      }
     ],
     "prompt_number": 8
    },
    {
     "cell_type": "code",
     "collapsed": false,
     "input": [
      "#!/usr/bin/env python\n",
      "\n",
      "# Example 2.4\n",
      "# Floating_point_math.py\n",
      "# A program that tests basic arithmetic operators on integers\n",
      "\n",
      "x = 4\n",
      "y = 10\n",
      "\n",
      "print x + y\n",
      "print x - y\n",
      "print x * y\n",
      "print x / y"
     ],
     "language": "python",
     "metadata": {},
     "outputs": [
      {
       "output_type": "stream",
       "stream": "stdout",
       "text": [
        "14\n",
        "-6\n",
        "40\n",
        "0\n"
       ]
      }
     ],
     "prompt_number": 9
    },
    {
     "cell_type": "markdown",
     "metadata": {},
     "source": [
      "In the integer example 4 / 10 = 0.  While this is often not the result we want for calculations, this is very useful for web programming.   Operations on combinations of integers and floating point numbers return floating point numbers by default, so 4 / 10.0 = 0.4 instead of 0. However, operations on strings and either intergers or floating point numbers result in an error.\n"
     ]
    },
    {
     "cell_type": "code",
     "collapsed": false,
     "input": [
      "#!/usr/bin/env python\n",
      "\n",
      "# Example 2.5\n",
      "# Floating_point_strings.py\n",
      "# A program that tests basic arithmetic operators on integers and strings\n",
      "\n",
      "x = '4'\n",
      "y = 10\n",
      "\n",
      "print x + y"
     ],
     "language": "python",
     "metadata": {},
     "outputs": [
      {
       "ename": "TypeError",
       "evalue": "cannot concatenate 'str' and 'int' objects",
       "output_type": "pyerr",
       "traceback": [
        "\u001b[0;31m---------------------------------------------------------------------------\u001b[0m\n\u001b[0;31mTypeError\u001b[0m                                 Traceback (most recent call last)",
        "\u001b[0;32m<ipython-input-10-adc04bb0cafc>\u001b[0m in \u001b[0;36m<module>\u001b[0;34m()\u001b[0m\n\u001b[1;32m      8\u001b[0m \u001b[0my\u001b[0m \u001b[0;34m=\u001b[0m \u001b[0;36m10\u001b[0m\u001b[0;34m\u001b[0m\u001b[0m\n\u001b[1;32m      9\u001b[0m \u001b[0;34m\u001b[0m\u001b[0m\n\u001b[0;32m---> 10\u001b[0;31m \u001b[0;32mprint\u001b[0m \u001b[0mx\u001b[0m \u001b[0;34m+\u001b[0m \u001b[0my\u001b[0m\u001b[0;34m\u001b[0m\u001b[0m\n\u001b[0m",
        "\u001b[0;31mTypeError\u001b[0m: cannot concatenate 'str' and 'int' objects"
       ]
      }
     ],
     "prompt_number": 10
    },
    {
     "cell_type": "markdown",
     "metadata": {},
     "source": [
      "If you had instead somehow managed to get a number like '4' stored as a string (for instance, you took it as input from a file or user), then you would need a way to convince python to let you use the number as\u2026well\u2026a number! Your tools for this are coercion functions. You'll see these again and in more detail tomorrow, but for now just know that if something looks like a number, but has quotes around it, the functions int() and float() will give you back real numbers to play with. Since strings can not be changed.  You need to sign the result of int() or float() to a new variable.  Use them like so:"
     ]
    },
    {
     "cell_type": "code",
     "collapsed": false,
     "input": [
      "#!/usr/bin/env python\n",
      "\n",
      "# Example 2.5\n",
      "# Floating_point_strings.py\n",
      "# A program that tests basic arithmetic operators on integers and strings\n",
      "\n",
      "x = '4'\n",
      "x0 = int(x)\n",
      "y = 10\n",
      "\n",
      "print x0 + y"
     ],
     "language": "python",
     "metadata": {},
     "outputs": [
      {
       "output_type": "stream",
       "stream": "stdout",
       "text": [
        "14\n"
       ]
      }
     ],
     "prompt_number": 11
    },
    {
     "cell_type": "markdown",
     "metadata": {},
     "source": [
      "Similarly an integer or floating point number can be converted to a string."
     ]
    },
    {
     "cell_type": "code",
     "collapsed": false,
     "input": [
      "#!/usr/bin/env python\n",
      "\n",
      "# Example 2.5\n",
      "# Floating_point_strings.py\n",
      "# A program that tests basic arithmetic operators on integers and strings\n",
      "\n",
      "x = 4\n",
      "y = 10\n",
      "x0 = str(x)\n",
      "y0 = str(y)\n",
      "\n",
      "print x + y\n",
      "print x0 + y0"
     ],
     "language": "python",
     "metadata": {},
     "outputs": [
      {
       "output_type": "stream",
       "stream": "stdout",
       "text": [
        "14\n",
        "410\n"
       ]
      }
     ],
     "prompt_number": 12
    },
    {
     "cell_type": "markdown",
     "metadata": {},
     "source": [
      "Note that in the above example adding to strings contatenated them.  This may not have been what we expected, but it is the sames as concatenating the two DNA strings above.\n",
      "\n",
      "To print out numbers in a sentence or with other strings, you can supply them to strings with %s elements (like we just did with string variables), but there are also special interpolation operators for numbers %d and %f (corresponding to integer and floating point, respectively). For a full workup, see http://docs.python.org/lib/typesseq-strings.html , but here's a start:"
     ]
    },
    {
     "cell_type": "code",
     "collapsed": false,
     "input": [
      "#!/usr/bin/env python\n",
      "   \n",
      "x = 4\n",
      "y = 10.0002\n",
      " \n",
      "print 'Variables can be interpolated as strings here %s and here %s.' % (x,y) "
     ],
     "language": "python",
     "metadata": {},
     "outputs": [
      {
       "output_type": "stream",
       "stream": "stdout",
       "text": [
        "Variables can be interpolated as strings here 4 and here 10.0002.\n"
       ]
      }
     ],
     "prompt_number": 13
    },
    {
     "cell_type": "markdown",
     "metadata": {},
     "source": [
      "To get 2 decimal places write %.2f in place of %s"
     ]
    },
    {
     "cell_type": "code",
     "collapsed": false,
     "input": [
      "#!/usr/bin/env python\n",
      "   \n",
      "x = 4\n",
      "y = 10.0002\n",
      " \n",
      "print 'Variables can be interpolated as strings here %s and here %.2f.' % (x,y) "
     ],
     "language": "python",
     "metadata": {},
     "outputs": [
      {
       "output_type": "stream",
       "stream": "stdout",
       "text": [
        "Variables can be interpolated as strings here 4 and here 10.00.\n"
       ]
      }
     ],
     "prompt_number": 14
    },
    {
     "cell_type": "markdown",
     "metadata": {},
     "source": [
      "Practically speaking, the most commonly used formatting tools are %s to shove variables of any and all types into strings, and %.xf where x is the number of decimal places to display for floating point numbers. Most commonly, you will see and employ a lot of '%.2f' string interpolations, and almost never see or use any of the other numerical interpolators."
     ]
    },
    {
     "cell_type": "markdown",
     "metadata": {},
     "source": [
      "## 2.6 More work with strings "
     ]
    },
    {
     "cell_type": "markdown",
     "metadata": {},
     "source": [
      "### DNA sequence length \n",
      "\n",
      "In addition to concatenating strings there are several built in operations that we can use such as finding the length of the DNA sequence."
     ]
    },
    {
     "cell_type": "code",
     "collapsed": false,
     "input": [
      "#!/usr/bin/env python\n",
      "\n",
      "# Example 2.6\n",
      "# DNA_lenghth.py\n",
      "# A program that determines the length of a DNA sequence\n",
      "\n",
      "DNA = 'AGTTGTAATGAGGCTGCCGTGATA'\n",
      "print 'There are %s nucleotides in my DNA sequence.' % (len(DNA))"
     ],
     "language": "python",
     "metadata": {},
     "outputs": [
      {
       "output_type": "stream",
       "stream": "stdout",
       "text": [
        "There are 24 nucleotides in my DNA sequence.\n"
       ]
      }
     ],
     "prompt_number": 15
    },
    {
     "cell_type": "markdown",
     "metadata": {},
     "source": [
      "### A substring of DNA\n",
      "\n",
      "The splice function can be used to extract a substring of the DNA sequence."
     ]
    },
    {
     "cell_type": "code",
     "collapsed": false,
     "input": [
      "#!/usr/bin/env python\n",
      "\n",
      "# Example 2.7\n",
      "# DNA_position.py\n",
      "# A program finds a nucleotide at a specified position\n",
      "\n",
      "DNA = 'AGTTGTAATGAGGCTGCCGTGATA'\n",
      "print 'In my DNA sequence the first nucleotide is %s' % (DNA[0])\n",
      "print 'In my DNA sequencethe last nucleotide is %s.' % (DNA[23])\n",
      "print 'Another way to find the last nucleotide which is %s.' % (DNA[-1])\n",
      "print 'The first 3 nucleotides are %s.' % (DNA[0:3])"
     ],
     "language": "python",
     "metadata": {},
     "outputs": [
      {
       "output_type": "stream",
       "stream": "stdout",
       "text": [
        "In my DNA sequence the first nucleotide is A\n",
        "In my DNA sequencethe last nucleotide is A.\n",
        "Another way to find the last nucleotide which is A.\n",
        "The first 3 nucleotides are AGT.\n"
       ]
      }
     ],
     "prompt_number": 16
    },
    {
     "cell_type": "markdown",
     "metadata": {},
     "source": [
      "In Python the first position of the string is 0 not 1.  This is common in many computer languages.  This also means that every subsequent position is offset by one including the final position.  To further muck you up it is common in substrings to start counting with the first position and until the position after you want to end, such that DNA(0:3) only returns 3 nucleotides instead of 4.  You can also count from the end of the string as in the above example."
     ]
    },
    {
     "cell_type": "markdown",
     "metadata": {},
     "source": [
      "### Finding the reverse complement"
     ]
    },
    {
     "cell_type": "markdown",
     "metadata": {},
     "source": [
      "In order to transcribe DNA into RNA we need to find the reverse complement of the DNA sequence and replace the Thymidines (T) with Uracils (U).  We can use a trick in Python string processing to reverse the string.  Then we use .replace to change the Ts to Us.  "
     ]
    },
    {
     "cell_type": "code",
     "collapsed": false,
     "input": [
      "#!/usr/bin/env python\n",
      "\n",
      "# Example 2.8\n",
      "# Reverse_Complement.py\n",
      "# A program that prints the reverse complement of a DNA sequence\n",
      "\n",
      "DNA = 'AGTTGTAATGAGGCTGCCGTGATA'\n",
      "\n",
      "# Reverse the DNA sequence\n",
      "REV = DNA[::-1]\n",
      "\n",
      "# Get the Complement\n",
      "from string import maketrans   # Required to use the maketrans function.\n",
      "\n",
      "NUC = \"ATCG\"\n",
      "NUCCOMP = \"TAGC\"\n",
      "trantab = maketrans(NUC, NUCCOMP)\n",
      "\n",
      "REVCOMP = REV.translate(trantab);\n",
      "\n",
      "# Substitute Uracil (U) for Thymidine (T)\n",
      "RNA = REVCOMP.replace('T', 'U')\n",
      "\n",
      "print DNA\n",
      "print REV\n",
      "print REVCOMP\n",
      "print RNA"
     ],
     "language": "python",
     "metadata": {},
     "outputs": [
      {
       "output_type": "stream",
       "stream": "stdout",
       "text": [
        "AGTTGTAATGAGGCTGCCGTGATA\n",
        "ATAGTGCCGTCGGAGTAATGTTGA\n",
        "TATCACGGCAGCCTCATTACAACT\n",
        "UAUCACGGCAGCCUCAUUACAACU\n"
       ]
      }
     ],
     "prompt_number": 17
    },
    {
     "cell_type": "markdown",
     "metadata": {},
     "source": [
      "### Finding codons in the DNA sequence\n",
      "\n",
      "Next we can use a string operators (in) to find codons in the RNA sequence."
     ]
    },
    {
     "cell_type": "code",
     "collapsed": false,
     "input": [
      "#!/usr/bin/env python\n",
      "\n",
      "# Example 2.9\n",
      "# Find_codon.py\n",
      "# A program that finds codons in a sequence\n",
      "\n",
      "# Store two DNA fragments into two variables called DNA1 and DNA2\n",
      "DNA1 = 'AGTTGTAATGAGGCTGCCGTGATA'\n",
      "DNA2 = 'CGATTACGGCATCATTTAAAGGGCAGGAGGGTA'\n",
      "\n",
      "# Concatenate (join) the DNA fragments (exons)\n",
      "DNA3 = DNA1 + DNA2\n",
      "\n",
      "# Reverse the DNA sequence\n",
      "REV = DNA3[::-1]\n",
      "\n",
      "# Get the Complement\n",
      "from string import maketrans   # Required to use the maketrans function.\n",
      "\n",
      "NUC = \"ATCG\"\n",
      "NUCCOMP = \"TAGC\"\n",
      "trantab = maketrans(NUC, NUCCOMP)\n",
      "\n",
      "REVCOMP = REV.translate(trantab);\n",
      "\n",
      "# Substitute Uracil (U) for Thymidine (T)\n",
      "RNA = REVCOMP.replace('T', 'U')\n",
      "\n",
      "# Find codons in the sequence\n",
      "\n",
      "print RNA\n",
      "print 'Is there a start codon in my RNA sequence? - %s' % ('AUG' in RNA)\n",
      "print 'Is there a stop codon in my RNA sequence? - %s' % ('UGA' in RNA)"
     ],
     "language": "python",
     "metadata": {},
     "outputs": [
      {
       "output_type": "stream",
       "stream": "stdout",
       "text": [
        "UACCCUCCUGCCCUUUAAAUGAUGCCGUAAUCGUAUCACGGCAGCCUCAUUACAACU\n",
        "Is there a start codon in my RNA sequence? - True\n",
        "Is there a stop codon in my RNA sequence? - True\n"
       ]
      }
     ],
     "prompt_number": 18
    },
    {
     "cell_type": "markdown",
     "metadata": {},
     "source": [
      "Next a string method (.find) find the codon position in the RNA sequence.  If a codon is not found the value -1 is returned."
     ]
    },
    {
     "cell_type": "code",
     "collapsed": false,
     "input": [
      "#!/usr/bin/env python\n",
      "\n",
      "# Example 2.10\n",
      "# Find_codon_position.py\n",
      "# A program that finds the positioncodons in a sequence\n",
      "\n",
      "# Store two DNA fragments into two variables called DNA1 and DNA2\n",
      "DNA1 = 'AGTTGTAATGAGGCTGCCGTGATA'\n",
      "DNA2 = 'CGATTACGGCATCATTTAAAGGGCAGGAGGGTA'\n",
      "\n",
      "# Concatenate (join) the DNA fragments (exons)\n",
      "DNA3 = DNA1 + DNA2\n",
      "\n",
      "# Reverse the DNA sequence\n",
      "REV = DNA3[::-1]\n",
      "\n",
      "# Get the Complement\n",
      "from string import maketrans   # Required to use the maketrans function.\n",
      "\n",
      "NUC = \"ATCG\"\n",
      "NUCCOMP = \"TAGC\"\n",
      "trantab = maketrans(NUC, NUCCOMP)\n",
      "\n",
      "REVCOMP = REV.translate(trantab);\n",
      "\n",
      "# Substitute Uracil (U) for Thymidine (T)\n",
      "RNA = REVCOMP.replace('T', 'U')\n",
      "\n",
      "print RNA\n",
      "print 'The position of the start codon is %s.' % (RNA.find('AUG'))\n",
      "print 'The position of the GGA (glycine) codon is %s.' % (RNA.find('GGA'))\n",
      "print 'The position of the stop codon is %s.' % (RNA.find('UGA'))"
     ],
     "language": "python",
     "metadata": {},
     "outputs": [
      {
       "output_type": "stream",
       "stream": "stdout",
       "text": [
        "UACCCUCCUGCCCUUUAAAUGAUGCCGUAAUCGUAUCACGGCAGCCUCAUUACAACU\n",
        "The position of the start codon is 18.\n",
        "The position of the GGA (glycine) codon is -1.\n",
        "The position of the stop codon is 19.\n"
       ]
      }
     ],
     "prompt_number": 1
    },
    {
     "cell_type": "markdown",
     "metadata": {},
     "source": [
      "The .find only returns the position of the first match and later matches (e.g. codons) are not found.  For more information on Strings you can consult the Python documentations http://docs.python.org/2/library/stdtypes.html#string-methods.  For more advance string analyses we will use Regular Expressions in our next session."
     ]
    },
    {
     "cell_type": "markdown",
     "metadata": {},
     "source": [
      "## 2.7 Exercises"
     ]
    },
    {
     "cell_type": "markdown",
     "metadata": {},
     "source": [
      "1.  Write a program that puts your full name together using a separate variable for first, middle and last name and prints your full names.\n",
      "\n",
      "1. Write a program that calculates and prints the number of codons possible in DNA2 from the above exericises (Hint: Find the length of the sequence and divide by 3.\n",
      "\n",
      "1.  Write a program that converts DNA2 into lower case letters (Hint: Consult the python documentation http://docs.python.org/release/2.5.2/lib/string-methods.html or Search the internet for \"Python String Methods\").\n",
      "\n",
      "2.  Write a program that checks for all possible standard codons in the RNA sequence in Example 2.9 and prints TRUE is the codon exists.  See http://openwetware.org/wiki/Codon_table for the RNA codon table. "
     ]
    },
    {
     "cell_type": "markdown",
     "metadata": {},
     "source": [
      "* Next - <a href=\"http://nbviewer.ipython.org/urls/raw.github.com/jeffreyblanchard/AdvGen/master/Session3.ipynb\">Session 3 Getting and evaluating input </a>\n",
      "* Previous - <a href=\"http://nbviewer.ipython.org/urls/raw.github.com/jeffreyblanchard/AdvGen/master/Session1.ipynb\">Session 1 : Introduction to Bioinformatics and Python </a> "
     ]
    }
   ],
   "metadata": {}
  }
 ]
}