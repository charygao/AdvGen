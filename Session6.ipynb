{
 "metadata": {
  "name": "Session6"
 },
 "nbformat": 3,
 "nbformat_minor": 0,
 "worksheets": [
  {
   "cells": [
    {
     "cell_type": "markdown",
     "metadata": {},
     "source": [
      "# Session 6 : Dictionaries and Working with Fasta Files\n",
      "\n",
      "## Learning Objectives\n",
      "\n",
      "* Dictionaries\n",
      "* Working with fasta files\n",
      "* Reading tab and csv files"
     ]
    },
    {
     "cell_type": "markdown",
     "metadata": {},
     "source": [
      "## 6.1 Dictionaries\n",
      "\n",
      "Dictionaries consist of pairs (called items) of keys and their corresponding values.  The key-value pair concept is widely used in different programming languages and is at the heart of relational database management systems such as MySQL, PostgreSQL, Oracle and Access.  As the name applies Dictionaries are a way of storiing and looking up a particular item. \n",
      "\n",
      "The general syntax of a dictionary is as follows:\n",
      "\n",
      "<code>\n",
      "dict = {'key1': 'value1', 'key2': 'value2'}\n",
      "</code>\n",
      "\n",
      "Each key is separated from its value by a colon (:), the items are separated by commas, and the whole thing is enclosed in curly braces.   Keys must be unique, while values may not be. The values of a dictionary can be of any type, but the keys must be of an immutable data type such as strings, numbers, or tuples. If multiple key-values pairs are entered into a dictioinary only the last key-value pair will remain.\n"
     ]
    },
    {
     "cell_type": "code",
     "collapsed": false,
     "input": [
      "#!/usr/bin/env python\n",
      "\n",
      "# Example 6.1 \n",
      "# Name: dict_keys.py\n",
      "# Description: A program to demonstrate the results of entering the same key twice\n",
      "\n",
      "expression_data = {'p53': '2', 'brca1': '9', 'p53': '30'}\n",
      "print expression_data"
     ],
     "language": "python",
     "metadata": {},
     "outputs": [
      {
       "output_type": "stream",
       "stream": "stdout",
       "text": [
        "{'brca1': '9', 'p53': '30'}\n"
       ]
      }
     ],
     "prompt_number": 1
    },
    {
     "cell_type": "markdown",
     "metadata": {},
     "source": [
      "Key-value pairs are not necessarily stored in the order that they are entered into the dictionary.  Instead of order, a dictionary uses a algorithm to identify each item\u2019s place in the dictionary with a rapid calculation of the key\u2019s value.  This makes for very fast searches of large dictionaries.  As with string and lists, items can be inserted, removed and searched for in dictionaries. "
     ]
    },
    {
     "cell_type": "code",
     "collapsed": false,
     "input": [
      "#!/usr/bin/env python\n",
      "\n",
      "# Example 6.2 \n",
      "# Name: dict_methods.py\n",
      "# Description: A program to demonstrate some useful dictionary methods\n",
      "\n",
      "expression_data = {'p53': '2', 'brca1': '9', 'brca2': '30'}\n",
      "\n",
      "# To look up an item in the dictionary and find the value\n",
      "print expression_data['brca1']\n",
      "\n",
      "# To list all the keys in the dictionary\n",
      "print expression_data.keys()\n",
      "\n",
      "# To list all the values in the dictionary\n",
      "print expression_data.values()\n",
      "\n",
      "# To list both keys and values of the dictionary\n",
      "print expression_data.items()\n",
      "\n"
     ],
     "language": "python",
     "metadata": {},
     "outputs": [
      {
       "output_type": "stream",
       "stream": "stdout",
       "text": [
        "9\n",
        "['brca1', 'brca2', 'p53']\n",
        "['9', '30', '2']\n",
        "[('brca1', '9'), ('brca2', '30'), ('p53', '2')]\n"
       ]
      }
     ],
     "prompt_number": 2
    },
    {
     "cell_type": "code",
     "collapsed": false,
     "input": [
      "#!/usr/bin/env python\n",
      "\n",
      "# Example 6.3 \n",
      "# Name: dict_key_error.py\n",
      "# Description: A program to demonstrate the error message produced\n",
      "#              when a key is not found\n",
      "\n",
      "expression_data = {'p53': '2', 'brca1': '9', 'brca2': '30'}\n",
      "\n",
      "# To look up an item in the dictionary and find the value\n",
      "print expression_data['brca5']\n"
     ],
     "language": "python",
     "metadata": {},
     "outputs": [
      {
       "ename": "KeyError",
       "evalue": "'brca5'",
       "output_type": "pyerr",
       "traceback": [
        "\u001b[0;31m---------------------------------------------------------------------------\u001b[0m\n\u001b[0;31mKeyError\u001b[0m                                  Traceback (most recent call last)",
        "\u001b[0;32m<ipython-input-3-cbaedfa1a56d>\u001b[0m in \u001b[0;36m<module>\u001b[0;34m()\u001b[0m\n\u001b[1;32m      9\u001b[0m \u001b[0;34m\u001b[0m\u001b[0m\n\u001b[1;32m     10\u001b[0m \u001b[0;31m# To look up an item in the dictionary and find the value\u001b[0m\u001b[0;34m\u001b[0m\u001b[0;34m\u001b[0m\u001b[0m\n\u001b[0;32m---> 11\u001b[0;31m \u001b[0;32mprint\u001b[0m \u001b[0mexpression_data\u001b[0m\u001b[0;34m[\u001b[0m\u001b[0;34m'brca5'\u001b[0m\u001b[0;34m]\u001b[0m\u001b[0;34m\u001b[0m\u001b[0m\n\u001b[0m",
        "\u001b[0;31mKeyError\u001b[0m: 'brca5'"
       ]
      }
     ],
     "prompt_number": 3
    },
    {
     "cell_type": "code",
     "collapsed": false,
     "input": [
      "#!/usr/bin/env python\n",
      "\n",
      "# Example 6.4 \n",
      "# Name: dict_key_error2.py\n",
      "# Description: A program to demonstrate the error message produced\n",
      "#              when a key is not found\n",
      "\n",
      "expression_data = {'p53': '2', 'brca1': '9', 'brca2': '30'}\n",
      "\n",
      "gene = 'brca5'\n",
      "\n",
      "# \n",
      "if gene in expression_data :\n",
      "    print expression_data[gene]\n",
      "else :\n",
      "    print 'The gene %s can not be found in the dictionary' % (gene)"
     ],
     "language": "python",
     "metadata": {},
     "outputs": [
      {
       "output_type": "stream",
       "stream": "stdout",
       "text": [
        "The gene brca5 can not be found in the dictionary\n"
       ]
      }
     ],
     "prompt_number": 4
    },
    {
     "cell_type": "markdown",
     "metadata": {},
     "source": [
      "#### Inserting, deleting and modifying keys and values in a dictionary"
     ]
    },
    {
     "cell_type": "code",
     "collapsed": false,
     "input": [
      "#!/usr/bin/env python\n",
      "\n",
      "# Example 6.5 \n",
      "# Name: dict_modify.py\n",
      "# Description: A program to demonstrate some useful dictionary methods\n",
      "\n",
      "expression_data = {'p53': '2', 'brca1': '9', 'brca2': '30'}\n",
      "\n",
      "# update existing entry\n",
      "expression_data['p53'] = 15\n",
      "print expression_data\n",
      "\n",
      "# Add new entry that is a value\n",
      "expression_data['fox2p'] = 12; \n",
      "print expression_data\n",
      "\n",
      "# Add a new entry that is a string\n",
      "expression_data['level'] = \"high\"\n",
      "print expression_data\n",
      "\n",
      "# Delete an entry\n",
      "del expression_data['p53']\n",
      "print expression_data        \n",
      "\n",
      "# Get the length of a dictionary\n",
      "print len(expression_data)\n",
      "\n",
      "# Iterate through a dictiontary\n",
      "for key in expression_data:\n",
      "    print expression_data[key]\n",
      "    \n",
      "# Print all key and values\t\n",
      "for key, value in expression_data.items() :\n",
      "    print key,'\\t', value"
     ],
     "language": "python",
     "metadata": {},
     "outputs": [
      {
       "output_type": "stream",
       "stream": "stdout",
       "text": [
        "{'brca1': '9', 'brca2': '30', 'p53': 15}\n",
        "{'brca1': '9', 'fox2p': 12, 'brca2': '30', 'p53': 15}\n",
        "{'brca1': '9', 'fox2p': 12, 'level': 'high', 'brca2': '30', 'p53': 15}\n",
        "{'brca1': '9', 'fox2p': 12, 'level': 'high', 'brca2': '30'}\n",
        "4\n",
        "9\n",
        "12\n",
        "high\n",
        "30\n",
        "brca1 \t9\n",
        "fox2p \t12\n",
        "level \thigh\n",
        "brca2 \t30\n"
       ]
      }
     ],
     "prompt_number": 5
    },
    {
     "cell_type": "markdown",
     "metadata": {},
     "source": [
      "## 6.2 Working with fasta files\n",
      "\n",
      "Parsing fasta files is the single most common thing one does when working with nucleotid and protein sequencing data.  The p53 fasta file that we worked with earlier has the following first line.  \n",
      "\n",
      "\\>gi|23491728|dbj|AB082923.1| Homo sapiens mRNA for P53, complete cds\n",
      "\n",
      "This is called the fasta header line. It begins with >.   The information following is dependent on the sequence type and database the fasta file can from and the available information that can be condensed into a single line.   In the above fasta header, the > is followed by the Genbank ID (gi), the Database of Japan ID (dbj), and a description of the sequence."
     ]
    },
    {
     "cell_type": "code",
     "collapsed": false,
     "input": [
      "#!/usr/bin/env python\n",
      "\n",
      "# Example 6.6\n",
      "# Name: fasta_header_parse.py\n",
      "# Description: A program to parse the fasta header line\n",
      "import re\n",
      "\n",
      "fasta_header = '>gi|23491728|dbj|AB082923.1| Homo sapiens mRNA for P53, complete cds'\n",
      "\n",
      "if fasta_header.startswith(\">\") :\n",
      "    print \"This is a properly formatted fasta header line.\"\n",
      "    \n",
      "    fasta_header = fasta_header.replace('>', '')\n",
      "    \n",
      "    #Next split the fasta header into a list based on |\n",
      "    fasta_list = fasta_header.split('|')\n",
      "    \n",
      "    print fasta_list\n",
      "    print \"The GenBank ID is\", fasta_list[4]\n",
      "    \n",
      "else :\n",
      "    print \"This is not a properly formatted fasta header line.\"\n",
      "\n"
     ],
     "language": "python",
     "metadata": {},
     "outputs": [
      {
       "output_type": "stream",
       "stream": "stdout",
       "text": [
        "This is a properly formatted fasta header line.\n",
        "['gi', '23491728', 'dbj', 'AB082923.1', ' Homo sapiens mRNA for P53, complete cds']\n",
        "The GenBank ID is  Homo sapiens mRNA for P53, complete cds\n"
       ]
      }
     ],
     "prompt_number": 6
    },
    {
     "cell_type": "markdown",
     "metadata": {},
     "source": [
      "#### Reading the fasta file into a program one line at a time using fh.readline().   \n"
     ]
    },
    {
     "cell_type": "code",
     "collapsed": false,
     "input": [
      "#!/usr/bin/env python\n",
      "\n",
      "# Example 6.7\n",
      "# Name: mRNA_readline.py\n",
      "# Description: A program to read a mRNA sequence one line at at time\n",
      "\n",
      "# Open the file\n",
      "fh = open('p53_mRNA.fasta', 'r')\n",
      "\n",
      "# Read the first line of the file into a variable\n",
      "mRNA_line1 = fh.readline()\n",
      "mRNA_line2 = fh.readline()\n",
      "\n",
      "# Close the file\n",
      "fh.close()\n",
      "\n",
      "#print the first line of the file\n",
      "\n",
      "print mRNA_line1\n",
      "print mRNA_line2\n"
     ],
     "language": "python",
     "metadata": {},
     "outputs": [
      {
       "output_type": "stream",
       "stream": "stdout",
       "text": [
        ">gi|23491728|dbj|AB082923.1| Homo sapiens mRNA for P53, complete cds\n",
        "\n",
        "CGTGCTTTCCACGACGGTGACACGCTTCCCTGGATTGGCCAGACTGCCTTCCGGGTCACTGCCATGGAGG\n",
        "\n"
       ]
      }
     ],
     "prompt_number": 7
    },
    {
     "cell_type": "markdown",
     "metadata": {},
     "source": [
      "Since each line of the input file contains a new line and print() also supplies a newline, we've got an extra linebreak after each of the first two print statements.  One crucially important concept of file input in Python is that each time you read something by any of the three methods I've described, you advance the position of the filehandle in the file, which means that you never get the same character or characters twice (unless of course they're in the file twice!)\n",
      "\n",
      "This is why reading from the filehandle with fh.readline() twice in a row gave two different values; as soon as the line is read, the filehandle has moved to the next line, awaiting another read request. This is an example of an iterable type, meaning that the filehandle is a type of object that knows how to advance itself in anticipation of the next request. That means that to get back to the beginning of the file, you must close the file with the close() and reopen it.\n",
      "\n",
      "The method strip() is also useful for reading files since it can be used to remove the line breaks. Notice the difference in the output between the above and below examples."
     ]
    },
    {
     "cell_type": "code",
     "collapsed": false,
     "input": [
      "#!/usr/bin/env python\n",
      "\n",
      "# Example 6.8\n",
      "# Name: mRNA_readline_strip.py\n",
      "# Description: A program to read a mRNA sequence one line at at time\n",
      "#              and remove the newline\n",
      "\n",
      "# Open the file\n",
      "fh = open('p53_mRNA.fasta', 'r')\n",
      "\n",
      "# Read the first line of the file into a variable\n",
      "mRNA_line1 = fh.readline().strip()\n",
      "mRNA_line2 = fh.readline().strip()\n",
      "\n",
      "# Close the file\n",
      "fh.close()\n",
      "\n",
      "#print the first line of the file\n",
      "\n",
      "print mRNA_line1, mRNA_line2"
     ],
     "language": "python",
     "metadata": {},
     "outputs": [
      {
       "output_type": "stream",
       "stream": "stdout",
       "text": [
        ">gi|23491728|dbj|AB082923.1| Homo sapiens mRNA for P53, complete cds CGTGCTTTCCACGACGGTGACACGCTTCCCTGGATTGGCCAGACTGCCTTCCGGGTCACTGCCATGGAGG\n"
       ]
      }
     ],
     "prompt_number": 8
    },
    {
     "cell_type": "markdown",
     "metadata": {},
     "source": [
      "The function fh.readlines() (plural!) takes the entire file, from the current read position all the way to the end, giving back a list of lines (again, with newlines intact). Read in the list.  Get the fasta head and join the other lines of the list"
     ]
    },
    {
     "cell_type": "code",
     "collapsed": false,
     "input": [
      "#!/usr/bin/env python\n",
      "\n",
      "# Example 6.9\n",
      "# Name: mRNA_readline_list.py\n",
      "# Description: A program to read a mRNA sequence into a list\n",
      "\n",
      "# Open the file\n",
      "fh = open('p53_mRNA.fasta', 'r')\n",
      "\n",
      "# Read the first lines into list and remove the new line\n",
      "mRNA_list = fh.readlines()\n",
      "\n",
      "# Close the file\n",
      "fh.close()\n",
      "\n",
      "#print the first line of the file\n",
      "print mRNA_list"
     ],
     "language": "python",
     "metadata": {},
     "outputs": [
      {
       "output_type": "stream",
       "stream": "stdout",
       "text": [
        "['>gi|23491728|dbj|AB082923.1| Homo sapiens mRNA for P53, complete cds\\n', 'CGTGCTTTCCACGACGGTGACACGCTTCCCTGGATTGGCCAGACTGCCTTCCGGGTCACTGCCATGGAGG\\n', 'AGCCGCAGTCAGATCCTAGCGTCGAGCCCCCTCTGAGTCAGGAAACATTTTCAGACCTATGGAAACTACT\\n', 'TCCTGAAAACAACGTTCTGTCCCCCTTGCCGTCCCAAGCAATGGATGATTTGATGCTGTCCCCGGACGAT\\n', 'ATTGAACAATGGTTCACTGAAGACCCAGGTCCAGATGAAGCTCCCAGAATGCCAGAGGCTGCTCCCCGCG\\n', 'TGGCCCCTGCACCAGCAGCTCCTACACCGGCGGCCCCTGCACCAGCCCCCTCCTGGCCCCTGTCATCTTC\\n', 'TGTCCCTTCCCAGAAAACCTACCAGGGCAGCTACGGTTTCCGTCTGGGCTTCTTGCATTCTGGGACAGCC\\n', 'AAGTCTGTGACTTGCACGTACTCCCCTGCCCTCAACAAGATGTTTTGCCAACTGGCCAAGACCTGCCCTG\\n', 'TGCAGCTGTGGGTTGATTCCACACCCCCGCCCGGCACCCGCGTCCGCGCCATGGCCATCTACAAGCAGTC\\n', 'ACAGCACATGACGGAGGTTGTGAGGCGCTGCCCCCACCATGAGCGCTGCTCAGATAGCGATGGTCTGGCC\\n', 'CCTCCTCAGCATCTTATCCGAGTGGAAGGAAATTTGCGTGTGGAGTATTTGGATGACAGAAACACTTTTC\\n', 'GACATAGTGTGGTGGTGCCCTATGAGCCGCCTGAGGTTGGCTCTGACTGTACCACCATCCACTACAACTA\\n', 'CATGTGTAACAGTTCCTGCATGGGCGGCATGAACCGGAGGCCCATCCTCACCATCATCACACTGGAAGAC\\n', 'TCCAGTGGTAATCTACTGGGACGGAACAGCTTTGAGGTGCATGTTTGTGCCTGTCCTGGGAGAGACCGGC\\n', 'GCACAGAGGAAGAGAATCTCCGCAAGAAAGGGGAGCCTCACCACGAGCTGCCCCCAGGGAGCACTAAGCG\\n', 'AGCACTGTCCAACAACACCAGCTCCTCTCCCCAGCCAAAGAAGAAACCACTGGATGGAGAATATTTCACC\\n', 'CTTCAGATCCGTGGGCGTGAGCGCTTCGAGATGTTCCGAGAGCTGAATGAGGCCTTGGAACTCAAGGATG\\n', 'CCCAGGCTGGGAAGGAGCCAGGGGGGAGCAGGGCTCACTCCAGCCACCTGAAGTCCAAAAAGGGTCAGTC\\n', 'TACCTCCCGCCATAAAAAACTCATGTTCAAGACAGAAGGGCCTGACTCAGACTGACATTCTCCACTTCTT\\n', 'GTTCCCCACTGACAGCCTCCCACCCCCATCTCTCCCTCCCCTGCCATTTTGGGTTTTGGGTCTTTGAACC\\n', 'CTTGCTTGCAATAGGTGTGCGTCAGAAGCACCCAGGACTTCCATTTGCTTTGTCCCGGGGCTCCACTGAA\\n', 'CAAGTTGGCCTGCACTGGTGTTTTGTTGTGGGGAGGAGGATGGGGAGTAGGACATACCAGCTTAGATTTT\\n', 'AAGGTTTTTACTGTGAGGGATGTTTGGGAGATGTAAGAAATGTTCTTGCAGTTAAGGGTTAGTTTACAAT\\n', 'CAGCCACATTCTAGGTAGGGGCCCACTTCACCGTACTAACCAGGGAAGCTGTCCCTCACTGTTGAATTTT\\n', 'CTCTAACTTCAAGGCCCATATCTGTGAAATGCTGGCATTTGCACCTACCTCACAGAGTGCATTGTGAGGG\\n', 'TTAATGAAATAATGTACATCTGGCCTTGAAACCACCTTTTATTACATGGGGTCTAGAACTTGACCCCCTT\\n', 'GAGGGTGCTTGTTCCCTCTCCCTGTTGGTCGGTGGGTTGGTAGTTTCTACAGTTGGGCAGCTGGTTAGGT\\n', 'AGAGGGAGTTGTCAAGTCTCTGCTGGCCCAGCCAAACCCTGTCTGACAACCTCTTGGTGAACCTTAGTAC\\n', 'CTAAAAGGAAATCTCACCCCATCCCACACCCTGGAGGATTTCATCTCTTGTATATGATGATCTGGATCCA\\n', 'CCAAGACTTGTTTTATGCTCAGGGTCAATTTCTTTTTTCTTTTTTTTTTTTTTTTTCTTTTTCTTTGAGA\\n', 'CTGGGTCTCGCTTTGTTGCCCAGGCTGGAGTGGAGTGGCGTGATCTTGGCTTACTGCAGCCTTTGCCTCC\\n', 'CCGGCTCGAGCAGTCCTGCCTCAGCCTCCGGAGTAGCTGGGACCACAGGTTCATGCCACCATGGCCAGCC\\n', 'AACTTTTGCATGTTTTGTAGAGATGGGGTCTCACAGTGTTGCCCAGGCTGGTCTCAAACTCCTGGGCTCA\\n', 'GGCGATCCACCTGTCTCAGCCTCCCAGAGTGCTGGGATTACAATTGTGAGCCACCACGTCCAGCTGGAAG\\n', 'GGTCAACATCTTTTACATTCTGCAAGCACATCTGCATTTTCACCCCACCCTTCCCCTCCTTCTCCCTTTT\\n', 'TATATCCCATTTTTATATCGATCTCTTATTTTACAATAAAACTTTGCTGCCAAAAAAAAAAAAAAAAAAA\\n', 'A']\n"
       ]
      }
     ],
     "prompt_number": 9
    },
    {
     "cell_type": "markdown",
     "metadata": {},
     "source": [
      "Copy, paste and save the following text as sequences.txt to use in example 6.11\n",
      "\n",
      "<code>\n",
      "\\>gi|gene1\n",
      "ATGAGACGTAGTGCCAGTAGCGCGATGTAGCG\n",
      "ATGACGCATGACGCGCGACGCGCGAGTGAGCC\n",
      "ATACGCACGCATTGGCA\n",
      "\\>gi|gene2\n",
      "ATGTTCGACGCATACGACGCGCAGTACCAGCA\n",
      "ATGACGCACCGGGATACACGACGCGGATTTTT\n",
      "ACGCACCGAGATAGCATAAAAGACCATTAG\n",
      "\\>gi|gene3\n",
      "TTATGGCACCCACTAGAGCCAGATTATTTTAAA\n",
      "GGGATACACGACGCGGATTTTT\n",
      "</code>"
     ]
    },
    {
     "cell_type": "code",
     "collapsed": false,
     "input": [
      "#!/usr/bin/env python\n",
      "\n",
      "# Example 6.10\n",
      "# Name: mRNA_readline_list.py\n",
      "# Description: A program to read a mRNA sequence into a list\n",
      "\n",
      "current_GenBank_ID = ''\n",
      "dict_fasta = {}          # Make an empty dictionary of genes\n",
      "\n",
      "# Open the file\n",
      "inputfile = open('sequences.fasta', 'r')\n",
      "\n",
      "# Read the first lines into list and remove the new line\n",
      "mRNA_list = inputfile.readlines()\n",
      "\n",
      "for line in mRNA_list :\n",
      "    # Clear out leading/trailing whitespace (e.g. '\\n')\n",
      "    line = line.strip()\n",
      "    \n",
      "    # Check to see if the line is a fasta header\n",
      "    if line.startswith(\">\") :\n",
      "        \n",
      "        # Next split the fasta header into a list based on |\n",
      "        fasta_list = line.split('|');\n",
      "\n",
      "        # Get the GenBank_ID\n",
      "        current_GenBank_ID = fasta_list[1]\n",
      "        \n",
      "        # Add the GenBank_ID to the dictionary\n",
      "        dict_fasta[current_GenBank_ID] = \"\"\n",
      "        \n",
      "    else :\n",
      "        # Add the sequence as values to the GenBank ID\n",
      "        dict_fasta[current_GenBank_ID] += line\n",
      "\n",
      "# Print the dictionary of fasta sequences\n",
      "print dict_fasta\n",
      "\n",
      "# Close the file\n",
      "inputfile.close()\n"
     ],
     "language": "python",
     "metadata": {},
     "outputs": [
      {
       "output_type": "stream",
       "stream": "stdout",
       "text": [
        "{'gene1': 'ATGAGACGTAGTGCCAGTAGCGCGATGTAGCGATGACGCATGACGCGCGACGCGCGAGTGAGCCATACGCACGCATTGGCA', 'gene2': 'ATGTTCGACGCATACGACGCGCAGTACCAGCAATGACGCACCGGGATACACGACGCGGATTTTTACGCACCGAGATAGCATAAAAGACCATTAG', 'gene3': 'TTATGGCACCCACTAGAGCCAGATTATTTTAAAGGGATACACGACGCGGATTTTT'}\n"
       ]
      }
     ],
     "prompt_number": 10
    },
    {
     "cell_type": "markdown",
     "metadata": {},
     "source": [
      "## 6.3 Working with CSV and tab files\n",
      "\n",
      "The CSV (Comma Separated Values) and tab formats are the most common import and export format for spreadsheets and databases.  Copy, paste and save the following text as gene_exp.csv to use in the below example.\n",
      "\n",
      "<code>\n",
      "Gene1,10,11,12\n",
      "Gene2,3,4,5\n",
      "Gene3,6,12,18\n",
      "Gene4,1,5,10\n",
      "</code>"
     ]
    },
    {
     "cell_type": "code",
     "collapsed": false,
     "input": [
      "#!/usr/bin/env python\n",
      "\n",
      "# Example 6.11\n",
      "# Name: read_csv.py\n",
      "# Description: A program to read a CSV file and to make a dictionary based on gene names\n",
      "\n",
      "current_GeneBank_ID = ''\n",
      "dict_genes = {}          # Make an empty dictionary of genes\n",
      "\n",
      "# Open the file\n",
      "inputfile = open('gene_exp.csv', 'r')\n",
      "\n",
      "# Read the first lines into list and remove the new line\n",
      "inputfile_list = inputfile.readlines()\n",
      "\n",
      "for line in inputfile_list :\n",
      "    # Clear out leading/trailing whitespace (e.g. '\\n')\n",
      "    line = line.strip()\n",
      "\n",
      "    # Next split the fasta header into a list based on , use '\\t' for tab files\n",
      "    gene_list = line.split(',');\n",
      "\n",
      "    # Get the gene name and remove it from the list\n",
      "    gene_name = gene_list.pop(0)\n",
      "        \n",
      "    # Add the GenBank_ID to the dictionary\n",
      "    dict_genes[gene_name] = gene_list\n",
      "\n",
      "# Print the dictionary of gene expression values\n",
      "print dict_genes\n",
      "\n",
      "# Close the file\n",
      "inputfile.close()"
     ],
     "language": "python",
     "metadata": {},
     "outputs": [
      {
       "output_type": "stream",
       "stream": "stdout",
       "text": [
        "{'Gene1': ['10', '11', '12'], 'Gene2': ['3', '4', '5'], 'Gene3': ['6', '12', '18'], 'Gene4': ['1', '5', '10']}\n"
       ]
      }
     ],
     "prompt_number": 11
    },
    {
     "cell_type": "markdown",
     "metadata": {},
     "source": [
      "## Exercises\n",
      "\n",
      "1. Write a program that finds each codon in the first reading frame for the DNA sequence 'AATTATCATGAAAAATGGTAGTGGTCGTGTGACTGAATTTCCTTTATGGTGGTCCTAAATTGAAATTGCCCT'. Then uses a dictionary to find the amino acid corresponding to the codon. Print out the string of amino acids using the one letter abbreviation.\n",
      "\n",
      "2. Write a program to input a tab or csv file of 10 names and phone numbers and prompts the user look up a name and then returns to the user the phone number. \n",
      "\n",
      "3. Download the complete set of predicted proteins for Clostridium phytofermentans from NCBI - ftp://ftp.ncbi.nlm.nih.gov/genomes/Bacteria/Clostridium_phytofermentans_ISDg_uid58519/NC_010001.faa.  Write a program that creates a dictionary with the GenBank ID as the key and the protein sequence as the value.  Then calculate the protein length and net charge using your algorithm from Excercise 3.3 for each protein.  Print the results as a csv file with GenBank ID, protein length and hydrophobicity.  Make sure that you can open your file in a spreadsheet program such as Excel or Calc."
     ]
    },
    {
     "cell_type": "markdown",
     "metadata": {},
     "source": [
      "* Next - <a href=\"http://nbviewer.ipython.org/urls/raw.github.com/jeffreyblanchard/AdvGen/master/Session7.ipynb\">Session 7 : Functions and Modules</a>\n",
      "* Previous - <a href=\"http://nbviewer.ipython.org/urls/raw.github.com/jeffreyblanchard/AdvGen/master/Session5.ipynb\">Session 5 - Random Mutations</a> "
     ]
    }
   ],
   "metadata": {}
  }
 ]
}