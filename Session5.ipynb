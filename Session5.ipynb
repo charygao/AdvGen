{
 "metadata": {
  "name": "Session5"
 },
 "nbformat": 3,
 "nbformat_minor": 0,
 "worksheets": [
  {
   "cells": [
    {
     "cell_type": "markdown",
     "metadata": {},
     "source": [
      "# Session 5 - Random Mutations\n",
      "\n",
      "## Learning Objectives\n",
      "\n",
      "* Model mutation with random numbers by learning how to randomly select a nucleotide in DNA and then mutate it to some other (random) nucleotide.\n",
      "* Use random numbers to generate DNA sequence data sets, which can be used to study the extent of randomness in actual genomes.\n",
      "* Repeatedly mutate DNA to study the effect of mutations accumulating over time during evolution.\n",
      "* Learn how to enter filenames and data on the command line\n",
      "\n",
      "### Simulation\n",
      "Most of our labs in this course are driven by data, but simulation is one of the major tools of computational research. How do we know if our motif or any other pattern may have biological significance? The first step is to determine if it occurs more frequently than expected in a randomized set of sequences or other data. Simulation studies are already an important part of ecology, epidemiology and evolution where models are needed to predict trajectories of environmental change and where simulation studies are used to test theory that is not testable by current laboratory methods. Increasingly simulation is used in the study of basic cellular processes, like the cell cycle and protein export and it is an important tool in the growing field of Systems Biology in which computer models of cells and organisms are being developed to understand and predict drug response. In many of these models mutation is a fundamental component.\n",
      "\n",
      "### Random Number Generators\n",
      "\n",
      "A random number generator generates a sequence of numbers or symbols that lack any pattern, i.e. appear random.  However, the Python and most random number generators are not truly random but rely algorithms for generating a sequence of numbers that approximates the properties of random numbers.  Thus they are often called Pseuorandom number generators.  This is fine for us because we are not developing software for security purposes. "
     ]
    },
    {
     "cell_type": "markdown",
     "metadata": {},
     "source": [
      "## 5.1 Random - generating pseudo-random numbers and patterns\n"
     ]
    },
    {
     "cell_type": "code",
     "collapsed": false,
     "input": [
      "#!/usr/bin/env python\n",
      "\n",
      "# Example 5.1 \n",
      "# Name: random_exercise.py\n",
      "# Description: A program to test randomization methods\n",
      "\n",
      "import random\n",
      "\n",
      "# Random - returns a floating point number in the range [0, 1) \n",
      "# (that is, between 0 and 1, including 0.0 but always smaller than 1.0).\n",
      "a = random.random()\n",
      "print \"return of random.random =\", a\n",
      "\n",
      "# Randint - returns a random integer N such that a <= N <= b. \n",
      "b = random.randint(1,3)\n",
      "print \"return of random.randint =\", b\n",
      "\n",
      "# Randrange - returns a random integer N such that a <= N < b. \n",
      "c = random.randrange(1,3)\n",
      "print \"return of random.randrange =\", c\n",
      "\n",
      "# Randrange - returns a random integer N such that a <= N < b using a step \n",
      "# random.randrange(start, stop[, step])\n",
      "d = random.randrange(0,10,5)\n",
      "print \"return of random.randrange =\", d\n",
      "\n",
      "# Choice - returns a random element from a list.\n",
      "bases = ['A', 'C', 'G', 'T']\n",
      "e = random.choice(bases)\n",
      "print \"return of random.choice =\", e\n",
      "\n",
      "# Shuffle - shuffles elements in a list.\n",
      "bases = ['A', 'C', 'G', 'T']\n",
      "random.shuffle(bases)\n",
      "print \"return of random.shuffle =\", bases\n",
      "\n"
     ],
     "language": "python",
     "metadata": {},
     "outputs": [
      {
       "output_type": "stream",
       "stream": "stdout",
       "text": [
        "return of random.random = 0.3387736767\n",
        "return of random.randint = 1\n",
        "return of random.randrange = 1\n",
        "return of random.randrange = 0\n",
        "return of random.choice = A\n",
        "return of random.shuffle = ['C', 'G', 'T', 'A']\n"
       ]
      }
     ],
     "prompt_number": 1
    },
    {
     "cell_type": "markdown",
     "metadata": {},
     "source": [
      "Rerun Example 5.1 5 times so that you understand the results.  There are also many other specialized generators in this module see http://docs.python.org/2/library/functions.html.   Below are some example programs that use randomization."
     ]
    },
    {
     "cell_type": "code",
     "collapsed": false,
     "input": [
      "#!/usr/bin/env python\n",
      "\n",
      "# Example 5.2\n",
      "# Name: random_DNA_synthesis.py\n",
      "# Description: A program that creates a random piece of DNA \n",
      "# between 10 and 100 nucleotides in length\n",
      "\n",
      "import random\n",
      "\n",
      "length = random.randint(10,100)\n",
      "sequence = ''\n",
      "bases = ['A', 'C', 'G', 'T']\n",
      "for i in range(length):\n",
      "    sequence += random.choice(bases)\n",
      "print sequence"
     ],
     "language": "python",
     "metadata": {},
     "outputs": [
      {
       "output_type": "stream",
       "stream": "stdout",
       "text": [
        "TCAGGTTAACCCCGAGATGGAGGAGGAGCTGGGTGC\n"
       ]
      }
     ],
     "prompt_number": 2
    },
    {
     "cell_type": "code",
     "collapsed": false,
     "input": [
      "#!/usr/bin/env python\n",
      "\n",
      "# Example 5.3\n",
      "# Name: string_to_list.py\n",
      "# Description: An example where a string is turned into a list\n",
      "# and one element is randomly selected\n",
      "\n",
      "import random\n",
      "\n",
      "# A string can be turned into a list with each nucleotide as an item\n",
      "# in the list using the list function\n",
      "DNA = list('ACGTACGTACGTACGTACGT')\n",
      "base = random.choice(DNA)\n",
      "print base"
     ],
     "language": "python",
     "metadata": {},
     "outputs": [
      {
       "output_type": "stream",
       "stream": "stdout",
       "text": [
        "A\n"
       ]
      }
     ],
     "prompt_number": 3
    },
    {
     "cell_type": "code",
     "collapsed": false,
     "input": [
      "#!/usr/bin/env python\n",
      "\n",
      "# Example 5.4\n",
      "# Name: mutate_DNA.py\n",
      "# Description: Create a point mutation in a DNA sequence at a random site\n",
      "\n",
      "import random\n",
      "\n",
      "# A string can be turned into a list with each nucleotide as an item\n",
      "# in the list using the list function\n",
      "\n",
      "original_DNA = 'ACGTACGTACGTACGTACGT'\n",
      "DNA = list(original_DNA)\n",
      "\n",
      "# randomly choose the site to mutate\n",
      "\n",
      "DNA_length = len(DNA)\n",
      "mutation_site = random.randrange(0,DNA_length)\n",
      "\n",
      "# remove the nucleotide \n",
      "original_base = DNA.pop(mutation_site)\n",
      "\n",
      "# randomly choose the new nucleotide \n",
      "# (and make sure the original base is not a candidate)\n",
      "bases = ['A', 'C', 'G', 'T']\n",
      "bases.remove(original_base)\n",
      "new_base = random.choice(bases)\n",
      "\n",
      "# insert the new base at the site\n",
      "DNA.insert(mutation_site, new_base)\n",
      "\n",
      "# turn the DNA list back into a string\n",
      "new_DNA = ''.join(DNA)\n",
      "\n",
      "print DNA_length, mutation_site, original_base, new_base\n",
      "print original_DNA\n",
      "print new_DNA"
     ],
     "language": "python",
     "metadata": {},
     "outputs": [
      {
       "output_type": "stream",
       "stream": "stdout",
       "text": [
        "20 15 T A\n",
        "ACGTACGTACGTACGTACGT\n",
        "ACGTACGTACGTACGAACGT\n"
       ]
      }
     ],
     "prompt_number": 4
    },
    {
     "cell_type": "markdown",
     "metadata": {},
     "source": [
      "We will talk more next week about multiple sequence alignment.  Below is a simple program that works is the 2 sequences are of equal length."
     ]
    },
    {
     "cell_type": "code",
     "collapsed": false,
     "input": [
      " #!/usr/bin/env python\n",
      "\n",
      "# Example 5.5\n",
      "# Name: compare_sequences.py\n",
      "# Description: A program to compare 2 DNA sequences\n",
      "\n",
      "# Intitial values\n",
      "original_DNA = 'ACGTACGTACGTACGTACGT'\n",
      "mutated_DNA = 'ACGTAGGAACGTACGAACGA'\n",
      "alignment = ''\n",
      "mismatches = 0\n",
      "\n",
      "# A loop to compare to 2 sequences\n",
      "# zip is a function that creates a list of  list \n",
      "# (actually tuples of which we will discuss later)\n",
      "# zip and is nice for comparing each between two lists\n",
      "for base1, base2 in zip(original_DNA, mutated_DNA):\n",
      "    if base1 == base2:\n",
      "        alignment += '+'\n",
      "    else:\n",
      "        alignment += '-'\n",
      "        mismatches = mismatches + 1\n",
      "\n",
      "print \"There are %s mismatches\" % (mismatches) \n",
      "print alignment\n",
      "print original_DNA\n",
      "print mutated_DNA"
     ],
     "language": "python",
     "metadata": {},
     "outputs": [
      {
       "output_type": "stream",
       "stream": "stdout",
       "text": [
        "There are 4 mismatches\n",
        "+++++-+-+++++++-+++-\n",
        "ACGTACGTACGTACGTACGT\n",
        "ACGTAGGAACGTACGAACGA\n"
       ]
      }
     ],
     "prompt_number": 5
    },
    {
     "cell_type": "markdown",
     "metadata": {},
     "source": [
      "## 5.2 Command line arguments\n",
      "\n",
      "\n",
      "If you are writing a program to be used as part of a workflow then it is much easier to specify the file or input values for a program on the command line.  For example\n",
      "\n",
      "<code>\n",
      "python command_line_arguments.py p53_mRNA.txt 10\n",
      "</code>\n",
      "\n",
      "The items on the command line are called arguments and are separated by a space (this is one good reason to avoid spaces in file names). If you do have a space in your filename you will need to use single quotes in the argument on the command line (i.e. 'p53 mRNA.txt').  In Python, command line arguments are stored in the list sys.argv. In the above example p53_mRNA.txt is the second argument and 10 is the third argument.  It is good practice to add a few more lines of code at the beginning of your program related to the usage of the program.  To work with arguments we need to import the sys module first."
     ]
    },
    {
     "cell_type": "code",
     "collapsed": false,
     "input": [
      " #!/usr/bin/env python\n",
      "\n",
      "# Example 5.6\n",
      "# Name: command_line_arguments.py\n",
      "# Description: A program to test command line arguments\n",
      "# Usage: python command_line_arguments.py filename value \n",
      "# Example: python command_line_arguments.py p53_mRNA.fasta 10\n",
      "\n",
      "import sys\n",
      "\n",
      "print sys.argv[0]\n",
      "print sys.argv[1]\n",
      "print sys.argv[2]\n"
     ],
     "language": "python",
     "metadata": {},
     "outputs": [
      {
       "output_type": "stream",
       "stream": "stdout",
       "text": [
        "-c\n",
        "-f\n",
        "/home/jlb/.config/ipython/profile_default/security/kernel-80800dd5-0ef0-4ae6-8cb7-fd0ca60d17e4.json\n"
       ]
      }
     ],
     "prompt_number": 6
    },
    {
     "cell_type": "markdown",
     "metadata": {},
     "source": [
      "<code>\n",
      "command_line_arguments.py\n",
      "p53_mRNA.fasta\n",
      "10\n",
      "</code>"
     ]
    },
    {
     "cell_type": "markdown",
     "metadata": {},
     "source": [
      "### All arguments are input to the program as strings so be careful and make sure you transform them to integers or floating point numbers"
     ]
    },
    {
     "cell_type": "code",
     "collapsed": false,
     "input": [
      " #!/usr/bin/env python\n",
      "\n",
      "# Example 5.7\n",
      "# Name: command_line_arguments2.py\n",
      "# Description: A program to test command line arguments\n",
      "# Usage: python command_line_arguments.py value \n",
      "# Example: python command_line_arguments.py 10\n",
      "\n",
      "import sys\n",
      "\n",
      "# Arguments are captured as strings so we need to turn this argument\n",
      "# into an integer\n",
      "x = int(sys.argv[1])\n",
      "\n",
      "y = 5\n",
      "\n",
      "print x + y\n",
      "\n"
     ],
     "language": "python",
     "metadata": {},
     "outputs": []
    },
    {
     "cell_type": "markdown",
     "metadata": {},
     "source": [
      "<code>\n",
      "15\n",
      "</code>"
     ]
    },
    {
     "cell_type": "markdown",
     "metadata": {},
     "source": [
      "Here is a revision of example 3.2 that also includes a check to make sure that there are the right number of arguments.  It is good to include this statement in all programs which take command line arguments."
     ]
    },
    {
     "cell_type": "code",
     "collapsed": false,
     "input": [
      "#!/usr/bin/env python\n",
      "\n",
      "# Example 5.8\n",
      "# Name: read_mRNA_file2.py\n",
      "# Description: A revision of example 3.2 a program \n",
      "#              to read a mRNA sequence from a file and print it out\n",
      "# Usage: python read_mRNA_file2.py filename \n",
      "# Example: python read_mRNA_file2.py p53_mRNA.fasta\n",
      "\n",
      "import sys\n",
      "\n",
      "# Add a check to see if there is the right number of arguments \n",
      "# Exit if there is not the correct number\n",
      "if len(sys.argv) != 2 :\n",
      "\tprint \"This program takes a filename as an argumnet\"\n",
      "\tsys.exit(2)\n",
      "    \n",
      "# Open the file\n",
      "fh = open(sys.argv[1], 'r')\n",
      "\n",
      "# Read the file into a variable or list\n",
      "mRNA = fh.read()\n",
      "\n",
      "# Close the file\n",
      "fh.close()\n",
      "\n",
      "print mRNA"
     ],
     "language": "python",
     "metadata": {},
     "outputs": []
    },
    {
     "cell_type": "markdown",
     "metadata": {},
     "source": [
      "<code>\n",
      ">gi|23491728|dbj|AB082923.1| Homo sapiens mRNA for P53, complete cds\n",
      "CGTGCTTTCCACGACGGTGACACGCTTCCCTGGATTGGCCAGACTGCCTTCCGGGTCACTGCCATGGAGG\n",
      "AGCCGCAGTCAGATCCTAGCGTCGAGCCCCCTCTGAGTCAGGAAACATTTTCAGACCTATGGAAACTACT\n",
      "TCCTGAAAACAACGTTCTGTCCCCCTTGCCGTCCCAAGCAATGGATGATTTGATGCTGTCCCCGGACGAT\n",
      "ATTGAACAATGGTTCACTGAAGACCCAGGTCCAGATGAAGCTCCCAGAATGCCAGAGGCTGCTCCCCGCG\n",
      "TGGCCCCTGCACCAGCAGCTCCTACACCGGCGGCCCCTGCACCAGCCCCCTCCTGGCCCCTGTCATCTTC\n",
      "TGTCCCTTCCCAGAAAACCTACCAGGGCAGCTACGGTTTCCGTCTGGGCTTCTTGCATTCTGGGACAGCC\n",
      "AAGTCTGTGACTTGCACGTACTCCCCTGCCCTCAACAAGATGTTTTGCCAACTGGCCAAGACCTGCCCTG\n",
      "TGCAGCTGTGGGTTGATTCCACACCCCCGCCCGGCACCCGCGTCCGCGCCATGGCCATCTACAAGCAGTC\n",
      "ACAGCACATGACGGAGGTTGTGAGGCGCTGCCCCCACCATGAGCGCTGCTCAGATAGCGATGGTCTGGCC\n",
      "CCTCCTCAGCATCTTATCCGAGTGGAAGGAAATTTGCGTGTGGAGTATTTGGATGACAGAAACACTTTTC\n",
      "GACATAGTGTGGTGGTGCCCTATGAGCCGCCTGAGGTTGGCTCTGACTGTACCACCATCCACTACAACTA\n",
      "CATGTGTAACAGTTCCTGCATGGGCGGCATGAACCGGAGGCCCATCCTCACCATCATCACACTGGAAGAC\n",
      "TCCAGTGGTAATCTACTGGGACGGAACAGCTTTGAGGTGCATGTTTGTGCCTGTCCTGGGAGAGACCGGC\n",
      "GCACAGAGGAAGAGAATCTCCGCAAGAAAGGGGAGCCTCACCACGAGCTGCCCCCAGGGAGCACTAAGCG\n",
      "AGCACTGTCCAACAACACCAGCTCCTCTCCCCAGCCAAAGAAGAAACCACTGGATGGAGAATATTTCACC\n",
      "CTTCAGATCCGTGGGCGTGAGCGCTTCGAGATGTTCCGAGAGCTGAATGAGGCCTTGGAACTCAAGGATG\n",
      "CCCAGGCTGGGAAGGAGCCAGGGGGGAGCAGGGCTCACTCCAGCCACCTGAAGTCCAAAAAGGGTCAGTC\n",
      "TACCTCCCGCCATAAAAAACTCATGTTCAAGACAGAAGGGCCTGACTCAGACTGACATTCTCCACTTCTT\n",
      "GTTCCCCACTGACAGCCTCCCACCCCCATCTCTCCCTCCCCTGCCATTTTGGGTTTTGGGTCTTTGAACC\n",
      "CTTGCTTGCAATAGGTGTGCGTCAGAAGCACCCAGGACTTCCATTTGCTTTGTCCCGGGGCTCCACTGAA\n",
      "CAAGTTGGCCTGCACTGGTGTTTTGTTGTGGGGAGGAGGATGGGGAGTAGGACATACCAGCTTAGATTTT\n",
      "AAGGTTTTTACTGTGAGGGATGTTTGGGAGATGTAAGAAATGTTCTTGCAGTTAAGGGTTAGTTTACAAT\n",
      "CAGCCACATTCTAGGTAGGGGCCCACTTCACCGTACTAACCAGGGAAGCTGTCCCTCACTGTTGAATTTT\n",
      "CTCTAACTTCAAGGCCCATATCTGTGAAATGCTGGCATTTGCACCTACCTCACAGAGTGCATTGTGAGGG\n",
      "TTAATGAAATAATGTACATCTGGCCTTGAAACCACCTTTTATTACATGGGGTCTAGAACTTGACCCCCTT\n",
      "GAGGGTGCTTGTTCCCTCTCCCTGTTGGTCGGTGGGTTGGTAGTTTCTACAGTTGGGCAGCTGGTTAGGT\n",
      "AGAGGGAGTTGTCAAGTCTCTGCTGGCCCAGCCAAACCCTGTCTGACAACCTCTTGGTGAACCTTAGTAC\n",
      "CTAAAAGGAAATCTCACCCCATCCCACACCCTGGAGGATTTCATCTCTTGTATATGATGATCTGGATCCA\n",
      "CCAAGACTTGTTTTATGCTCAGGGTCAATTTCTTTTTTCTTTTTTTTTTTTTTTTTCTTTTTCTTTGAGA\n",
      "CTGGGTCTCGCTTTGTTGCCCAGGCTGGAGTGGAGTGGCGTGATCTTGGCTTACTGCAGCCTTTGCCTCC\n",
      "CCGGCTCGAGCAGTCCTGCCTCAGCCTCCGGAGTAGCTGGGACCACAGGTTCATGCCACCATGGCCAGCC\n",
      "AACTTTTGCATGTTTTGTAGAGATGGGGTCTCACAGTGTTGCCCAGGCTGGTCTCAAACTCCTGGGCTCA\n",
      "GGCGATCCACCTGTCTCAGCCTCCCAGAGTGCTGGGATTACAATTGTGAGCCACCACGTCCAGCTGGAAG\n",
      "GGTCAACATCTTTTACATTCTGCAAGCACATCTGCATTTTCACCCCACCCTTCCCCTCCTTCTCCCTTTT\n",
      "TATATCCCATTTTTATATCGATCTCTTATTTTACAATAAAACTTTGCTGCCAAAAAAAAAAAAAAAAAAA\n",
      "A\n",
      "</code>"
     ]
    },
    {
     "cell_type": "markdown",
     "metadata": {},
     "source": [
      "## Exercises\n",
      "\n",
      "1. Write a program that includes a single nucleotide insertion or deletion as mutation possibility along with nucleotide substitions (i.e. substitions = ['A', 'C', 'G', 'T', 'i', 'd']) then either inserts or deletes a random nucleotide.\n",
      "\n",
      "2. Write a program that mutates a DNA sequence 10 times and prints the resulting sequence.\n",
      "\n",
      "3. Write a program that generates 3 DNA fragments 50 bases long, but with random nucleotides then aligns the sequences and notes the differences as example 5.6.\n",
      "\n",
      "4. Write a program that inputs the p53 sequence and mutates it the number of times specified on the command line. \n",
      "\n",
      "\n",
      "    "
     ]
    },
    {
     "cell_type": "markdown",
     "metadata": {},
     "source": [
      "* Next - <a href=\"http://nbviewer.ipython.org/urls/raw.github.com/jeffreyblanchard/AdvGen/master/Session6.ipynb\">Session 6 : Dictionaries and Working with Fasta Files</a>\n",
      "* Previous - <a href=\"http://nbviewer.ipython.org/urls/raw.github.com/jeffreyblanchard/AdvGen/master/Session4.ipynb\">Session 4 : Lists and Regular Expressions</a> "
     ]
    }
   ],
   "metadata": {}
  }
 ]
}